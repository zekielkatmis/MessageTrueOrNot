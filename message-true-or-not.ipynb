{
 "cells": [
  {
   "cell_type": "markdown",
   "metadata": {
    "papermill": {
     "duration": 0.054743,
     "end_time": "2021-01-03T18:08:08.460565",
     "exception": false,
     "start_time": "2021-01-03T18:08:08.405822",
     "status": "completed"
    },
    "tags": []
   },
   "source": [
    "# Introduction\n",
    "\n",
    "It has been very difficult to know if the news published on social media in the last few years is true or false. In this analysis, we will determine whether any news on social media is true or false with a data set prepared from Twitter.\n",
    "\n",
    "<font color = \"blue\">\n",
    "Content:\n",
    "\n",
    "1. [Load and Check Data](#1)\n",
    "2. [Exploring Data](#2)\n",
    "    * [Tweet Location](#3)\n",
    "        - [In Test Data](#4)\n",
    "        - [Label Encoding location column](#5)\n",
    "    * [Keywords](#6)\n",
    "        - [In Test Data](#7)\n",
    "    * [Intersection](#8)\n",
    "    * [Text Analysis](#9)\n",
    "    \n",
    "3. [Topic Modeling](#10)\n",
    "    * [Latent Dirichlet Allocation (LDA)](#11)\n",
    "    * [Part-of-Speech Tagging for questions](#12)\n",
    "\n",
    "4. [Preprocessing](#13)\n",
    "    * [Latent Semantic Analysis (LSA)](#14)\n",
    "    * [Latent Dirichlet Allocation (LDA)](#15)\n",
    "    \n",
    "5. [Visualization of LDA](#16)\n",
    "    * [Creating a transformation](#17)\n",
    "    "
   ]
  },
  {
   "cell_type": "code",
   "execution_count": 1,
   "metadata": {
    "_cell_guid": "b1076dfc-b9ad-4769-8c92-a6c4dae69d19",
    "_uuid": "8f2839f25d086af736a60e9eeb907d3b93b6e0e5",
    "execution": {
     "iopub.execute_input": "2021-01-03T18:08:08.569954Z",
     "iopub.status.busy": "2021-01-03T18:08:08.569273Z",
     "iopub.status.idle": "2021-01-03T18:08:11.461896Z",
     "shell.execute_reply": "2021-01-03T18:08:11.460800Z"
    },
    "papermill": {
     "duration": 2.94861,
     "end_time": "2021-01-03T18:08:11.462014",
     "exception": false,
     "start_time": "2021-01-03T18:08:08.513404",
     "status": "completed"
    },
    "tags": []
   },
   "outputs": [
    {
     "data": {
      "text/html": [
       "\n",
       "    <div class=\"bk-root\">\n",
       "        <a href=\"https://bokeh.org\" target=\"_blank\" class=\"bk-logo bk-logo-small bk-logo-notebook\"></a>\n",
       "        <span id=\"1001\">Loading BokehJS ...</span>\n",
       "    </div>"
      ]
     },
     "metadata": {},
     "output_type": "display_data"
    },
    {
     "data": {
      "application/javascript": [
       "\n",
       "(function(root) {\n",
       "  function now() {\n",
       "    return new Date();\n",
       "  }\n",
       "\n",
       "  var force = true;\n",
       "\n",
       "  if (typeof root._bokeh_onload_callbacks === \"undefined\" || force === true) {\n",
       "    root._bokeh_onload_callbacks = [];\n",
       "    root._bokeh_is_loading = undefined;\n",
       "  }\n",
       "\n",
       "  var JS_MIME_TYPE = 'application/javascript';\n",
       "  var HTML_MIME_TYPE = 'text/html';\n",
       "  var EXEC_MIME_TYPE = 'application/vnd.bokehjs_exec.v0+json';\n",
       "  var CLASS_NAME = 'output_bokeh rendered_html';\n",
       "\n",
       "  /**\n",
       "   * Render data to the DOM node\n",
       "   */\n",
       "  function render(props, node) {\n",
       "    var script = document.createElement(\"script\");\n",
       "    node.appendChild(script);\n",
       "  }\n",
       "\n",
       "  /**\n",
       "   * Handle when an output is cleared or removed\n",
       "   */\n",
       "  function handleClearOutput(event, handle) {\n",
       "    var cell = handle.cell;\n",
       "\n",
       "    var id = cell.output_area._bokeh_element_id;\n",
       "    var server_id = cell.output_area._bokeh_server_id;\n",
       "    // Clean up Bokeh references\n",
       "    if (id != null && id in Bokeh.index) {\n",
       "      Bokeh.index[id].model.document.clear();\n",
       "      delete Bokeh.index[id];\n",
       "    }\n",
       "\n",
       "    if (server_id !== undefined) {\n",
       "      // Clean up Bokeh references\n",
       "      var cmd = \"from bokeh.io.state import curstate; print(curstate().uuid_to_server['\" + server_id + \"'].get_sessions()[0].document.roots[0]._id)\";\n",
       "      cell.notebook.kernel.execute(cmd, {\n",
       "        iopub: {\n",
       "          output: function(msg) {\n",
       "            var id = msg.content.text.trim();\n",
       "            if (id in Bokeh.index) {\n",
       "              Bokeh.index[id].model.document.clear();\n",
       "              delete Bokeh.index[id];\n",
       "            }\n",
       "          }\n",
       "        }\n",
       "      });\n",
       "      // Destroy server and session\n",
       "      var cmd = \"import bokeh.io.notebook as ion; ion.destroy_server('\" + server_id + \"')\";\n",
       "      cell.notebook.kernel.execute(cmd);\n",
       "    }\n",
       "  }\n",
       "\n",
       "  /**\n",
       "   * Handle when a new output is added\n",
       "   */\n",
       "  function handleAddOutput(event, handle) {\n",
       "    var output_area = handle.output_area;\n",
       "    var output = handle.output;\n",
       "\n",
       "    // limit handleAddOutput to display_data with EXEC_MIME_TYPE content only\n",
       "    if ((output.output_type != \"display_data\") || (!output.data.hasOwnProperty(EXEC_MIME_TYPE))) {\n",
       "      return\n",
       "    }\n",
       "\n",
       "    var toinsert = output_area.element.find(\".\" + CLASS_NAME.split(' ')[0]);\n",
       "\n",
       "    if (output.metadata[EXEC_MIME_TYPE][\"id\"] !== undefined) {\n",
       "      toinsert[toinsert.length - 1].firstChild.textContent = output.data[JS_MIME_TYPE];\n",
       "      // store reference to embed id on output_area\n",
       "      output_area._bokeh_element_id = output.metadata[EXEC_MIME_TYPE][\"id\"];\n",
       "    }\n",
       "    if (output.metadata[EXEC_MIME_TYPE][\"server_id\"] !== undefined) {\n",
       "      var bk_div = document.createElement(\"div\");\n",
       "      bk_div.innerHTML = output.data[HTML_MIME_TYPE];\n",
       "      var script_attrs = bk_div.children[0].attributes;\n",
       "      for (var i = 0; i < script_attrs.length; i++) {\n",
       "        toinsert[toinsert.length - 1].firstChild.setAttribute(script_attrs[i].name, script_attrs[i].value);\n",
       "        toinsert[toinsert.length - 1].firstChild.textContent = bk_div.children[0].textContent\n",
       "      }\n",
       "      // store reference to server id on output_area\n",
       "      output_area._bokeh_server_id = output.metadata[EXEC_MIME_TYPE][\"server_id\"];\n",
       "    }\n",
       "  }\n",
       "\n",
       "  function register_renderer(events, OutputArea) {\n",
       "\n",
       "    function append_mime(data, metadata, element) {\n",
       "      // create a DOM node to render to\n",
       "      var toinsert = this.create_output_subarea(\n",
       "        metadata,\n",
       "        CLASS_NAME,\n",
       "        EXEC_MIME_TYPE\n",
       "      );\n",
       "      this.keyboard_manager.register_events(toinsert);\n",
       "      // Render to node\n",
       "      var props = {data: data, metadata: metadata[EXEC_MIME_TYPE]};\n",
       "      render(props, toinsert[toinsert.length - 1]);\n",
       "      element.append(toinsert);\n",
       "      return toinsert\n",
       "    }\n",
       "\n",
       "    /* Handle when an output is cleared or removed */\n",
       "    events.on('clear_output.CodeCell', handleClearOutput);\n",
       "    events.on('delete.Cell', handleClearOutput);\n",
       "\n",
       "    /* Handle when a new output is added */\n",
       "    events.on('output_added.OutputArea', handleAddOutput);\n",
       "\n",
       "    /**\n",
       "     * Register the mime type and append_mime function with output_area\n",
       "     */\n",
       "    OutputArea.prototype.register_mime_type(EXEC_MIME_TYPE, append_mime, {\n",
       "      /* Is output safe? */\n",
       "      safe: true,\n",
       "      /* Index of renderer in `output_area.display_order` */\n",
       "      index: 0\n",
       "    });\n",
       "  }\n",
       "\n",
       "  // register the mime type if in Jupyter Notebook environment and previously unregistered\n",
       "  if (root.Jupyter !== undefined) {\n",
       "    var events = require('base/js/events');\n",
       "    var OutputArea = require('notebook/js/outputarea').OutputArea;\n",
       "\n",
       "    if (OutputArea.prototype.mime_types().indexOf(EXEC_MIME_TYPE) == -1) {\n",
       "      register_renderer(events, OutputArea);\n",
       "    }\n",
       "  }\n",
       "\n",
       "  \n",
       "  if (typeof (root._bokeh_timeout) === \"undefined\" || force === true) {\n",
       "    root._bokeh_timeout = Date.now() + 5000;\n",
       "    root._bokeh_failed_load = false;\n",
       "  }\n",
       "\n",
       "  var NB_LOAD_WARNING = {'data': {'text/html':\n",
       "     \"<div style='background-color: #fdd'>\\n\"+\n",
       "     \"<p>\\n\"+\n",
       "     \"BokehJS does not appear to have successfully loaded. If loading BokehJS from CDN, this \\n\"+\n",
       "     \"may be due to a slow or bad network connection. Possible fixes:\\n\"+\n",
       "     \"</p>\\n\"+\n",
       "     \"<ul>\\n\"+\n",
       "     \"<li>re-rerun `output_notebook()` to attempt to load from CDN again, or</li>\\n\"+\n",
       "     \"<li>use INLINE resources instead, as so:</li>\\n\"+\n",
       "     \"</ul>\\n\"+\n",
       "     \"<code>\\n\"+\n",
       "     \"from bokeh.resources import INLINE\\n\"+\n",
       "     \"output_notebook(resources=INLINE)\\n\"+\n",
       "     \"</code>\\n\"+\n",
       "     \"</div>\"}};\n",
       "\n",
       "  function display_loaded() {\n",
       "    var el = document.getElementById(\"1001\");\n",
       "    if (el != null) {\n",
       "      el.textContent = \"BokehJS is loading...\";\n",
       "    }\n",
       "    if (root.Bokeh !== undefined) {\n",
       "      if (el != null) {\n",
       "        el.textContent = \"BokehJS \" + root.Bokeh.version + \" successfully loaded.\";\n",
       "      }\n",
       "    } else if (Date.now() < root._bokeh_timeout) {\n",
       "      setTimeout(display_loaded, 100)\n",
       "    }\n",
       "  }\n",
       "\n",
       "\n",
       "  function run_callbacks() {\n",
       "    try {\n",
       "      root._bokeh_onload_callbacks.forEach(function(callback) {\n",
       "        if (callback != null)\n",
       "          callback();\n",
       "      });\n",
       "    } finally {\n",
       "      delete root._bokeh_onload_callbacks\n",
       "    }\n",
       "    console.debug(\"Bokeh: all callbacks have finished\");\n",
       "  }\n",
       "\n",
       "  function load_libs(css_urls, js_urls, callback) {\n",
       "    if (css_urls == null) css_urls = [];\n",
       "    if (js_urls == null) js_urls = [];\n",
       "\n",
       "    root._bokeh_onload_callbacks.push(callback);\n",
       "    if (root._bokeh_is_loading > 0) {\n",
       "      console.debug(\"Bokeh: BokehJS is being loaded, scheduling callback at\", now());\n",
       "      return null;\n",
       "    }\n",
       "    if (js_urls == null || js_urls.length === 0) {\n",
       "      run_callbacks();\n",
       "      return null;\n",
       "    }\n",
       "    console.debug(\"Bokeh: BokehJS not loaded, scheduling load and callback at\", now());\n",
       "    root._bokeh_is_loading = css_urls.length + js_urls.length;\n",
       "\n",
       "    function on_load() {\n",
       "      root._bokeh_is_loading--;\n",
       "      if (root._bokeh_is_loading === 0) {\n",
       "        console.debug(\"Bokeh: all BokehJS libraries/stylesheets loaded\");\n",
       "        run_callbacks()\n",
       "      }\n",
       "    }\n",
       "\n",
       "    function on_error() {\n",
       "      console.error(\"failed to load \" + url);\n",
       "    }\n",
       "\n",
       "    for (var i = 0; i < css_urls.length; i++) {\n",
       "      var url = css_urls[i];\n",
       "      const element = document.createElement(\"link\");\n",
       "      element.onload = on_load;\n",
       "      element.onerror = on_error;\n",
       "      element.rel = \"stylesheet\";\n",
       "      element.type = \"text/css\";\n",
       "      element.href = url;\n",
       "      console.debug(\"Bokeh: injecting link tag for BokehJS stylesheet: \", url);\n",
       "      document.body.appendChild(element);\n",
       "    }\n",
       "\n",
       "    const hashes = {\"https://cdn.bokeh.org/bokeh/release/bokeh-2.2.3.min.js\": \"T2yuo9Oe71Cz/I4X9Ac5+gpEa5a8PpJCDlqKYO0CfAuEszu1JrXLl8YugMqYe3sM\", \"https://cdn.bokeh.org/bokeh/release/bokeh-widgets-2.2.3.min.js\": \"98GDGJ0kOMCUMUePhksaQ/GYgB3+NH9h996V88sh3aOiUNX3N+fLXAtry6xctSZ6\", \"https://cdn.bokeh.org/bokeh/release/bokeh-tables-2.2.3.min.js\": \"89bArO+nlbP3sgakeHjCo1JYxYR5wufVgA3IbUvDY+K7w4zyxJqssu7wVnfeKCq8\"};\n",
       "\n",
       "    for (var i = 0; i < js_urls.length; i++) {\n",
       "      var url = js_urls[i];\n",
       "      var element = document.createElement('script');\n",
       "      element.onload = on_load;\n",
       "      element.onerror = on_error;\n",
       "      element.async = false;\n",
       "      element.src = url;\n",
       "      if (url in hashes) {\n",
       "        element.crossOrigin = \"anonymous\";\n",
       "        element.integrity = \"sha384-\" + hashes[url];\n",
       "      }\n",
       "      console.debug(\"Bokeh: injecting script tag for BokehJS library: \", url);\n",
       "      document.head.appendChild(element);\n",
       "    }\n",
       "  };\n",
       "\n",
       "  function inject_raw_css(css) {\n",
       "    const element = document.createElement(\"style\");\n",
       "    element.appendChild(document.createTextNode(css));\n",
       "    document.body.appendChild(element);\n",
       "  }\n",
       "\n",
       "  \n",
       "  var js_urls = [\"https://cdn.bokeh.org/bokeh/release/bokeh-2.2.3.min.js\", \"https://cdn.bokeh.org/bokeh/release/bokeh-widgets-2.2.3.min.js\", \"https://cdn.bokeh.org/bokeh/release/bokeh-tables-2.2.3.min.js\"];\n",
       "  var css_urls = [];\n",
       "  \n",
       "\n",
       "  var inline_js = [\n",
       "    function(Bokeh) {\n",
       "      Bokeh.set_log_level(\"info\");\n",
       "    },\n",
       "    function(Bokeh) {\n",
       "    \n",
       "    \n",
       "    }\n",
       "  ];\n",
       "\n",
       "  function run_inline_js() {\n",
       "    \n",
       "    if (root.Bokeh !== undefined || force === true) {\n",
       "      \n",
       "    for (var i = 0; i < inline_js.length; i++) {\n",
       "      inline_js[i].call(root, root.Bokeh);\n",
       "    }\n",
       "    if (force === true) {\n",
       "        display_loaded();\n",
       "      }} else if (Date.now() < root._bokeh_timeout) {\n",
       "      setTimeout(run_inline_js, 100);\n",
       "    } else if (!root._bokeh_failed_load) {\n",
       "      console.log(\"Bokeh: BokehJS failed to load within specified timeout.\");\n",
       "      root._bokeh_failed_load = true;\n",
       "    } else if (force !== true) {\n",
       "      var cell = $(document.getElementById(\"1001\")).parents('.cell').data().cell;\n",
       "      cell.output_area.append_execute_result(NB_LOAD_WARNING)\n",
       "    }\n",
       "\n",
       "  }\n",
       "\n",
       "  if (root._bokeh_is_loading === 0) {\n",
       "    console.debug(\"Bokeh: BokehJS loaded, going straight to plotting\");\n",
       "    run_inline_js();\n",
       "  } else {\n",
       "    load_libs(css_urls, js_urls, function() {\n",
       "      console.debug(\"Bokeh: BokehJS plotting callback run at\", now());\n",
       "      run_inline_js();\n",
       "    });\n",
       "  }\n",
       "}(window));"
      ],
      "application/vnd.bokehjs_load.v0+json": "\n(function(root) {\n  function now() {\n    return new Date();\n  }\n\n  var force = true;\n\n  if (typeof root._bokeh_onload_callbacks === \"undefined\" || force === true) {\n    root._bokeh_onload_callbacks = [];\n    root._bokeh_is_loading = undefined;\n  }\n\n  \n\n  \n  if (typeof (root._bokeh_timeout) === \"undefined\" || force === true) {\n    root._bokeh_timeout = Date.now() + 5000;\n    root._bokeh_failed_load = false;\n  }\n\n  var NB_LOAD_WARNING = {'data': {'text/html':\n     \"<div style='background-color: #fdd'>\\n\"+\n     \"<p>\\n\"+\n     \"BokehJS does not appear to have successfully loaded. If loading BokehJS from CDN, this \\n\"+\n     \"may be due to a slow or bad network connection. Possible fixes:\\n\"+\n     \"</p>\\n\"+\n     \"<ul>\\n\"+\n     \"<li>re-rerun `output_notebook()` to attempt to load from CDN again, or</li>\\n\"+\n     \"<li>use INLINE resources instead, as so:</li>\\n\"+\n     \"</ul>\\n\"+\n     \"<code>\\n\"+\n     \"from bokeh.resources import INLINE\\n\"+\n     \"output_notebook(resources=INLINE)\\n\"+\n     \"</code>\\n\"+\n     \"</div>\"}};\n\n  function display_loaded() {\n    var el = document.getElementById(\"1001\");\n    if (el != null) {\n      el.textContent = \"BokehJS is loading...\";\n    }\n    if (root.Bokeh !== undefined) {\n      if (el != null) {\n        el.textContent = \"BokehJS \" + root.Bokeh.version + \" successfully loaded.\";\n      }\n    } else if (Date.now() < root._bokeh_timeout) {\n      setTimeout(display_loaded, 100)\n    }\n  }\n\n\n  function run_callbacks() {\n    try {\n      root._bokeh_onload_callbacks.forEach(function(callback) {\n        if (callback != null)\n          callback();\n      });\n    } finally {\n      delete root._bokeh_onload_callbacks\n    }\n    console.debug(\"Bokeh: all callbacks have finished\");\n  }\n\n  function load_libs(css_urls, js_urls, callback) {\n    if (css_urls == null) css_urls = [];\n    if (js_urls == null) js_urls = [];\n\n    root._bokeh_onload_callbacks.push(callback);\n    if (root._bokeh_is_loading > 0) {\n      console.debug(\"Bokeh: BokehJS is being loaded, scheduling callback at\", now());\n      return null;\n    }\n    if (js_urls == null || js_urls.length === 0) {\n      run_callbacks();\n      return null;\n    }\n    console.debug(\"Bokeh: BokehJS not loaded, scheduling load and callback at\", now());\n    root._bokeh_is_loading = css_urls.length + js_urls.length;\n\n    function on_load() {\n      root._bokeh_is_loading--;\n      if (root._bokeh_is_loading === 0) {\n        console.debug(\"Bokeh: all BokehJS libraries/stylesheets loaded\");\n        run_callbacks()\n      }\n    }\n\n    function on_error() {\n      console.error(\"failed to load \" + url);\n    }\n\n    for (var i = 0; i < css_urls.length; i++) {\n      var url = css_urls[i];\n      const element = document.createElement(\"link\");\n      element.onload = on_load;\n      element.onerror = on_error;\n      element.rel = \"stylesheet\";\n      element.type = \"text/css\";\n      element.href = url;\n      console.debug(\"Bokeh: injecting link tag for BokehJS stylesheet: \", url);\n      document.body.appendChild(element);\n    }\n\n    const hashes = {\"https://cdn.bokeh.org/bokeh/release/bokeh-2.2.3.min.js\": \"T2yuo9Oe71Cz/I4X9Ac5+gpEa5a8PpJCDlqKYO0CfAuEszu1JrXLl8YugMqYe3sM\", \"https://cdn.bokeh.org/bokeh/release/bokeh-widgets-2.2.3.min.js\": \"98GDGJ0kOMCUMUePhksaQ/GYgB3+NH9h996V88sh3aOiUNX3N+fLXAtry6xctSZ6\", \"https://cdn.bokeh.org/bokeh/release/bokeh-tables-2.2.3.min.js\": \"89bArO+nlbP3sgakeHjCo1JYxYR5wufVgA3IbUvDY+K7w4zyxJqssu7wVnfeKCq8\"};\n\n    for (var i = 0; i < js_urls.length; i++) {\n      var url = js_urls[i];\n      var element = document.createElement('script');\n      element.onload = on_load;\n      element.onerror = on_error;\n      element.async = false;\n      element.src = url;\n      if (url in hashes) {\n        element.crossOrigin = \"anonymous\";\n        element.integrity = \"sha384-\" + hashes[url];\n      }\n      console.debug(\"Bokeh: injecting script tag for BokehJS library: \", url);\n      document.head.appendChild(element);\n    }\n  };\n\n  function inject_raw_css(css) {\n    const element = document.createElement(\"style\");\n    element.appendChild(document.createTextNode(css));\n    document.body.appendChild(element);\n  }\n\n  \n  var js_urls = [\"https://cdn.bokeh.org/bokeh/release/bokeh-2.2.3.min.js\", \"https://cdn.bokeh.org/bokeh/release/bokeh-widgets-2.2.3.min.js\", \"https://cdn.bokeh.org/bokeh/release/bokeh-tables-2.2.3.min.js\"];\n  var css_urls = [];\n  \n\n  var inline_js = [\n    function(Bokeh) {\n      Bokeh.set_log_level(\"info\");\n    },\n    function(Bokeh) {\n    \n    \n    }\n  ];\n\n  function run_inline_js() {\n    \n    if (root.Bokeh !== undefined || force === true) {\n      \n    for (var i = 0; i < inline_js.length; i++) {\n      inline_js[i].call(root, root.Bokeh);\n    }\n    if (force === true) {\n        display_loaded();\n      }} else if (Date.now() < root._bokeh_timeout) {\n      setTimeout(run_inline_js, 100);\n    } else if (!root._bokeh_failed_load) {\n      console.log(\"Bokeh: BokehJS failed to load within specified timeout.\");\n      root._bokeh_failed_load = true;\n    } else if (force !== true) {\n      var cell = $(document.getElementById(\"1001\")).parents('.cell').data().cell;\n      cell.output_area.append_execute_result(NB_LOAD_WARNING)\n    }\n\n  }\n\n  if (root._bokeh_is_loading === 0) {\n    console.debug(\"Bokeh: BokehJS loaded, going straight to plotting\");\n    run_inline_js();\n  } else {\n    load_libs(css_urls, js_urls, function() {\n      console.debug(\"Bokeh: BokehJS plotting callback run at\", now());\n      run_inline_js();\n    });\n  }\n}(window));"
     },
     "metadata": {},
     "output_type": "display_data"
    }
   ],
   "source": [
    "import numpy as np # linear algebra\n",
    "import pandas as pd # data processing\n",
    "pd.set_option('display.max_columns', 50)\n",
    "pd.set_option('display.max_rows', 150)\n",
    "import os\n",
    "import gc\n",
    "gc.enable()\n",
    "import time\n",
    "import warnings\n",
    "warnings.filterwarnings(\"ignore\")\n",
    "import matplotlib.pyplot as plt\n",
    "import seaborn as sns\n",
    "%matplotlib inline\n",
    "from sklearn.feature_extraction.text import TfidfVectorizer\n",
    "from sklearn.linear_model import LogisticRegression\n",
    "from sklearn.model_selection import cross_val_score\n",
    "from scipy.sparse import hstack\n",
    "from scipy import stats\n",
    "%matplotlib inline\n",
    "from datetime import timedelta\n",
    "import datetime as dt\n",
    "import matplotlib.pyplot as plt\n",
    "plt.rcParams['figure.figsize'] = [16, 10]\n",
    "from sklearn.model_selection import train_test_split\n",
    "from sklearn.decomposition import PCA\n",
    "from sklearn.cluster import MiniBatchKMeans\n",
    "import warnings\n",
    "warnings.filterwarnings('ignore')\n",
    "import urllib        #for url stuff\n",
    "\n",
    "from sklearn.feature_extraction.text import TfidfVectorizer\n",
    "from sklearn.feature_extraction import text\n",
    "from IPython.display import display\n",
    "from tqdm import tqdm\n",
    "from collections import Counter\n",
    "import ast\n",
    "\n",
    "\n",
    "from sklearn.feature_extraction.text import CountVectorizer\n",
    "from textblob import TextBlob\n",
    "import scipy.stats as stats\n",
    "\n",
    "import seaborn as sns\n",
    "from sklearn.manifold import TSNE\n",
    "from sklearn.decomposition import PCA, TruncatedSVD\n",
    "import matplotlib.patches as mpatches\n",
    "import time\n",
    "\n",
    "import seaborn as sns #for making plots\n",
    "import matplotlib.pyplot as plt # for plotting\n",
    "import os  # for os commands\n",
    "\n",
    "import gensim\n",
    "from gensim import corpora, models, similarities\n",
    "import logging\n",
    "import tempfile\n",
    "from nltk.corpus import stopwords\n",
    "from string import punctuation\n",
    "from collections import OrderedDict\n",
    "\n",
    "from sklearn.decomposition import TruncatedSVD\n",
    "from sklearn.decomposition import LatentDirichletAllocation\n",
    "from sklearn.manifold import TSNE\n",
    "\n",
    "\n",
    "from bokeh.plotting import figure, output_file, show\n",
    "from bokeh.models import Label\n",
    "from bokeh.io import output_notebook\n",
    "output_notebook()"
   ]
  },
  {
   "cell_type": "markdown",
   "metadata": {
    "papermill": {
     "duration": 0.054396,
     "end_time": "2021-01-03T18:08:11.571866",
     "exception": false,
     "start_time": "2021-01-03T18:08:11.517470",
     "status": "completed"
    },
    "tags": []
   },
   "source": [
    "<a id = \"1\"></a>\n",
    "# Load and Check Data"
   ]
  },
  {
   "cell_type": "code",
   "execution_count": 2,
   "metadata": {
    "_cell_guid": "79c7e3d0-c299-4dcb-8224-4455121ee9b0",
    "_uuid": "d629ff2d2480ee46fbb7e2d37f6b5fab8052498a",
    "execution": {
     "iopub.execute_input": "2021-01-03T18:08:11.696197Z",
     "iopub.status.busy": "2021-01-03T18:08:11.695471Z",
     "iopub.status.idle": "2021-01-03T18:08:11.784374Z",
     "shell.execute_reply": "2021-01-03T18:08:11.782923Z"
    },
    "papermill": {
     "duration": 0.158154,
     "end_time": "2021-01-03T18:08:11.784536",
     "exception": false,
     "start_time": "2021-01-03T18:08:11.626382",
     "status": "completed"
    },
    "tags": []
   },
   "outputs": [],
   "source": [
    "ROOT = '/kaggle/input/nlp-getting-started/'\n",
    "\n",
    "## load the data \n",
    "df_train = pd.read_csv(ROOT+'train.csv')\n",
    "df_test = pd.read_csv(ROOT+'test.csv')\n",
    "df_sub = pd.read_csv(ROOT+'sample_submission.csv')"
   ]
  },
  {
   "cell_type": "code",
   "execution_count": 3,
   "metadata": {
    "execution": {
     "iopub.execute_input": "2021-01-03T18:08:11.910561Z",
     "iopub.status.busy": "2021-01-03T18:08:11.909886Z",
     "iopub.status.idle": "2021-01-03T18:08:11.935378Z",
     "shell.execute_reply": "2021-01-03T18:08:11.936147Z"
    },
    "papermill": {
     "duration": 0.095687,
     "end_time": "2021-01-03T18:08:11.936357",
     "exception": false,
     "start_time": "2021-01-03T18:08:11.840670",
     "status": "completed"
    },
    "tags": []
   },
   "outputs": [
    {
     "name": "stdout",
     "output_type": "stream",
     "text": [
      "<class 'pandas.core.frame.DataFrame'>\n",
      "RangeIndex: 7613 entries, 0 to 7612\n",
      "Data columns (total 5 columns):\n",
      " #   Column    Non-Null Count  Dtype \n",
      "---  ------    --------------  ----- \n",
      " 0   id        7613 non-null   int64 \n",
      " 1   keyword   7552 non-null   object\n",
      " 2   location  5080 non-null   object\n",
      " 3   text      7613 non-null   object\n",
      " 4   target    7613 non-null   int64 \n",
      "dtypes: int64(2), object(3)\n",
      "memory usage: 297.5+ KB\n",
      "None\n",
      "<class 'pandas.core.frame.DataFrame'>\n",
      "RangeIndex: 3263 entries, 0 to 3262\n",
      "Data columns (total 4 columns):\n",
      " #   Column    Non-Null Count  Dtype \n",
      "---  ------    --------------  ----- \n",
      " 0   id        3263 non-null   int64 \n",
      " 1   keyword   3237 non-null   object\n",
      " 2   location  2158 non-null   object\n",
      " 3   text      3263 non-null   object\n",
      "dtypes: int64(1), object(3)\n",
      "memory usage: 102.1+ KB\n",
      "None\n",
      "<class 'pandas.core.frame.DataFrame'>\n",
      "RangeIndex: 3263 entries, 0 to 3262\n",
      "Data columns (total 2 columns):\n",
      " #   Column  Non-Null Count  Dtype\n",
      "---  ------  --------------  -----\n",
      " 0   id      3263 non-null   int64\n",
      " 1   target  3263 non-null   int64\n",
      "dtypes: int64(2)\n",
      "memory usage: 51.1 KB\n",
      "None\n"
     ]
    }
   ],
   "source": [
    "print(df_train.info())\n",
    "print(df_test.info())\n",
    "print(df_sub.info())"
   ]
  },
  {
   "cell_type": "code",
   "execution_count": 4,
   "metadata": {
    "execution": {
     "iopub.execute_input": "2021-01-03T18:08:12.056265Z",
     "iopub.status.busy": "2021-01-03T18:08:12.055676Z",
     "iopub.status.idle": "2021-01-03T18:08:12.078718Z",
     "shell.execute_reply": "2021-01-03T18:08:12.078155Z"
    },
    "papermill": {
     "duration": 0.082413,
     "end_time": "2021-01-03T18:08:12.078845",
     "exception": false,
     "start_time": "2021-01-03T18:08:11.996432",
     "status": "completed"
    },
    "tags": []
   },
   "outputs": [
    {
     "data": {
      "text/html": [
       "<div>\n",
       "<style scoped>\n",
       "    .dataframe tbody tr th:only-of-type {\n",
       "        vertical-align: middle;\n",
       "    }\n",
       "\n",
       "    .dataframe tbody tr th {\n",
       "        vertical-align: top;\n",
       "    }\n",
       "\n",
       "    .dataframe thead th {\n",
       "        text-align: right;\n",
       "    }\n",
       "</style>\n",
       "<table border=\"1\" class=\"dataframe\">\n",
       "  <thead>\n",
       "    <tr style=\"text-align: right;\">\n",
       "      <th></th>\n",
       "      <th>id</th>\n",
       "      <th>target</th>\n",
       "    </tr>\n",
       "  </thead>\n",
       "  <tbody>\n",
       "    <tr>\n",
       "      <th>count</th>\n",
       "      <td>7613.000000</td>\n",
       "      <td>7613.00000</td>\n",
       "    </tr>\n",
       "    <tr>\n",
       "      <th>mean</th>\n",
       "      <td>5441.934848</td>\n",
       "      <td>0.42966</td>\n",
       "    </tr>\n",
       "    <tr>\n",
       "      <th>std</th>\n",
       "      <td>3137.116090</td>\n",
       "      <td>0.49506</td>\n",
       "    </tr>\n",
       "    <tr>\n",
       "      <th>min</th>\n",
       "      <td>1.000000</td>\n",
       "      <td>0.00000</td>\n",
       "    </tr>\n",
       "    <tr>\n",
       "      <th>25%</th>\n",
       "      <td>2734.000000</td>\n",
       "      <td>0.00000</td>\n",
       "    </tr>\n",
       "    <tr>\n",
       "      <th>50%</th>\n",
       "      <td>5408.000000</td>\n",
       "      <td>0.00000</td>\n",
       "    </tr>\n",
       "    <tr>\n",
       "      <th>75%</th>\n",
       "      <td>8146.000000</td>\n",
       "      <td>1.00000</td>\n",
       "    </tr>\n",
       "    <tr>\n",
       "      <th>max</th>\n",
       "      <td>10873.000000</td>\n",
       "      <td>1.00000</td>\n",
       "    </tr>\n",
       "  </tbody>\n",
       "</table>\n",
       "</div>"
      ],
      "text/plain": [
       "                 id      target\n",
       "count   7613.000000  7613.00000\n",
       "mean    5441.934848     0.42966\n",
       "std     3137.116090     0.49506\n",
       "min        1.000000     0.00000\n",
       "25%     2734.000000     0.00000\n",
       "50%     5408.000000     0.00000\n",
       "75%     8146.000000     1.00000\n",
       "max    10873.000000     1.00000"
      ]
     },
     "execution_count": 4,
     "metadata": {},
     "output_type": "execute_result"
    }
   ],
   "source": [
    "df_train.describe()"
   ]
  },
  {
   "cell_type": "code",
   "execution_count": 5,
   "metadata": {
    "execution": {
     "iopub.execute_input": "2021-01-03T18:08:12.205572Z",
     "iopub.status.busy": "2021-01-03T18:08:12.204914Z",
     "iopub.status.idle": "2021-01-03T18:08:12.207748Z",
     "shell.execute_reply": "2021-01-03T18:08:12.208344Z"
    },
    "papermill": {
     "duration": 0.07329,
     "end_time": "2021-01-03T18:08:12.208493",
     "exception": false,
     "start_time": "2021-01-03T18:08:12.135203",
     "status": "completed"
    },
    "tags": []
   },
   "outputs": [
    {
     "data": {
      "text/html": [
       "<div>\n",
       "<style scoped>\n",
       "    .dataframe tbody tr th:only-of-type {\n",
       "        vertical-align: middle;\n",
       "    }\n",
       "\n",
       "    .dataframe tbody tr th {\n",
       "        vertical-align: top;\n",
       "    }\n",
       "\n",
       "    .dataframe thead th {\n",
       "        text-align: right;\n",
       "    }\n",
       "</style>\n",
       "<table border=\"1\" class=\"dataframe\">\n",
       "  <thead>\n",
       "    <tr style=\"text-align: right;\">\n",
       "      <th></th>\n",
       "      <th>id</th>\n",
       "      <th>keyword</th>\n",
       "      <th>location</th>\n",
       "      <th>text</th>\n",
       "      <th>target</th>\n",
       "    </tr>\n",
       "  </thead>\n",
       "  <tbody>\n",
       "    <tr>\n",
       "      <th>0</th>\n",
       "      <td>1</td>\n",
       "      <td>NaN</td>\n",
       "      <td>NaN</td>\n",
       "      <td>Our Deeds are the Reason of this #earthquake M...</td>\n",
       "      <td>1</td>\n",
       "    </tr>\n",
       "    <tr>\n",
       "      <th>1</th>\n",
       "      <td>4</td>\n",
       "      <td>NaN</td>\n",
       "      <td>NaN</td>\n",
       "      <td>Forest fire near La Ronge Sask. Canada</td>\n",
       "      <td>1</td>\n",
       "    </tr>\n",
       "    <tr>\n",
       "      <th>2</th>\n",
       "      <td>5</td>\n",
       "      <td>NaN</td>\n",
       "      <td>NaN</td>\n",
       "      <td>All residents asked to 'shelter in place' are ...</td>\n",
       "      <td>1</td>\n",
       "    </tr>\n",
       "    <tr>\n",
       "      <th>3</th>\n",
       "      <td>6</td>\n",
       "      <td>NaN</td>\n",
       "      <td>NaN</td>\n",
       "      <td>13,000 people receive #wildfires evacuation or...</td>\n",
       "      <td>1</td>\n",
       "    </tr>\n",
       "    <tr>\n",
       "      <th>4</th>\n",
       "      <td>7</td>\n",
       "      <td>NaN</td>\n",
       "      <td>NaN</td>\n",
       "      <td>Just got sent this photo from Ruby #Alaska as ...</td>\n",
       "      <td>1</td>\n",
       "    </tr>\n",
       "  </tbody>\n",
       "</table>\n",
       "</div>"
      ],
      "text/plain": [
       "   id keyword location                                               text  \\\n",
       "0   1     NaN      NaN  Our Deeds are the Reason of this #earthquake M...   \n",
       "1   4     NaN      NaN             Forest fire near La Ronge Sask. Canada   \n",
       "2   5     NaN      NaN  All residents asked to 'shelter in place' are ...   \n",
       "3   6     NaN      NaN  13,000 people receive #wildfires evacuation or...   \n",
       "4   7     NaN      NaN  Just got sent this photo from Ruby #Alaska as ...   \n",
       "\n",
       "   target  \n",
       "0       1  \n",
       "1       1  \n",
       "2       1  \n",
       "3       1  \n",
       "4       1  "
      ]
     },
     "execution_count": 5,
     "metadata": {},
     "output_type": "execute_result"
    }
   ],
   "source": [
    "df_train.head()"
   ]
  },
  {
   "cell_type": "markdown",
   "metadata": {
    "papermill": {
     "duration": 0.055993,
     "end_time": "2021-01-03T18:08:12.322799",
     "exception": false,
     "start_time": "2021-01-03T18:08:12.266806",
     "status": "completed"
    },
    "tags": []
   },
   "source": [
    "<a id = \"2\"></a>\n",
    "# Exploring Data\n",
    "\n",
    "* Checking target distrubution and class imbalance"
   ]
  },
  {
   "cell_type": "code",
   "execution_count": 6,
   "metadata": {
    "execution": {
     "iopub.execute_input": "2021-01-03T18:08:12.438708Z",
     "iopub.status.busy": "2021-01-03T18:08:12.438000Z",
     "iopub.status.idle": "2021-01-03T18:08:12.646486Z",
     "shell.execute_reply": "2021-01-03T18:08:12.645889Z"
    },
    "papermill": {
     "duration": 0.267461,
     "end_time": "2021-01-03T18:08:12.646666",
     "exception": false,
     "start_time": "2021-01-03T18:08:12.379205",
     "status": "completed"
    },
    "tags": []
   },
   "outputs": [
    {
     "data": {
      "text/plain": [
       "<matplotlib.axes._subplots.AxesSubplot at 0x7f84feb43bd0>"
      ]
     },
     "execution_count": 6,
     "metadata": {},
     "output_type": "execute_result"
    },
    {
     "data": {
      "image/png": "[encoded data removed]",
      "text/plain": [
       "<Figure size 1152x720 with 1 Axes>"
      ]
     },
     "metadata": {},
     "output_type": "display_data"
    }
   ],
   "source": [
    "target = df_train['target']\n",
    "sns.set_style('whitegrid')\n",
    "sns.countplot(target)"
   ]
  },
  {
   "cell_type": "code",
   "execution_count": 7,
   "metadata": {
    "execution": {
     "iopub.execute_input": "2021-01-03T18:08:12.772337Z",
     "iopub.status.busy": "2021-01-03T18:08:12.771431Z",
     "iopub.status.idle": "2021-01-03T18:08:12.775889Z",
     "shell.execute_reply": "2021-01-03T18:08:12.776384Z"
    },
    "papermill": {
     "duration": 0.070371,
     "end_time": "2021-01-03T18:08:12.776539",
     "exception": false,
     "start_time": "2021-01-03T18:08:12.706168",
     "status": "completed"
    },
    "tags": []
   },
   "outputs": [
    {
     "data": {
      "text/plain": [
       "0    Our Deeds are the Reason of this #earthquake M...\n",
       "1               Forest fire near La Ronge Sask. Canada\n",
       "2    All residents asked to 'shelter in place' are ...\n",
       "3    13,000 people receive #wildfires evacuation or...\n",
       "4    Just got sent this photo from Ruby #Alaska as ...\n",
       "Name: text, dtype: object"
      ]
     },
     "execution_count": 7,
     "metadata": {},
     "output_type": "execute_result"
    }
   ],
   "source": [
    "df_train[\"text\"].head()"
   ]
  },
  {
   "cell_type": "code",
   "execution_count": 8,
   "metadata": {
    "execution": {
     "iopub.execute_input": "2021-01-03T18:08:12.899039Z",
     "iopub.status.busy": "2021-01-03T18:08:12.898270Z",
     "iopub.status.idle": "2021-01-03T18:08:12.902567Z",
     "shell.execute_reply": "2021-01-03T18:08:12.902013Z"
    },
    "papermill": {
     "duration": 0.068006,
     "end_time": "2021-01-03T18:08:12.902678",
     "exception": false,
     "start_time": "2021-01-03T18:08:12.834672",
     "status": "completed"
    },
    "tags": []
   },
   "outputs": [
    {
     "data": {
      "text/plain": [
       "['Our Deeds are the Reason of this #earthquake May ALLAH Forgive us all',\n",
       " 'Forest fire near La Ronge Sask. Canada',\n",
       " \"All residents asked to 'shelter in place' are being notified by officers. No other evacuation or shelter in place orders are expected\",\n",
       " '13,000 people receive #wildfires evacuation orders in California ',\n",
       " 'Just got sent this photo from Ruby #Alaska as smoke from #wildfires pours into a school ']"
      ]
     },
     "execution_count": 8,
     "metadata": {},
     "output_type": "execute_result"
    }
   ],
   "source": [
    "#To check the text content\n",
    "df_train[\"text\"].tolist()[:5]"
   ]
  },
  {
   "cell_type": "code",
   "execution_count": 9,
   "metadata": {
    "execution": {
     "iopub.execute_input": "2021-01-03T18:08:13.029298Z",
     "iopub.status.busy": "2021-01-03T18:08:13.028320Z",
     "iopub.status.idle": "2021-01-03T18:08:13.034612Z",
     "shell.execute_reply": "2021-01-03T18:08:13.034086Z"
    },
    "papermill": {
     "duration": 0.072034,
     "end_time": "2021-01-03T18:08:13.034734",
     "exception": false,
     "start_time": "2021-01-03T18:08:12.962700",
     "status": "completed"
    },
    "tags": []
   },
   "outputs": [
    {
     "name": "stdout",
     "output_type": "stream",
     "text": [
      "Tweet Number 1: Our Deeds are the Reason of this #earthquake May ALLAH Forgive us all\n",
      "Tweet Number 2: Forest fire near La Ronge Sask. Canada\n",
      "Tweet Number 3: All residents asked to 'shelter in place' are being notified by officers. No other evacuation or shelter in place orders are expected\n",
      "Tweet Number 4: 13,000 people receive #wildfires evacuation orders in California \n",
      "Tweet Number 5: Just got sent this photo from Ruby #Alaska as smoke from #wildfires pours into a school \n"
     ]
    }
   ],
   "source": [
    "t = df_train[\"text\"].to_list()\n",
    "for i in range(5):\n",
    "    print('Tweet Number '+str(i+1)+': '+t[i])"
   ]
  },
  {
   "cell_type": "markdown",
   "metadata": {
    "papermill": {
     "duration": 0.058484,
     "end_time": "2021-01-03T18:08:13.153598",
     "exception": false,
     "start_time": "2021-01-03T18:08:13.095114",
     "status": "completed"
    },
    "tags": []
   },
   "source": [
    "<a id = \"3\"></a>\n",
    "## Tweet Location"
   ]
  },
  {
   "cell_type": "code",
   "execution_count": 10,
   "metadata": {
    "execution": {
     "iopub.execute_input": "2021-01-03T18:08:13.325608Z",
     "iopub.status.busy": "2021-01-03T18:08:13.324933Z",
     "iopub.status.idle": "2021-01-03T18:08:13.328313Z",
     "shell.execute_reply": "2021-01-03T18:08:13.327617Z"
    },
    "papermill": {
     "duration": 0.082689,
     "end_time": "2021-01-03T18:08:13.328421",
     "exception": false,
     "start_time": "2021-01-03T18:08:13.245732",
     "status": "completed"
    },
    "tags": []
   },
   "outputs": [
    {
     "name": "stdout",
     "output_type": "stream",
     "text": [
      "There is 3342 different loction\n"
     ]
    }
   ],
   "source": [
    "l = df_train[\"location\"].to_list()\n",
    "print('There is '+ str(len(set(l)))+\" different loction\")"
   ]
  },
  {
   "cell_type": "code",
   "execution_count": 11,
   "metadata": {
    "execution": {
     "iopub.execute_input": "2021-01-03T18:08:13.461548Z",
     "iopub.status.busy": "2021-01-03T18:08:13.458958Z",
     "iopub.status.idle": "2021-01-03T18:08:13.466202Z",
     "shell.execute_reply": "2021-01-03T18:08:13.465670Z"
    },
    "papermill": {
     "duration": 0.075986,
     "end_time": "2021-01-03T18:08:13.466308",
     "exception": false,
     "start_time": "2021-01-03T18:08:13.390322",
     "status": "completed"
    },
    "tags": []
   },
   "outputs": [
    {
     "data": {
      "text/plain": [
       "USA                104\n",
       "New York            71\n",
       "United States       50\n",
       "London              45\n",
       "Canada              29\n",
       "Nigeria             28\n",
       "UK                  27\n",
       "Los Angeles, CA     26\n",
       "India               24\n",
       "Mumbai              22\n",
       "Washington, DC      21\n",
       "Kenya               20\n",
       "Worldwide           19\n",
       "Australia           18\n",
       "Chicago, IL         18\n",
       "California          17\n",
       "New York, NY        15\n",
       "Everywhere          15\n",
       "California, USA     15\n",
       "United Kingdom      14\n",
       "Name: location, dtype: int64"
      ]
     },
     "execution_count": 11,
     "metadata": {},
     "output_type": "execute_result"
    }
   ],
   "source": [
    "#Posting Location top 20\n",
    "df_train['location'].value_counts().head(n=20)"
   ]
  },
  {
   "cell_type": "code",
   "execution_count": 12,
   "metadata": {
    "execution": {
     "iopub.execute_input": "2021-01-03T18:08:13.601750Z",
     "iopub.status.busy": "2021-01-03T18:08:13.600692Z",
     "iopub.status.idle": "2021-01-03T18:08:13.835042Z",
     "shell.execute_reply": "2021-01-03T18:08:13.834344Z"
    },
    "papermill": {
     "duration": 0.307874,
     "end_time": "2021-01-03T18:08:13.835150",
     "exception": false,
     "start_time": "2021-01-03T18:08:13.527276",
     "status": "completed"
    },
    "tags": []
   },
   "outputs": [
    {
     "data": {
      "image/png": "[encoded data removed]",
      "text/plain": [
       "<Figure size 720x360 with 1 Axes>"
      ]
     },
     "metadata": {},
     "output_type": "display_data"
    }
   ],
   "source": [
    "# Graph of the number of tweets in each location\n",
    "location_count  = df_train['location'].value_counts()\n",
    "location_count = location_count[:10,]\n",
    "plt.figure(figsize=(10,5))\n",
    "sns.barplot(location_count.index, location_count.values, alpha=0.8)\n",
    "plt.title('Top 10 locations')\n",
    "plt.ylabel('Number of Occurrences', fontsize=12)\n",
    "plt.xlabel('location', fontsize=12)\n",
    "plt.show()"
   ]
  },
  {
   "cell_type": "markdown",
   "metadata": {
    "papermill": {
     "duration": 0.060508,
     "end_time": "2021-01-03T18:08:13.957380",
     "exception": false,
     "start_time": "2021-01-03T18:08:13.896872",
     "status": "completed"
    },
    "tags": []
   },
   "source": [
    "<a id = \"4\"></a>\n",
    "### In test data"
   ]
  },
  {
   "cell_type": "code",
   "execution_count": 13,
   "metadata": {
    "execution": {
     "iopub.execute_input": "2021-01-03T18:08:14.099466Z",
     "iopub.status.busy": "2021-01-03T18:08:14.094298Z",
     "iopub.status.idle": "2021-01-03T18:08:14.329259Z",
     "shell.execute_reply": "2021-01-03T18:08:14.328608Z"
    },
    "papermill": {
     "duration": 0.31026,
     "end_time": "2021-01-03T18:08:14.329368",
     "exception": false,
     "start_time": "2021-01-03T18:08:14.019108",
     "status": "completed"
    },
    "tags": []
   },
   "outputs": [
    {
     "data": {
      "image/png": "[encoded data removed]",
      "text/plain": [
       "<Figure size 720x360 with 1 Axes>"
      ]
     },
     "metadata": {},
     "output_type": "display_data"
    }
   ],
   "source": [
    "location_count  = df_test['location'].value_counts()\n",
    "location_count = location_count[:10,]\n",
    "plt.figure(figsize=(10,5))\n",
    "sns.barplot(location_count.index, location_count.values, alpha=0.8)\n",
    "plt.title('Top 10 locations')\n",
    "plt.ylabel('Number of Occurrences', fontsize=12)\n",
    "plt.xlabel('location', fontsize=12)\n",
    "plt.show()"
   ]
  },
  {
   "cell_type": "markdown",
   "metadata": {
    "papermill": {
     "duration": 0.061833,
     "end_time": "2021-01-03T18:08:14.453623",
     "exception": false,
     "start_time": "2021-01-03T18:08:14.391790",
     "status": "completed"
    },
    "tags": []
   },
   "source": [
    "<a id = \"5\"></a>\n",
    "### Label Encoding location column"
   ]
  },
  {
   "cell_type": "code",
   "execution_count": 14,
   "metadata": {
    "execution": {
     "iopub.execute_input": "2021-01-03T18:08:14.585402Z",
     "iopub.status.busy": "2021-01-03T18:08:14.584323Z",
     "iopub.status.idle": "2021-01-03T18:08:14.588616Z",
     "shell.execute_reply": "2021-01-03T18:08:14.587991Z"
    },
    "papermill": {
     "duration": 0.07293,
     "end_time": "2021-01-03T18:08:14.588729",
     "exception": false,
     "start_time": "2021-01-03T18:08:14.515799",
     "status": "completed"
    },
    "tags": []
   },
   "outputs": [],
   "source": [
    "df = df_train[df_train['location'].notnull()]"
   ]
  },
  {
   "cell_type": "code",
   "execution_count": 15,
   "metadata": {
    "execution": {
     "iopub.execute_input": "2021-01-03T18:08:14.728210Z",
     "iopub.status.busy": "2021-01-03T18:08:14.727535Z",
     "iopub.status.idle": "2021-01-03T18:08:14.730763Z",
     "shell.execute_reply": "2021-01-03T18:08:14.730101Z"
    },
    "papermill": {
     "duration": 0.078989,
     "end_time": "2021-01-03T18:08:14.730887",
     "exception": false,
     "start_time": "2021-01-03T18:08:14.651898",
     "status": "completed"
    },
    "tags": []
   },
   "outputs": [],
   "source": [
    "from sklearn import preprocessing\n",
    "le = preprocessing.LabelEncoder()\n",
    "df['location'] = le.fit_transform(df.location.values)"
   ]
  },
  {
   "cell_type": "code",
   "execution_count": 16,
   "metadata": {
    "execution": {
     "iopub.execute_input": "2021-01-03T18:08:14.870917Z",
     "iopub.status.busy": "2021-01-03T18:08:14.870241Z",
     "iopub.status.idle": "2021-01-03T18:08:38.324587Z",
     "shell.execute_reply": "2021-01-03T18:08:38.325709Z"
    },
    "papermill": {
     "duration": 23.530804,
     "end_time": "2021-01-03T18:08:38.325932",
     "exception": false,
     "start_time": "2021-01-03T18:08:14.795128",
     "status": "completed"
    },
    "tags": []
   },
   "outputs": [
    {
     "name": "stdout",
     "output_type": "stream",
     "text": [
      "T-SNE took 2.3e+01 s\n"
     ]
    }
   ],
   "source": [
    "X = df['location']\n",
    "y = df['target']\n",
    "\n",
    "\n",
    "# T-SNE Implementation\n",
    "t0 = time.time()\n",
    "X_reduced_tsne = TSNE(n_components=2, random_state=42).fit_transform(X.values.reshape(-1, 1))\n",
    "t1 = time.time()\n",
    "print(\"T-SNE took {:.2} s\".format(t1 - t0))"
   ]
  },
  {
   "cell_type": "code",
   "execution_count": 17,
   "metadata": {
    "execution": {
     "iopub.execute_input": "2021-01-03T18:08:38.504046Z",
     "iopub.status.busy": "2021-01-03T18:08:38.503257Z",
     "iopub.status.idle": "2021-01-03T18:08:39.185391Z",
     "shell.execute_reply": "2021-01-03T18:08:39.184896Z"
    },
    "papermill": {
     "duration": 0.777442,
     "end_time": "2021-01-03T18:08:39.185525",
     "exception": false,
     "start_time": "2021-01-03T18:08:38.408083",
     "status": "completed"
    },
    "tags": []
   },
   "outputs": [
    {
     "data": {
      "image/png": "[encoded data removed]",
      "text/plain": [
       "<Figure size 864x576 with 1 Axes>"
      ]
     },
     "metadata": {},
     "output_type": "display_data"
    }
   ],
   "source": [
    "f, (ax1) = plt.subplots(1, 1, figsize=(12,8))\n",
    "\n",
    "f.suptitle('Cluster (Dimensionality Reduction)', fontsize=14)\n",
    "\n",
    "\n",
    "blue_patch = mpatches.Patch(color='#0A0AFF', label='Not Fake')\n",
    "red_patch = mpatches.Patch(color='#AF0000', label='Fake')\n",
    "\n",
    "\n",
    "# t-SNE scatter plot\n",
    "ax1.scatter(X_reduced_tsne[:,0], X_reduced_tsne[:,1], c=(y == 0), cmap='coolwarm', label='Not Fake', linewidths=2)\n",
    "ax1.scatter(X_reduced_tsne[:,0], X_reduced_tsne[:,1], c=(y == 1), cmap='coolwarm', label='Fake', linewidths=2)\n",
    "ax1.set_title('t-SNE', fontsize=14)\n",
    "\n",
    "ax1.grid(True)\n",
    "\n",
    "ax1.legend(handles=[blue_patch, red_patch])\n",
    "\n",
    "\n",
    "plt.show()"
   ]
  },
  {
   "cell_type": "markdown",
   "metadata": {
    "papermill": {
     "duration": 0.067046,
     "end_time": "2021-01-03T18:08:39.319600",
     "exception": false,
     "start_time": "2021-01-03T18:08:39.252554",
     "status": "completed"
    },
    "tags": []
   },
   "source": [
    "<a id = \"6\"></a>\n",
    "## Keywords"
   ]
  },
  {
   "cell_type": "code",
   "execution_count": 18,
   "metadata": {
    "execution": {
     "iopub.execute_input": "2021-01-03T18:08:39.463393Z",
     "iopub.status.busy": "2021-01-03T18:08:39.462754Z",
     "iopub.status.idle": "2021-01-03T18:08:39.467183Z",
     "shell.execute_reply": "2021-01-03T18:08:39.466615Z"
    },
    "papermill": {
     "duration": 0.081048,
     "end_time": "2021-01-03T18:08:39.467288",
     "exception": false,
     "start_time": "2021-01-03T18:08:39.386240",
     "status": "completed"
    },
    "tags": []
   },
   "outputs": [
    {
     "data": {
      "text/plain": [
       "fatalities     45\n",
       "armageddon     42\n",
       "deluge         42\n",
       "damage         41\n",
       "harm           41\n",
       "sinking        41\n",
       "body%20bags    41\n",
       "outbreak       40\n",
       "windstorm      40\n",
       "twister        40\n",
       "siren          40\n",
       "fear           40\n",
       "collided       40\n",
       "evacuate       40\n",
       "collision      39\n",
       "derailment     39\n",
       "hellfire       39\n",
       "wreckage       39\n",
       "sinkhole       39\n",
       "weapons        39\n",
       "Name: keyword, dtype: int64"
      ]
     },
     "execution_count": 18,
     "metadata": {},
     "output_type": "execute_result"
    }
   ],
   "source": [
    "df_train['keyword'].value_counts().head(n=20)"
   ]
  },
  {
   "cell_type": "code",
   "execution_count": 19,
   "metadata": {
    "execution": {
     "iopub.execute_input": "2021-01-03T18:08:39.621914Z",
     "iopub.status.busy": "2021-01-03T18:08:39.613841Z",
     "iopub.status.idle": "2021-01-03T18:08:39.839232Z",
     "shell.execute_reply": "2021-01-03T18:08:39.838646Z"
    },
    "papermill": {
     "duration": 0.305004,
     "end_time": "2021-01-03T18:08:39.839351",
     "exception": false,
     "start_time": "2021-01-03T18:08:39.534347",
     "status": "completed"
    },
    "tags": []
   },
   "outputs": [
    {
     "data": {
      "image/png": "[encoded data removed]",
      "text/plain": [
       "<Figure size 720x360 with 1 Axes>"
      ]
     },
     "metadata": {},
     "output_type": "display_data"
    }
   ],
   "source": [
    "keyword_count  = df_train['keyword'].value_counts()\n",
    "keyword_count = keyword_count[:10,]\n",
    "plt.figure(figsize=(10,5))\n",
    "sns.barplot(keyword_count.index, keyword_count.values, alpha=0.8)\n",
    "plt.title('Top 10 keywords')\n",
    "plt.ylabel('Number of Occurrences', fontsize=12)\n",
    "plt.xlabel('keyword', fontsize=12)\n",
    "plt.show()"
   ]
  },
  {
   "cell_type": "markdown",
   "metadata": {
    "papermill": {
     "duration": 0.067127,
     "end_time": "2021-01-03T18:08:39.974904",
     "exception": false,
     "start_time": "2021-01-03T18:08:39.907777",
     "status": "completed"
    },
    "tags": []
   },
   "source": [
    "<a id = \"7\"></a>\n",
    "### In test data"
   ]
  },
  {
   "cell_type": "code",
   "execution_count": 20,
   "metadata": {
    "execution": {
     "iopub.execute_input": "2021-01-03T18:08:40.120473Z",
     "iopub.status.busy": "2021-01-03T18:08:40.119570Z",
     "iopub.status.idle": "2021-01-03T18:08:40.124529Z",
     "shell.execute_reply": "2021-01-03T18:08:40.123883Z"
    },
    "papermill": {
     "duration": 0.081485,
     "end_time": "2021-01-03T18:08:40.124638",
     "exception": false,
     "start_time": "2021-01-03T18:08:40.043153",
     "status": "completed"
    },
    "tags": []
   },
   "outputs": [
    {
     "data": {
      "text/plain": [
       "deluged               23\n",
       "demolished            22\n",
       "rubble                22\n",
       "first%20responders    21\n",
       "seismic               21\n",
       "annihilation          21\n",
       "snowstorm             21\n",
       "obliteration          21\n",
       "sirens                21\n",
       "mayhem                20\n",
       "catastrophic          20\n",
       "survivors             20\n",
       "avalanche             20\n",
       "dead                  20\n",
       "bioterrorism          20\n",
       "obliterated           19\n",
       "obliterate            19\n",
       "hostage               19\n",
       "suicide%20bomber      19\n",
       "crushed               19\n",
       "Name: keyword, dtype: int64"
      ]
     },
     "execution_count": 20,
     "metadata": {},
     "output_type": "execute_result"
    }
   ],
   "source": [
    "df_test['keyword'].value_counts().head(n=20)"
   ]
  },
  {
   "cell_type": "code",
   "execution_count": 21,
   "metadata": {
    "execution": {
     "iopub.execute_input": "2021-01-03T18:08:40.282911Z",
     "iopub.status.busy": "2021-01-03T18:08:40.273647Z",
     "iopub.status.idle": "2021-01-03T18:08:40.500362Z",
     "shell.execute_reply": "2021-01-03T18:08:40.499745Z"
    },
    "papermill": {
     "duration": 0.307416,
     "end_time": "2021-01-03T18:08:40.500492",
     "exception": false,
     "start_time": "2021-01-03T18:08:40.193076",
     "status": "completed"
    },
    "tags": []
   },
   "outputs": [
    {
     "data": {
      "image/png": "[encoded data removed]",
      "text/plain": [
       "<Figure size 720x360 with 1 Axes>"
      ]
     },
     "metadata": {},
     "output_type": "display_data"
    }
   ],
   "source": [
    "keyword_count  = df_test['keyword'].value_counts()\n",
    "keyword_count = keyword_count[:10,]\n",
    "plt.figure(figsize=(10,5))\n",
    "sns.barplot(keyword_count.index, keyword_count.values, alpha=0.8)\n",
    "plt.title('Top 10 keywords')\n",
    "plt.ylabel('Number of Occurrences', fontsize=12)\n",
    "plt.xlabel('keyword', fontsize=12)\n",
    "plt.show()"
   ]
  },
  {
   "cell_type": "markdown",
   "metadata": {
    "papermill": {
     "duration": 0.069311,
     "end_time": "2021-01-03T18:08:40.640293",
     "exception": false,
     "start_time": "2021-01-03T18:08:40.570982",
     "status": "completed"
    },
    "tags": []
   },
   "source": [
    "* **There is a little difference between keywords in train and test set, I will check the intersection between the keywords in train and test**"
   ]
  },
  {
   "cell_type": "code",
   "execution_count": 22,
   "metadata": {
    "execution": {
     "iopub.execute_input": "2021-01-03T18:08:40.789097Z",
     "iopub.status.busy": "2021-01-03T18:08:40.788405Z",
     "iopub.status.idle": "2021-01-03T18:08:40.793250Z",
     "shell.execute_reply": "2021-01-03T18:08:40.792735Z"
    },
    "papermill": {
     "duration": 0.083267,
     "end_time": "2021-01-03T18:08:40.793357",
     "exception": false,
     "start_time": "2021-01-03T18:08:40.710090",
     "status": "completed"
    },
    "tags": []
   },
   "outputs": [
    {
     "name": "stdout",
     "output_type": "stream",
     "text": [
      "222\n",
      "222\n"
     ]
    }
   ],
   "source": [
    "keyword_train  = list(set(df_train['keyword']))\n",
    "keyword_test  = list(set(df_test['keyword']))\n",
    "\n",
    "print(len(keyword_train))\n",
    "print(len(keyword_test))"
   ]
  },
  {
   "cell_type": "markdown",
   "metadata": {
    "papermill": {
     "duration": 0.071004,
     "end_time": "2021-01-03T18:08:40.934845",
     "exception": false,
     "start_time": "2021-01-03T18:08:40.863841",
     "status": "completed"
    },
    "tags": []
   },
   "source": [
    "<a id = \"8\"></a>\n",
    "## Intersection\n",
    "\n",
    "* **The intersection between the two datasets give us the same number of unique keywords, so the keywords used in both datasets with different occurrence**"
   ]
  },
  {
   "cell_type": "code",
   "execution_count": 23,
   "metadata": {
    "execution": {
     "iopub.execute_input": "2021-01-03T18:08:41.084039Z",
     "iopub.status.busy": "2021-01-03T18:08:41.083066Z",
     "iopub.status.idle": "2021-01-03T18:08:41.087755Z",
     "shell.execute_reply": "2021-01-03T18:08:41.087106Z"
    },
    "papermill": {
     "duration": 0.082889,
     "end_time": "2021-01-03T18:08:41.087861",
     "exception": false,
     "start_time": "2021-01-03T18:08:41.004972",
     "status": "completed"
    },
    "tags": []
   },
   "outputs": [
    {
     "data": {
      "text/plain": [
       "222"
      ]
     },
     "execution_count": 23,
     "metadata": {},
     "output_type": "execute_result"
    }
   ],
   "source": [
    "def intersection(lst1, lst2): \n",
    "    lst3 = [value for value in lst1 if value in lst2] \n",
    "    return lst3 \n",
    "\n",
    "len(intersection(keyword_train, keyword_test))"
   ]
  },
  {
   "cell_type": "code",
   "execution_count": 24,
   "metadata": {
    "execution": {
     "iopub.execute_input": "2021-01-03T18:08:41.239759Z",
     "iopub.status.busy": "2021-01-03T18:08:41.235501Z",
     "iopub.status.idle": "2021-01-03T18:08:41.243947Z",
     "shell.execute_reply": "2021-01-03T18:08:41.243283Z"
    },
    "papermill": {
     "duration": 0.085213,
     "end_time": "2021-01-03T18:08:41.244055",
     "exception": false,
     "start_time": "2021-01-03T18:08:41.158842",
     "status": "completed"
    },
    "tags": []
   },
   "outputs": [],
   "source": [
    "df = df_train[df_train['keyword'].notnull()]\n",
    "from sklearn import preprocessing\n",
    "le = preprocessing.LabelEncoder()\n",
    "df['keyword'] = le.fit_transform(df.keyword.values)"
   ]
  },
  {
   "cell_type": "code",
   "execution_count": 25,
   "metadata": {
    "execution": {
     "iopub.execute_input": "2021-01-03T18:08:41.396395Z",
     "iopub.status.busy": "2021-01-03T18:08:41.392356Z",
     "iopub.status.idle": "2021-01-03T18:09:08.673835Z",
     "shell.execute_reply": "2021-01-03T18:09:08.675011Z"
    },
    "papermill": {
     "duration": 27.36093,
     "end_time": "2021-01-03T18:09:08.675292",
     "exception": false,
     "start_time": "2021-01-03T18:08:41.314362",
     "status": "completed"
    },
    "tags": []
   },
   "outputs": [
    {
     "name": "stdout",
     "output_type": "stream",
     "text": [
      "T-SNE took 2.7e+01 s\n"
     ]
    }
   ],
   "source": [
    "X = df['keyword']\n",
    "y = df['target']\n",
    "\n",
    "\n",
    "# T-SNE Implementation\n",
    "t0 = time.time()\n",
    "X_reduced_tsne = TSNE(n_components=2, random_state=42).fit_transform(X.values.reshape(-1, 1))\n",
    "t1 = time.time()\n",
    "print(\"T-SNE took {:.2} s\".format(t1 - t0))"
   ]
  },
  {
   "cell_type": "code",
   "execution_count": 26,
   "metadata": {
    "execution": {
     "iopub.execute_input": "2021-01-03T18:09:08.898168Z",
     "iopub.status.busy": "2021-01-03T18:09:08.896888Z",
     "iopub.status.idle": "2021-01-03T18:09:09.615248Z",
     "shell.execute_reply": "2021-01-03T18:09:09.615878Z"
    },
    "papermill": {
     "duration": 0.837094,
     "end_time": "2021-01-03T18:09:09.616035",
     "exception": false,
     "start_time": "2021-01-03T18:09:08.778941",
     "status": "completed"
    },
    "tags": []
   },
   "outputs": [
    {
     "data": {
      "image/png": "[encoded data removed]",
      "text/plain": [
       "<Figure size 864x576 with 1 Axes>"
      ]
     },
     "metadata": {},
     "output_type": "display_data"
    }
   ],
   "source": [
    "f, (ax1) = plt.subplots(1, 1, figsize=(12,8))\n",
    "# labels = ['Not Fake', 'Fake']\n",
    "f.suptitle('Clusters (Dimensionality Reduction)', fontsize=14)\n",
    "\n",
    "\n",
    "blue_patch = mpatches.Patch(color='#0A0AFF', label='Not Fake')\n",
    "red_patch = mpatches.Patch(color='#AF0000', label='Fake')\n",
    "\n",
    "\n",
    "# t-SNE scatter plot\n",
    "ax1.scatter(X_reduced_tsne[:,0], X_reduced_tsne[:,1], c=(y == 0), cmap='coolwarm', label='Not Fake', linewidths=2)\n",
    "ax1.scatter(X_reduced_tsne[:,0], X_reduced_tsne[:,1], c=(y == 1), cmap='coolwarm', label='Fake', linewidths=2)\n",
    "ax1.set_title('t-SNE', fontsize=14)\n",
    "\n",
    "ax1.grid(True)\n",
    "\n",
    "ax1.legend(handles=[blue_patch, red_patch])\n",
    "\n",
    "\n",
    "plt.show()"
   ]
  },
  {
   "cell_type": "markdown",
   "metadata": {
    "papermill": {
     "duration": 0.075868,
     "end_time": "2021-01-03T18:09:09.773150",
     "exception": false,
     "start_time": "2021-01-03T18:09:09.697282",
     "status": "completed"
    },
    "tags": []
   },
   "source": [
    "* **Blue dots represent real events**"
   ]
  },
  {
   "cell_type": "markdown",
   "metadata": {
    "papermill": {
     "duration": 0.075018,
     "end_time": "2021-01-03T18:09:09.924225",
     "exception": false,
     "start_time": "2021-01-03T18:09:09.849207",
     "status": "completed"
    },
    "tags": []
   },
   "source": [
    "<a id = \"9\"></a>\n",
    "## Text analysis\n",
    "\n",
    "* I want to check if there is some duplicated tweets, it could be a retweet. If we know that a tweet is fake or not so the other duplicated tweets will get the same class."
   ]
  },
  {
   "cell_type": "code",
   "execution_count": 27,
   "metadata": {
    "execution": {
     "iopub.execute_input": "2021-01-03T18:09:10.078093Z",
     "iopub.status.busy": "2021-01-03T18:09:10.077461Z",
     "iopub.status.idle": "2021-01-03T18:09:10.084953Z",
     "shell.execute_reply": "2021-01-03T18:09:10.085415Z"
    },
    "papermill": {
     "duration": 0.086308,
     "end_time": "2021-01-03T18:09:10.085567",
     "exception": false,
     "start_time": "2021-01-03T18:09:09.999259",
     "status": "completed"
    },
    "tags": []
   },
   "outputs": [
    {
     "data": {
      "text/plain": [
       "7503"
      ]
     },
     "execution_count": 27,
     "metadata": {},
     "output_type": "execute_result"
    }
   ],
   "source": [
    "len(set(df_train['text']))"
   ]
  },
  {
   "cell_type": "code",
   "execution_count": 28,
   "metadata": {
    "execution": {
     "iopub.execute_input": "2021-01-03T18:09:10.248615Z",
     "iopub.status.busy": "2021-01-03T18:09:10.247961Z",
     "iopub.status.idle": "2021-01-03T18:09:10.253704Z",
     "shell.execute_reply": "2021-01-03T18:09:10.254174Z"
    },
    "papermill": {
     "duration": 0.08744,
     "end_time": "2021-01-03T18:09:10.254299",
     "exception": false,
     "start_time": "2021-01-03T18:09:10.166859",
     "status": "completed"
    },
    "tags": []
   },
   "outputs": [
    {
     "data": {
      "text/plain": [
       "3243"
      ]
     },
     "execution_count": 28,
     "metadata": {},
     "output_type": "execute_result"
    }
   ],
   "source": [
    "len(set(df_test['text']))"
   ]
  },
  {
   "cell_type": "markdown",
   "metadata": {
    "papermill": {
     "duration": 0.076563,
     "end_time": "2021-01-03T18:09:10.407179",
     "exception": false,
     "start_time": "2021-01-03T18:09:10.330616",
     "status": "completed"
    },
    "tags": []
   },
   "source": [
    "<a id = \"10\"></a>\n",
    "# Topic Modeling\n",
    "\n",
    "* Topic modeling is a type of statistical modeling for discovering the abstract “topics” that occur in a collection of documents.\n",
    "\n",
    "* It's very important to do topic modeling and understand the content of each question and answer. The reason is that there is some question out of meaning and are not related to the category so they will get little answer and sometimes some blaming."
   ]
  },
  {
   "cell_type": "markdown",
   "metadata": {
    "papermill": {
     "duration": 0.074562,
     "end_time": "2021-01-03T18:09:10.557226",
     "exception": false,
     "start_time": "2021-01-03T18:09:10.482664",
     "status": "completed"
    },
    "tags": []
   },
   "source": [
    "<a id = \"11\"></a>\n",
    "## Latent Dirichlet Allocation (LDA)"
   ]
  },
  {
   "cell_type": "code",
   "execution_count": 29,
   "metadata": {
    "execution": {
     "iopub.execute_input": "2021-01-03T18:09:10.734830Z",
     "iopub.status.busy": "2021-01-03T18:09:10.729520Z",
     "iopub.status.idle": "2021-01-03T18:09:10.747863Z",
     "shell.execute_reply": "2021-01-03T18:09:10.747231Z"
    },
    "papermill": {
     "duration": 0.110457,
     "end_time": "2021-01-03T18:09:10.747971",
     "exception": false,
     "start_time": "2021-01-03T18:09:10.637514",
     "status": "completed"
    },
    "tags": []
   },
   "outputs": [],
   "source": [
    "html_tags = ['<P>', '</P>', '<Table>', '</Table>', '<Tr>', '</Tr>', '<Ul>', '<Ol>', '<Dl>', '</Ul>', '</Ol>', \\\n",
    "             '</Dl>', '<Li>', '<Dd>', '<Dt>', '</Li>', '</Dd>', '</Dt>']\n",
    "r_buf = ['It', 'is', 'are', 'do', 'does', 'did', 'was', 'were', 'will', 'can', 'the', 'a', 'of', 'in', 'and', 'on', \\\n",
    "         'what', 'where', 'when', 'which'] + html_tags\n",
    "\n",
    "def clean(x):\n",
    "    x = x.lower()\n",
    "    for r in r_buf:\n",
    "        x = x.replace(r, '')\n",
    "    x = re.sub(' +', ' ', x)\n",
    "    return x\n",
    "\n",
    "bin_question_tokens = ['it', 'is', 'are', 'do', 'does', 'did', 'was', 'were', 'will', 'can']\n",
    "stop_words = text.ENGLISH_STOP_WORDS.union([\"book\"])\n",
    "\n",
    "def predict(json_data, annotated=False):\n",
    "    # Parse JSON data\n",
    "    candidates = json_data['long_answer_candidates']\n",
    "    candidates = [c for c in candidates if c['top_level'] == True]\n",
    "    doc_tokenized = json_data['document_text'].split(' ')\n",
    "    question = json_data['question_text']\n",
    "    question_s = question.split(' ') \n",
    "    if annotated:\n",
    "        ann = json_data['annotations'][0]\n",
    "\n",
    "    tfidf = TfidfVectorizer(ngram_range=(1,1), stop_words=stop_words)\n",
    "    tfidf.fit([json_data['document_text']])\n",
    "    q_tfidf = tfidf.transform([question]).todense()\n",
    "\n",
    "    # Find the nearest answer from candidates\n",
    "    distances = []\n",
    "    scores = []\n",
    "    i_ann = -1\n",
    "    for i, c in enumerate(candidates):\n",
    "        s, e = c['start_token'], c['end_token']\n",
    "        t = ' '.join(doc_tokenized[s:e])\n",
    "        distances.append(levenshtein_distance(clean(question), clean(t)))\n",
    "        \n",
    "        t_tfidf = tfidf.transform([t]).todense()\n",
    "        score = 1 - spatial.distance.cosine(q_tfidf, t_tfidf)\n",
    "        \n",
    "        scores.append(score)\n",
    "\n",
    "    # Format results\n",
    "    \n",
    "    ans = candidates[np.argmax(scores)]\n",
    "    if np.max(scores) < 0.2:\n",
    "        ans_long = '-1:-1'\n",
    "    else:\n",
    "        ans_long = str(ans['start_token']) + ':' + str(ans['end_token'])\n",
    "    if question_s[0] in bin_question_tokens:\n",
    "        ans_short = 'YES'\n",
    "    else:\n",
    "        ans_short = ''\n",
    "        \n",
    "    # Preparing data for debug\n",
    "    if annotated:\n",
    "        ann_long_text = ' '.join(doc_tokenized[ann['long_answer']['start_token']:ann['long_answer']['end_token']])\n",
    "        if ann['yes_no_answer'] == 'NONE':\n",
    "            if len(json_data['annotations'][0]['short_answers']) > 0:\n",
    "                ann_short_text = ' '.join(doc_tokenized[ann['short_answers'][0]['start_token']:ann['short_answers'][0]['end_token']])\n",
    "            else:\n",
    "                ann_short_text = ''\n",
    "        else:\n",
    "            ann_short_text = ann['yes_no_answer']\n",
    "    else:\n",
    "        ann_long_text = ''\n",
    "        ann_short_text = ''\n",
    "        \n",
    "    ans_long_text = ' '.join(doc_tokenized[ans['start_token']:ans['end_token']])\n",
    "    if len(ans_short) > 0 or ans_short == 'YES':\n",
    "        ans_short_text = ans_short\n",
    "    else:\n",
    "        ans_short_text = '' # Fix when short answers will work\n",
    "                    \n",
    "    return ans_long, ans_short, question, ann_long_text, ann_short_text, ans_long_text, ans_short"
   ]
  },
  {
   "cell_type": "code",
   "execution_count": 30,
   "metadata": {
    "execution": {
     "iopub.execute_input": "2021-01-03T18:09:10.918188Z",
     "iopub.status.busy": "2021-01-03T18:09:10.917481Z",
     "iopub.status.idle": "2021-01-03T18:09:10.921870Z",
     "shell.execute_reply": "2021-01-03T18:09:10.922322Z"
    },
    "papermill": {
     "duration": 0.08664,
     "end_time": "2021-01-03T18:09:10.922484",
     "exception": false,
     "start_time": "2021-01-03T18:09:10.835844",
     "status": "completed"
    },
    "tags": []
   },
   "outputs": [],
   "source": [
    "reindexed_data = df_train['text'] "
   ]
  },
  {
   "cell_type": "code",
   "execution_count": 31,
   "metadata": {
    "execution": {
     "iopub.execute_input": "2021-01-03T18:09:11.082734Z",
     "iopub.status.busy": "2021-01-03T18:09:11.082003Z",
     "iopub.status.idle": "2021-01-03T18:09:11.092627Z",
     "shell.execute_reply": "2021-01-03T18:09:11.091975Z"
    },
    "papermill": {
     "duration": 0.091973,
     "end_time": "2021-01-03T18:09:11.092737",
     "exception": false,
     "start_time": "2021-01-03T18:09:11.000764",
     "status": "completed"
    },
    "tags": []
   },
   "outputs": [],
   "source": [
    "def get_top_n_words(n_top_words, count_vectorizer, text_data):\n",
    "    '''\n",
    "    returns a tuple of the top n words in a sample and their \n",
    "    accompanying counts, given a CountVectorizer object and text sample\n",
    "    '''\n",
    "    vectorized_headlines = count_vectorizer.fit_transform(text_data.values)\n",
    "    vectorized_total = np.sum(vectorized_headlines, axis=0)\n",
    "    word_indices = np.flip(np.argsort(vectorized_total)[0,:], 1)\n",
    "    word_values = np.flip(np.sort(vectorized_total)[0,:],1)\n",
    "    \n",
    "    word_vectors = np.zeros((n_top_words, vectorized_headlines.shape[1]))\n",
    "    for i in range(n_top_words):\n",
    "        word_vectors[i,word_indices[0,i]] = 1\n",
    "\n",
    "    words = [word[0].encode('ascii',errors=\"ignore\").decode('utf-8',errors=\"ignore\") for \n",
    "             word in count_vectorizer.inverse_transform(word_vectors)]\n",
    "\n",
    "    return (words, word_values[0,:n_top_words].tolist()[0])"
   ]
  },
  {
   "cell_type": "code",
   "execution_count": 32,
   "metadata": {
    "execution": {
     "iopub.execute_input": "2021-01-03T18:09:11.308663Z",
     "iopub.status.busy": "2021-01-03T18:09:11.272382Z",
     "iopub.status.idle": "2021-01-03T18:09:11.913945Z",
     "shell.execute_reply": "2021-01-03T18:09:11.914495Z"
    },
    "papermill": {
     "duration": 0.735465,
     "end_time": "2021-01-03T18:09:11.914647",
     "exception": false,
     "start_time": "2021-01-03T18:09:11.179182",
     "status": "completed"
    },
    "tags": []
   },
   "outputs": [
    {
     "data": {
      "image/png": "[encoded data removed]",
      "text/plain": [
       "<Figure size 720x288 with 1 Axes>"
      ]
     },
     "metadata": {},
     "output_type": "display_data"
    }
   ],
   "source": [
    "count_vectorizer = CountVectorizer(stop_words='english')\n",
    "words, word_values = get_top_n_words(n_top_words=25,\n",
    "                                     count_vectorizer=count_vectorizer, \n",
    "                                     text_data=reindexed_data)\n",
    "\n",
    "fig, ax = plt.subplots(figsize=(10,4))\n",
    "ax.bar(range(len(words)), word_values);\n",
    "ax.set_xticks(range(len(words)));\n",
    "ax.set_xticklabels(words, rotation='vertical');\n",
    "ax.set_title('Top words in headlines dataset (excluding stop words)');\n",
    "ax.set_xlabel('Word');\n",
    "ax.set_ylabel('Number of occurences');\n",
    "plt.show()"
   ]
  },
  {
   "cell_type": "markdown",
   "metadata": {
    "papermill": {
     "duration": 0.084371,
     "end_time": "2021-01-03T18:09:12.085057",
     "exception": false,
     "start_time": "2021-01-03T18:09:12.000686",
     "status": "completed"
    },
    "tags": []
   },
   "source": [
    "* Next, we create a histogram of the headline word lengths and use speech fragment tagging to understand the types of words used in the entire community. This requires first converting all header strings to TextBlobs and calling the pos_tags method for each, giving a list of tagged words for each header."
   ]
  },
  {
   "cell_type": "code",
   "execution_count": 33,
   "metadata": {
    "execution": {
     "iopub.execute_input": "2021-01-03T18:09:12.250297Z",
     "iopub.status.busy": "2021-01-03T18:09:12.249320Z",
     "iopub.status.idle": "2021-01-03T18:09:27.826762Z",
     "shell.execute_reply": "2021-01-03T18:09:27.825864Z"
    },
    "papermill": {
     "duration": 15.660813,
     "end_time": "2021-01-03T18:09:27.826879",
     "exception": false,
     "start_time": "2021-01-03T18:09:12.166066",
     "status": "completed"
    },
    "tags": []
   },
   "outputs": [],
   "source": [
    "tagged_headlines = [TextBlob(reindexed_data[i]).pos_tags for i in range(reindexed_data.shape[0])]"
   ]
  },
  {
   "cell_type": "code",
   "execution_count": 34,
   "metadata": {
    "execution": {
     "iopub.execute_input": "2021-01-03T18:09:27.987696Z",
     "iopub.status.busy": "2021-01-03T18:09:27.986696Z",
     "iopub.status.idle": "2021-01-03T18:09:28.095587Z",
     "shell.execute_reply": "2021-01-03T18:09:28.096125Z"
    },
    "papermill": {
     "duration": 0.19115,
     "end_time": "2021-01-03T18:09:28.096291",
     "exception": false,
     "start_time": "2021-01-03T18:09:27.905141",
     "status": "completed"
    },
    "tags": []
   },
   "outputs": [
    {
     "name": "stdout",
     "output_type": "stream",
     "text": [
      "Total number of words:  122690\n",
      "Mean number of words per tweet:  16.11585445947721\n"
     ]
    }
   ],
   "source": [
    "tagged_headlines_df = pd.DataFrame({'tags':tagged_headlines})\n",
    "\n",
    "word_counts = [] \n",
    "pos_counts = {}\n",
    "\n",
    "for headline in tagged_headlines_df[u'tags']:\n",
    "    word_counts.append(len(headline))\n",
    "    for tag in headline:\n",
    "        if tag[1] in pos_counts:\n",
    "            pos_counts[tag[1]] += 1\n",
    "        else:\n",
    "            pos_counts[tag[1]] = 1\n",
    "            \n",
    "print('Total number of words: ', np.sum(word_counts))\n",
    "print('Mean number of words per tweet: ', np.mean(word_counts))"
   ]
  },
  {
   "cell_type": "code",
   "execution_count": 35,
   "metadata": {
    "execution": {
     "iopub.execute_input": "2021-01-03T18:09:28.268046Z",
     "iopub.status.busy": "2021-01-03T18:09:28.267312Z",
     "iopub.status.idle": "2021-01-03T18:09:28.527605Z",
     "shell.execute_reply": "2021-01-03T18:09:28.528174Z"
    },
    "papermill": {
     "duration": 0.351404,
     "end_time": "2021-01-03T18:09:28.528306",
     "exception": false,
     "start_time": "2021-01-03T18:09:28.176902",
     "status": "completed"
    },
    "tags": []
   },
   "outputs": [
    {
     "data": {
      "image/png": "[encoded data removed]",
      "text/plain": [
       "<Figure size 576x288 with 1 Axes>"
      ]
     },
     "metadata": {},
     "output_type": "display_data"
    }
   ],
   "source": [
    "y = stats.norm.pdf(np.linspace(0,14,50), np.mean(word_counts), np.std(word_counts))\n",
    "\n",
    "fig, ax = plt.subplots(figsize=(8,4))\n",
    "ax.hist(word_counts, bins=range(1,14), density=True);\n",
    "ax.plot(np.linspace(0,14,50), y, 'r--', linewidth=1);\n",
    "ax.set_title('Headline word lengths');\n",
    "ax.set_xticks(range(1,14));\n",
    "ax.set_xlabel('Number of words');\n",
    "plt.show()"
   ]
  },
  {
   "cell_type": "markdown",
   "metadata": {
    "papermill": {
     "duration": 0.080747,
     "end_time": "2021-01-03T18:09:28.689070",
     "exception": false,
     "start_time": "2021-01-03T18:09:28.608323",
     "status": "completed"
    },
    "tags": []
   },
   "source": [
    "<a id = \"12\"></a>\n",
    "## Part-of-Speech Tagging for questions"
   ]
  },
  {
   "cell_type": "code",
   "execution_count": 36,
   "metadata": {
    "execution": {
     "iopub.execute_input": "2021-01-03T18:09:28.853640Z",
     "iopub.status.busy": "2021-01-03T18:09:28.852970Z",
     "iopub.status.idle": "2021-01-03T18:09:29.308334Z",
     "shell.execute_reply": "2021-01-03T18:09:29.307839Z"
    },
    "papermill": {
     "duration": 0.537278,
     "end_time": "2021-01-03T18:09:29.308464",
     "exception": false,
     "start_time": "2021-01-03T18:09:28.771186",
     "status": "completed"
    },
    "tags": []
   },
   "outputs": [
    {
     "data": {
      "image/png": "[encoded data removed]",
      "text/plain": [
       "<Figure size 1008x288 with 1 Axes>"
      ]
     },
     "metadata": {},
     "output_type": "display_data"
    }
   ],
   "source": [
    "pos_sorted_types = sorted(pos_counts, key=pos_counts.__getitem__, reverse=True)\n",
    "pos_sorted_counts = sorted(pos_counts.values(), reverse=True)\n",
    "\n",
    "fig, ax = plt.subplots(figsize=(14,4))\n",
    "ax.bar(range(len(pos_counts)), pos_sorted_counts);\n",
    "ax.set_xticks(range(len(pos_counts)));\n",
    "ax.set_xticklabels(pos_sorted_types);\n",
    "ax.set_title('Part-of-Speech Tagging for questions');\n",
    "ax.set_xlabel('Type of Word');"
   ]
  },
  {
   "cell_type": "markdown",
   "metadata": {
    "papermill": {
     "duration": 0.08011,
     "end_time": "2021-01-03T18:09:29.468584",
     "exception": false,
     "start_time": "2021-01-03T18:09:29.388474",
     "status": "completed"
    },
    "tags": []
   },
   "source": [
    "<a id = \"13\"></a>\n",
    "# Preprocessing\n",
    "\n",
    "* Now I'll apply a clustering algorithm to headlines to examine the topic and how it has evolved over time.\n",
    "\n",
    "* The only preprocessing step required in our case is feature construction. In practice, this simply means converting each string to a numerical vector."
   ]
  },
  {
   "cell_type": "code",
   "execution_count": 37,
   "metadata": {
    "execution": {
     "iopub.execute_input": "2021-01-03T18:09:29.650723Z",
     "iopub.status.busy": "2021-01-03T18:09:29.650046Z",
     "iopub.status.idle": "2021-01-03T18:09:29.668514Z",
     "shell.execute_reply": "2021-01-03T18:09:29.667950Z"
    },
    "papermill": {
     "duration": 0.11923,
     "end_time": "2021-01-03T18:09:29.668622",
     "exception": false,
     "start_time": "2021-01-03T18:09:29.549392",
     "status": "completed"
    },
    "tags": []
   },
   "outputs": [
    {
     "name": "stdout",
     "output_type": "stream",
     "text": [
      "Tweets before vectorization: NowPlaying Rock You Like A Hurricane - Scorpions http://t.co/JRztpT8IJq\n",
      "Tweets after vectorization: \n",
      "  (0, 1315)\t1\n",
      "  (0, 1564)\t1\n",
      "  (0, 1328)\t1\n",
      "  (0, 2263)\t1\n",
      "  (0, 1841)\t1\n",
      "  (0, 2339)\t1\n",
      "  (0, 1447)\t1\n"
     ]
    }
   ],
   "source": [
    "small_count_vectorizer = CountVectorizer(stop_words='english', max_features=40000)\n",
    "small_text_sample = reindexed_data.sample(n=500, random_state=0).values\n",
    "\n",
    "print('Tweets before vectorization: {}'.format(small_text_sample[123]))\n",
    "\n",
    "small_document_term_matrix = small_count_vectorizer.fit_transform(small_text_sample)\n",
    "\n",
    "print('Tweets after vectorization: \\n{}'.format(small_document_term_matrix[123]))"
   ]
  },
  {
   "cell_type": "markdown",
   "metadata": {
    "papermill": {
     "duration": 0.101005,
     "end_time": "2021-01-03T18:09:29.852908",
     "exception": false,
     "start_time": "2021-01-03T18:09:29.751903",
     "status": "completed"
    },
    "tags": []
   },
   "source": [
    "* Thus we have training data, small_document_term_matrix and we can implement a clustering algorithm.\n",
    "* Our choice will be either Latent Semantic Analysis (LSA) or Latent Dirichlet Allocation (LDA). "
   ]
  },
  {
   "cell_type": "code",
   "execution_count": 38,
   "metadata": {
    "execution": {
     "iopub.execute_input": "2021-01-03T18:09:30.029655Z",
     "iopub.status.busy": "2021-01-03T18:09:30.028974Z",
     "iopub.status.idle": "2021-01-03T18:09:30.032329Z",
     "shell.execute_reply": "2021-01-03T18:09:30.031838Z"
    },
    "papermill": {
     "duration": 0.088133,
     "end_time": "2021-01-03T18:09:30.032478",
     "exception": false,
     "start_time": "2021-01-03T18:09:29.944345",
     "status": "completed"
    },
    "tags": []
   },
   "outputs": [],
   "source": [
    "n_topics = 5"
   ]
  },
  {
   "cell_type": "markdown",
   "metadata": {
    "papermill": {
     "duration": 0.080737,
     "end_time": "2021-01-03T18:09:30.201040",
     "exception": false,
     "start_time": "2021-01-03T18:09:30.120303",
     "status": "completed"
    },
    "tags": []
   },
   "source": [
    "<a id = \"14\"></a>\n",
    "## Latent Semantic Analysis (LSA)\n",
    "\n",
    "* This is effectively just a truncated singular value decomposition of a document-term matrix, with only the r= n_topics largest singular values preserved."
   ]
  },
  {
   "cell_type": "code",
   "execution_count": 39,
   "metadata": {
    "execution": {
     "iopub.execute_input": "2021-01-03T18:09:30.365405Z",
     "iopub.status.busy": "2021-01-03T18:09:30.364731Z",
     "iopub.status.idle": "2021-01-03T18:09:30.450793Z",
     "shell.execute_reply": "2021-01-03T18:09:30.450056Z"
    },
    "papermill": {
     "duration": 0.169287,
     "end_time": "2021-01-03T18:09:30.450929",
     "exception": false,
     "start_time": "2021-01-03T18:09:30.281642",
     "status": "completed"
    },
    "tags": []
   },
   "outputs": [],
   "source": [
    "lsa_model = TruncatedSVD(n_components=n_topics)\n",
    "lsa_topic_matrix = lsa_model.fit_transform(small_document_term_matrix)"
   ]
  },
  {
   "cell_type": "code",
   "execution_count": 40,
   "metadata": {
    "execution": {
     "iopub.execute_input": "2021-01-03T18:09:30.623941Z",
     "iopub.status.busy": "2021-01-03T18:09:30.619317Z",
     "iopub.status.idle": "2021-01-03T18:09:30.629008Z",
     "shell.execute_reply": "2021-01-03T18:09:30.627848Z"
    },
    "papermill": {
     "duration": 0.096193,
     "end_time": "2021-01-03T18:09:30.629131",
     "exception": false,
     "start_time": "2021-01-03T18:09:30.532938",
     "status": "completed"
    },
    "tags": []
   },
   "outputs": [],
   "source": [
    "def get_keys(topic_matrix):\n",
    "    '''\n",
    "    returns an integer list of predicted topic \n",
    "    categories for a given topic matrix\n",
    "    '''\n",
    "    keys = topic_matrix.argmax(axis=1).tolist()\n",
    "    return keys\n",
    "\n",
    "def keys_to_counts(keys):\n",
    "    '''\n",
    "    returns a tuple of topic categories and their \n",
    "    accompanying magnitudes for a given list of keys\n",
    "    '''\n",
    "    count_pairs = Counter(keys).items()\n",
    "    categories = [pair[0] for pair in count_pairs]\n",
    "    counts = [pair[1] for pair in count_pairs]\n",
    "    return (categories, counts)"
   ]
  },
  {
   "cell_type": "code",
   "execution_count": 41,
   "metadata": {
    "execution": {
     "iopub.execute_input": "2021-01-03T18:09:30.802691Z",
     "iopub.status.busy": "2021-01-03T18:09:30.802047Z",
     "iopub.status.idle": "2021-01-03T18:09:30.804695Z",
     "shell.execute_reply": "2021-01-03T18:09:30.805234Z"
    },
    "papermill": {
     "duration": 0.095022,
     "end_time": "2021-01-03T18:09:30.805376",
     "exception": false,
     "start_time": "2021-01-03T18:09:30.710354",
     "status": "completed"
    },
    "tags": []
   },
   "outputs": [],
   "source": [
    "lsa_keys = get_keys(lsa_topic_matrix)\n",
    "lsa_categories, lsa_counts = keys_to_counts(lsa_keys)"
   ]
  },
  {
   "cell_type": "code",
   "execution_count": 42,
   "metadata": {
    "execution": {
     "iopub.execute_input": "2021-01-03T18:09:30.981368Z",
     "iopub.status.busy": "2021-01-03T18:09:30.980253Z",
     "iopub.status.idle": "2021-01-03T18:09:30.982871Z",
     "shell.execute_reply": "2021-01-03T18:09:30.983331Z"
    },
    "papermill": {
     "duration": 0.096244,
     "end_time": "2021-01-03T18:09:30.983491",
     "exception": false,
     "start_time": "2021-01-03T18:09:30.887247",
     "status": "completed"
    },
    "tags": []
   },
   "outputs": [],
   "source": [
    "def get_top_n_words(n, keys, document_term_matrix, count_vectorizer):\n",
    "    '''\n",
    "    returns a list of n_topic strings, where each string contains the n most common \n",
    "    words in a predicted category, in order\n",
    "    '''\n",
    "    top_word_indices = []\n",
    "    for topic in range(n_topics):\n",
    "        temp_vector_sum = 0\n",
    "        for i in range(len(keys)):\n",
    "            if keys[i] == topic:\n",
    "                temp_vector_sum += document_term_matrix[i]\n",
    "        temp_vector_sum = temp_vector_sum.toarray()\n",
    "        top_n_word_indices = np.flip(np.argsort(temp_vector_sum)[0][-n:],0)\n",
    "        top_word_indices.append(top_n_word_indices)   \n",
    "    top_words = []\n",
    "    for topic in top_word_indices:\n",
    "        topic_words = []\n",
    "        for index in topic:\n",
    "            temp_word_vector = np.zeros((1,document_term_matrix.shape[1]))\n",
    "            temp_word_vector[:,index] = 1\n",
    "            the_word = count_vectorizer.inverse_transform(temp_word_vector)[0][0]\n",
    "            topic_words.append(the_word.encode('ascii',errors=\"ignore\").decode('utf-8',errors=\"ignore\"))\n",
    "        top_words.append(\" \".join(topic_words))         \n",
    "    return top_words"
   ]
  },
  {
   "cell_type": "code",
   "execution_count": 43,
   "metadata": {
    "execution": {
     "iopub.execute_input": "2021-01-03T18:09:31.151292Z",
     "iopub.status.busy": "2021-01-03T18:09:31.150310Z",
     "iopub.status.idle": "2021-01-03T18:09:31.362021Z",
     "shell.execute_reply": "2021-01-03T18:09:31.362516Z"
    },
    "papermill": {
     "duration": 0.297094,
     "end_time": "2021-01-03T18:09:31.362679",
     "exception": false,
     "start_time": "2021-01-03T18:09:31.065585",
     "status": "completed"
    },
    "tags": []
   },
   "outputs": [
    {
     "name": "stdout",
     "output_type": "stream",
     "text": [
      "Topic 1:  http _ new news police storm people set video wildfire\n",
      "Topic 2:  like https amp don man body day _ year think\n",
      "Topic 3:  people saudi suicide mosque bomber http want time kills news\n",
      "Topic 4:  just twitter love got ll armageddon im great going exploded\n",
      "Topic 5:  al zabadani replace birmingham ahrar dee silver twister tower clutch\n"
     ]
    }
   ],
   "source": [
    "top_n_words_lsa = get_top_n_words(10, lsa_keys, small_document_term_matrix, small_count_vectorizer)\n",
    "\n",
    "for i in range(len(top_n_words_lsa)):\n",
    "    print(\"Topic {}: \".format(i+1), top_n_words_lsa[i])"
   ]
  },
  {
   "cell_type": "markdown",
   "metadata": {
    "papermill": {
     "duration": 0.081665,
     "end_time": "2021-01-03T18:09:31.526998",
     "exception": false,
     "start_time": "2021-01-03T18:09:31.445333",
     "status": "completed"
    },
    "tags": []
   },
   "source": [
    "* We've turned our first small title example into a list of predicted subject categories, where each category is characterized by the most common words."
   ]
  },
  {
   "cell_type": "code",
   "execution_count": 44,
   "metadata": {
    "execution": {
     "iopub.execute_input": "2021-01-03T18:09:31.846498Z",
     "iopub.status.busy": "2021-01-03T18:09:31.784550Z",
     "iopub.status.idle": "2021-01-03T18:09:32.057007Z",
     "shell.execute_reply": "2021-01-03T18:09:32.057508Z"
    },
    "papermill": {
     "duration": 0.448062,
     "end_time": "2021-01-03T18:09:32.057663",
     "exception": false,
     "start_time": "2021-01-03T18:09:31.609601",
     "status": "completed"
    },
    "tags": []
   },
   "outputs": [
    {
     "data": {
      "image/png": "[encoded data removed]",
      "text/plain": [
       "<Figure size 576x288 with 1 Axes>"
      ]
     },
     "metadata": {},
     "output_type": "display_data"
    }
   ],
   "source": [
    "top_3_words = get_top_n_words(3, lsa_keys, small_document_term_matrix, small_count_vectorizer)\n",
    "labels = ['Topic {}: \\n'.format(i) + top_3_words[i] for i in lsa_categories]\n",
    "\n",
    "fig, ax = plt.subplots(figsize=(8,4))\n",
    "ax.bar(lsa_categories, lsa_counts);\n",
    "ax.set_xticks(lsa_categories);\n",
    "ax.set_xticklabels(labels);\n",
    "ax.set_ylabel('Number of tweets');\n",
    "ax.set_title('LSA topic counts');\n",
    "plt.show()"
   ]
  },
  {
   "cell_type": "markdown",
   "metadata": {
    "papermill": {
     "duration": 0.082444,
     "end_time": "2021-01-03T18:09:32.223133",
     "exception": false,
     "start_time": "2021-01-03T18:09:32.140689",
     "status": "completed"
    },
    "tags": []
   },
   "source": [
    "* To accurately compare LSA with LDA, we use a size reduction technique called t-SNE that will serve to better illuminate the success of the clustering process."
   ]
  },
  {
   "cell_type": "code",
   "execution_count": 45,
   "metadata": {
    "execution": {
     "iopub.execute_input": "2021-01-03T18:09:32.396949Z",
     "iopub.status.busy": "2021-01-03T18:09:32.395984Z",
     "iopub.status.idle": "2021-01-03T18:09:37.223028Z",
     "shell.execute_reply": "2021-01-03T18:09:37.224265Z"
    },
    "papermill": {
     "duration": 4.91875,
     "end_time": "2021-01-03T18:09:37.224476",
     "exception": false,
     "start_time": "2021-01-03T18:09:32.305726",
     "status": "completed"
    },
    "tags": []
   },
   "outputs": [
    {
     "name": "stdout",
     "output_type": "stream",
     "text": [
      "[t-SNE] Computing 151 nearest neighbors...\n",
      "[t-SNE] Indexed 500 samples in 0.001s...\n",
      "[t-SNE] Computed neighbors for 500 samples in 0.018s...\n",
      "[t-SNE] Computed conditional probabilities for sample 500 / 500\n",
      "[t-SNE] Mean sigma: 0.049480\n",
      "[t-SNE] KL divergence after 250 iterations with early exaggeration: 47.493355\n",
      "[t-SNE] KL divergence after 2000 iterations: 0.243077\n"
     ]
    }
   ],
   "source": [
    "tsne_lsa_model = TSNE(n_components=2, perplexity=50, learning_rate=100, \n",
    "                        n_iter=2000, verbose=1, random_state=0, angle=0.75)\n",
    "tsne_lsa_vectors = tsne_lsa_model.fit_transform(lsa_topic_matrix)"
   ]
  },
  {
   "cell_type": "code",
   "execution_count": 46,
   "metadata": {
    "execution": {
     "iopub.execute_input": "2021-01-03T18:09:37.445004Z",
     "iopub.status.busy": "2021-01-03T18:09:37.444052Z",
     "iopub.status.idle": "2021-01-03T18:09:37.447596Z",
     "shell.execute_reply": "2021-01-03T18:09:37.447041Z"
    },
    "papermill": {
     "duration": 0.11323,
     "end_time": "2021-01-03T18:09:37.447705",
     "exception": false,
     "start_time": "2021-01-03T18:09:37.334475",
     "status": "completed"
    },
    "tags": []
   },
   "outputs": [],
   "source": [
    "def get_mean_topic_vectors(keys, two_dim_vectors):\n",
    "    '''\n",
    "    returns a list of centroid vectors from each predicted topic category\n",
    "    '''\n",
    "    mean_topic_vectors = []\n",
    "    for t in range(n_topics):\n",
    "        articles_in_that_topic = []\n",
    "        for i in range(len(keys)):\n",
    "            if keys[i] == t:\n",
    "                articles_in_that_topic.append(two_dim_vectors[i])    \n",
    "        \n",
    "        articles_in_that_topic = np.vstack(articles_in_that_topic)\n",
    "        mean_article_in_that_topic = np.mean(articles_in_that_topic, axis=0)\n",
    "        mean_topic_vectors.append(mean_article_in_that_topic)\n",
    "    return mean_topic_vectors"
   ]
  },
  {
   "cell_type": "code",
   "execution_count": 47,
   "metadata": {
    "execution": {
     "iopub.execute_input": "2021-01-03T18:09:37.622818Z",
     "iopub.status.busy": "2021-01-03T18:09:37.622141Z",
     "iopub.status.idle": "2021-01-03T18:09:37.624135Z",
     "shell.execute_reply": "2021-01-03T18:09:37.624599Z"
    },
    "papermill": {
     "duration": 0.093144,
     "end_time": "2021-01-03T18:09:37.624741",
     "exception": false,
     "start_time": "2021-01-03T18:09:37.531597",
     "status": "completed"
    },
    "tags": []
   },
   "outputs": [],
   "source": [
    "colormap = np.array([\n",
    "    \"#1f77b4\", \"#aec7e8\", \"#ff7f0e\", \"#ffbb78\", \"#2ca02c\",\n",
    "    \"#98df8a\", \"#d62728\", \"#ff9896\", \"#9467bd\", \"#c5b0d5\",\n",
    "    \"#8c564b\", \"#c49c94\", \"#e377c2\", \"#f7b6d2\", \"#7f7f7f\",\n",
    "    \"#c7c7c7\", \"#bcbd22\", \"#dbdb8d\", \"#17becf\", \"#9edae5\" ])\n",
    "colormap = colormap[:n_topics]"
   ]
  },
  {
   "cell_type": "markdown",
   "metadata": {
    "papermill": {
     "duration": 0.085757,
     "end_time": "2021-01-03T18:09:37.794638",
     "exception": false,
     "start_time": "2021-01-03T18:09:37.708881",
     "status": "completed"
    },
    "tags": []
   },
   "source": [
    "* Now we have reduced these n_topics-dimensional vectors to two-dimensional representations, we can plot the clusters using Bokeh. "
   ]
  },
  {
   "cell_type": "code",
   "execution_count": 48,
   "metadata": {
    "execution": {
     "iopub.execute_input": "2021-01-03T18:09:37.966285Z",
     "iopub.status.busy": "2021-01-03T18:09:37.965663Z",
     "iopub.status.idle": "2021-01-03T18:09:38.170341Z",
     "shell.execute_reply": "2021-01-03T18:09:38.169245Z"
    },
    "papermill": {
     "duration": 0.291423,
     "end_time": "2021-01-03T18:09:38.170486",
     "exception": false,
     "start_time": "2021-01-03T18:09:37.879063",
     "status": "completed"
    },
    "tags": []
   },
   "outputs": [
    {
     "data": {
      "text/html": [
       "\n",
       "\n",
       "\n",
       "\n",
       "\n",
       "\n",
       "  <div class=\"bk-root\" id=\"39ffa264-5738-4b0d-9c66-d530478ccf81\" data-root-id=\"1002\"></div>\n"
      ]
     },
     "metadata": {},
     "output_type": "display_data"
    },
    {
     "data": {
      "application/javascript": [
       "(function(root) {\n",
       "  function embed_document(root) {\n",
       "    \n",
       "  var docs_json = {\"a11857c7-7cbd-485a-b42f-7c67afeef63b\":{\"roots\":{\"references\":[{\"attributes\":{\"below\":[{\"id\":\"1013\"}],\"center\":[{\"id\":\"1016\"},{\"id\":\"1020\"},{\"id\":\"1040\"},{\"id\":\"1041\"},{\"id\":\"1042\"},{\"id\":\"1043\"},{\"id\":\"1044\"}],\"left\":[{\"id\":\"1017\"}],\"plot_height\":700,\"plot_width\":700,\"renderers\":[{\"id\":\"1038\"}],\"title\":{\"id\":\"1003\"},\"toolbar\":{\"id\":\"1028\"},\"x_range\":{\"id\":\"1005\"},\"x_scale\":{\"id\":\"1009\"},\"y_range\":{\"id\":\"1007\"},\"y_scale\":{\"id\":\"1011\"}},\"id\":\"1002\",\"subtype\":\"Figure\",\"type\":\"Plot\"},{\"attributes\":{},\"id\":\"1009\",\"type\":\"LinearScale\"},{\"attributes\":{},\"id\":\"1051\",\"type\":\"Selection\"},{\"attributes\":{\"data_source\":{\"id\":\"1035\"},\"glyph\":{\"id\":\"1036\"},\"hover_glyph\":null,\"muted_glyph\":null,\"nonselection_glyph\":{\"id\":\"1037\"},\"selection_glyph\":null,\"view\":{\"id\":\"1039\"}},\"id\":\"1038\",\"type\":\"GlyphRenderer\"},{\"attributes\":{},\"id\":\"1011\",\"type\":\"LinearScale\"},{\"attributes\":{\"data\":{\"fill_color\":[\"#ffbb78\",\"#ff7f0e\",\"#1f77b4\",\"#ff7f0e\",\"#aec7e8\",\"#1f77b4\",\"#1f77b4\",\"#2ca02c\",\"#1f77b4\",\"#aec7e8\",\"#1f77b4\",\"#aec7e8\",\"#ffbb78\",\"#aec7e8\",\"#1f77b4\",\"#1f77b4\",\"#aec7e8\",\"#ffbb78\",\"#aec7e8\",\"#ff7f0e\",\"#ffbb78\",\"#1f77b4\",\"#1f77b4\",\"#ff7f0e\",\"#aec7e8\",\"#2ca02c\",\"#1f77b4\",\"#ff7f0e\",\"#1f77b4\",\"#1f77b4\",\"#ffbb78\",\"#aec7e8\",\"#ffbb78\",\"#1f77b4\",\"#1f77b4\",\"#ffbb78\",\"#aec7e8\",\"#aec7e8\",\"#aec7e8\",\"#aec7e8\",\"#aec7e8\",\"#ffbb78\",\"#1f77b4\",\"#aec7e8\",\"#aec7e8\",\"#aec7e8\",\"#1f77b4\",\"#aec7e8\",\"#1f77b4\",\"#1f77b4\",\"#aec7e8\",\"#1f77b4\",\"#1f77b4\",\"#aec7e8\",\"#aec7e8\",\"#aec7e8\",\"#aec7e8\",\"#1f77b4\",\"#aec7e8\",\"#1f77b4\",\"#1f77b4\",\"#aec7e8\",\"#1f77b4\",\"#1f77b4\",\"#ff7f0e\",\"#ffbb78\",\"#aec7e8\",\"#1f77b4\",\"#ffbb78\",\"#1f77b4\",\"#aec7e8\",\"#ffbb78\",\"#aec7e8\",\"#ffbb78\",\"#1f77b4\",\"#1f77b4\",\"#ff7f0e\",\"#aec7e8\",\"#ff7f0e\",\"#aec7e8\",\"#1f77b4\",\"#1f77b4\",\"#aec7e8\",\"#1f77b4\",\"#1f77b4\",\"#aec7e8\",\"#1f77b4\",\"#1f77b4\",\"#ff7f0e\",\"#1f77b4\",\"#aec7e8\",\"#aec7e8\",\"#aec7e8\",\"#ffbb78\",\"#1f77b4\",\"#ffbb78\",\"#1f77b4\",\"#1f77b4\",\"#aec7e8\",\"#aec7e8\",\"#ffbb78\",\"#aec7e8\",\"#ffbb78\",\"#1f77b4\",\"#aec7e8\",\"#ffbb78\",\"#1f77b4\",\"#1f77b4\",\"#aec7e8\",\"#aec7e8\",\"#1f77b4\",\"#ffbb78\",\"#1f77b4\",\"#aec7e8\",\"#ffbb78\",\"#ffbb78\",\"#1f77b4\",\"#ffbb78\",\"#ffbb78\",\"#1f77b4\",\"#aec7e8\",\"#aec7e8\",\"#aec7e8\",\"#1f77b4\",\"#1f77b4\",\"#aec7e8\",\"#aec7e8\",\"#ff7f0e\",\"#ffbb78\",\"#aec7e8\",\"#aec7e8\",\"#1f77b4\",\"#ffbb78\",\"#aec7e8\",\"#aec7e8\",\"#ffbb78\",\"#aec7e8\",\"#1f77b4\",\"#ffbb78\",\"#aec7e8\",\"#1f77b4\",\"#aec7e8\",\"#ffbb78\",\"#1f77b4\",\"#aec7e8\",\"#1f77b4\",\"#aec7e8\",\"#1f77b4\",\"#1f77b4\",\"#ffbb78\",\"#1f77b4\",\"#1f77b4\",\"#1f77b4\",\"#1f77b4\",\"#1f77b4\",\"#1f77b4\",\"#aec7e8\",\"#ffbb78\",\"#aec7e8\",\"#ffbb78\",\"#ff7f0e\",\"#ffbb78\",\"#aec7e8\",\"#aec7e8\",\"#aec7e8\",\"#1f77b4\",\"#ff7f0e\",\"#1f77b4\",\"#aec7e8\",\"#1f77b4\",\"#1f77b4\",\"#1f77b4\",\"#aec7e8\",\"#1f77b4\",\"#1f77b4\",\"#aec7e8\",\"#1f77b4\",\"#2ca02c\",\"#1f77b4\",\"#aec7e8\",\"#1f77b4\",\"#aec7e8\",\"#1f77b4\",\"#1f77b4\",\"#aec7e8\",\"#1f77b4\",\"#1f77b4\",\"#1f77b4\",\"#ff7f0e\",\"#ffbb78\",\"#1f77b4\",\"#1f77b4\",\"#1f77b4\",\"#aec7e8\",\"#ffbb78\",\"#aec7e8\",\"#1f77b4\",\"#1f77b4\",\"#aec7e8\",\"#1f77b4\",\"#aec7e8\",\"#1f77b4\",\"#1f77b4\",\"#ff7f0e\",\"#aec7e8\",\"#ff7f0e\",\"#ffbb78\",\"#aec7e8\",\"#aec7e8\",\"#1f77b4\",\"#1f77b4\",\"#1f77b4\",\"#aec7e8\",\"#1f77b4\",\"#aec7e8\",\"#1f77b4\",\"#1f77b4\",\"#aec7e8\",\"#1f77b4\",\"#1f77b4\",\"#aec7e8\",\"#1f77b4\",\"#1f77b4\",\"#1f77b4\",\"#aec7e8\",\"#1f77b4\",\"#aec7e8\",\"#1f77b4\",\"#1f77b4\",\"#1f77b4\",\"#aec7e8\",\"#aec7e8\",\"#1f77b4\",\"#aec7e8\",\"#1f77b4\",\"#ff7f0e\",\"#aec7e8\",\"#aec7e8\",\"#aec7e8\",\"#1f77b4\",\"#aec7e8\",\"#ffbb78\",\"#1f77b4\",\"#1f77b4\",\"#1f77b4\",\"#1f77b4\",\"#aec7e8\",\"#aec7e8\",\"#aec7e8\",\"#1f77b4\",\"#ff7f0e\",\"#1f77b4\",\"#aec7e8\",\"#aec7e8\",\"#aec7e8\",\"#ffbb78\",\"#1f77b4\",\"#2ca02c\",\"#ffbb78\",\"#1f77b4\",\"#1f77b4\",\"#aec7e8\",\"#1f77b4\",\"#aec7e8\",\"#1f77b4\",\"#1f77b4\",\"#1f77b4\",\"#1f77b4\",\"#ffbb78\",\"#1f77b4\",\"#1f77b4\",\"#1f77b4\",\"#1f77b4\",\"#aec7e8\",\"#1f77b4\",\"#1f77b4\",\"#aec7e8\",\"#aec7e8\",\"#2ca02c\",\"#1f77b4\",\"#aec7e8\",\"#aec7e8\",\"#ffbb78\",\"#1f77b4\",\"#1f77b4\",\"#aec7e8\",\"#aec7e8\",\"#1f77b4\",\"#aec7e8\",\"#aec7e8\",\"#1f77b4\",\"#1f77b4\",\"#aec7e8\",\"#aec7e8\",\"#aec7e8\",\"#ff7f0e\",\"#1f77b4\",\"#aec7e8\",\"#1f77b4\",\"#ffbb78\",\"#aec7e8\",\"#ff7f0e\",\"#aec7e8\",\"#1f77b4\",\"#ffbb78\",\"#1f77b4\",\"#1f77b4\",\"#1f77b4\",\"#1f77b4\",\"#1f77b4\",\"#aec7e8\",\"#1f77b4\",\"#1f77b4\",\"#aec7e8\",\"#1f77b4\",\"#aec7e8\",\"#1f77b4\",\"#aec7e8\",\"#ffbb78\",\"#1f77b4\",\"#ff7f0e\",\"#1f77b4\",\"#aec7e8\",\"#ff7f0e\",\"#1f77b4\",\"#aec7e8\",\"#aec7e8\",\"#ffbb78\",\"#1f77b4\",\"#aec7e8\",\"#1f77b4\",\"#1f77b4\",\"#aec7e8\",\"#1f77b4\",\"#aec7e8\",\"#1f77b4\",\"#1f77b4\",\"#aec7e8\",\"#aec7e8\",\"#1f77b4\",\"#1f77b4\",\"#1f77b4\",\"#1f77b4\",\"#1f77b4\",\"#1f77b4\",\"#aec7e8\",\"#aec7e8\",\"#1f77b4\",\"#1f77b4\",\"#ffbb78\",\"#1f77b4\",\"#aec7e8\",\"#1f77b4\",\"#aec7e8\",\"#1f77b4\",\"#1f77b4\",\"#1f77b4\",\"#1f77b4\",\"#aec7e8\",\"#1f77b4\",\"#ffbb78\",\"#1f77b4\",\"#1f77b4\",\"#1f77b4\",\"#aec7e8\",\"#aec7e8\",\"#ff7f0e\",\"#1f77b4\",\"#1f77b4\",\"#aec7e8\",\"#aec7e8\",\"#1f77b4\",\"#1f77b4\",\"#aec7e8\",\"#1f77b4\",\"#ffbb78\",\"#aec7e8\",\"#aec7e8\",\"#aec7e8\",\"#1f77b4\",\"#1f77b4\",\"#1f77b4\",\"#aec7e8\",\"#aec7e8\",\"#1f77b4\",\"#1f77b4\",\"#aec7e8\",\"#1f77b4\",\"#aec7e8\",\"#aec7e8\",\"#aec7e8\",\"#1f77b4\",\"#aec7e8\",\"#1f77b4\",\"#1f77b4\",\"#1f77b4\",\"#1f77b4\",\"#ffbb78\",\"#ffbb78\",\"#aec7e8\",\"#1f77b4\",\"#aec7e8\",\"#1f77b4\",\"#1f77b4\",\"#ffbb78\",\"#ffbb78\",\"#aec7e8\",\"#ff7f0e\",\"#1f77b4\",\"#aec7e8\",\"#ffbb78\",\"#ff7f0e\",\"#aec7e8\",\"#ffbb78\",\"#1f77b4\",\"#1f77b4\",\"#1f77b4\",\"#1f77b4\",\"#1f77b4\",\"#1f77b4\",\"#aec7e8\",\"#1f77b4\",\"#1f77b4\",\"#aec7e8\",\"#1f77b4\",\"#aec7e8\",\"#1f77b4\",\"#1f77b4\",\"#1f77b4\",\"#aec7e8\",\"#aec7e8\",\"#1f77b4\",\"#1f77b4\",\"#aec7e8\",\"#1f77b4\",\"#ff7f0e\",\"#1f77b4\",\"#1f77b4\",\"#aec7e8\",\"#1f77b4\",\"#1f77b4\",\"#aec7e8\",\"#ffbb78\",\"#ffbb78\",\"#aec7e8\",\"#aec7e8\",\"#1f77b4\",\"#aec7e8\",\"#1f77b4\",\"#ffbb78\",\"#1f77b4\",\"#ffbb78\",\"#aec7e8\",\"#1f77b4\",\"#ff7f0e\",\"#1f77b4\",\"#1f77b4\",\"#aec7e8\",\"#1f77b4\",\"#1f77b4\",\"#1f77b4\",\"#ffbb78\",\"#aec7e8\",\"#1f77b4\",\"#1f77b4\",\"#ff7f0e\",\"#aec7e8\",\"#1f77b4\",\"#aec7e8\",\"#1f77b4\",\"#ffbb78\",\"#1f77b4\",\"#1f77b4\",\"#aec7e8\",\"#1f77b4\",\"#ff7f0e\",\"#ff7f0e\",\"#1f77b4\",\"#ffbb78\",\"#ffbb78\",\"#1f77b4\",\"#2ca02c\",\"#1f77b4\",\"#aec7e8\",\"#1f77b4\",\"#1f77b4\",\"#ffbb78\",\"#aec7e8\",\"#1f77b4\",\"#1f77b4\",\"#aec7e8\",\"#aec7e8\",\"#1f77b4\",\"#aec7e8\",\"#aec7e8\",\"#ffbb78\",\"#1f77b4\",\"#1f77b4\",\"#1f77b4\",\"#1f77b4\"],\"line_color\":[\"#ffbb78\",\"#ff7f0e\",\"#1f77b4\",\"#ff7f0e\",\"#aec7e8\",\"#1f77b4\",\"#1f77b4\",\"#2ca02c\",\"#1f77b4\",\"#aec7e8\",\"#1f77b4\",\"#aec7e8\",\"#ffbb78\",\"#aec7e8\",\"#1f77b4\",\"#1f77b4\",\"#aec7e8\",\"#ffbb78\",\"#aec7e8\",\"#ff7f0e\",\"#ffbb78\",\"#1f77b4\",\"#1f77b4\",\"#ff7f0e\",\"#aec7e8\",\"#2ca02c\",\"#1f77b4\",\"#ff7f0e\",\"#1f77b4\",\"#1f77b4\",\"#ffbb78\",\"#aec7e8\",\"#ffbb78\",\"#1f77b4\",\"#1f77b4\",\"#ffbb78\",\"#aec7e8\",\"#aec7e8\",\"#aec7e8\",\"#aec7e8\",\"#aec7e8\",\"#ffbb78\",\"#1f77b4\",\"#aec7e8\",\"#aec7e8\",\"#aec7e8\",\"#1f77b4\",\"#aec7e8\",\"#1f77b4\",\"#1f77b4\",\"#aec7e8\",\"#1f77b4\",\"#1f77b4\",\"#aec7e8\",\"#aec7e8\",\"#aec7e8\",\"#aec7e8\",\"#1f77b4\",\"#aec7e8\",\"#1f77b4\",\"#1f77b4\",\"#aec7e8\",\"#1f77b4\",\"#1f77b4\",\"#ff7f0e\",\"#ffbb78\",\"#aec7e8\",\"#1f77b4\",\"#ffbb78\",\"#1f77b4\",\"#aec7e8\",\"#ffbb78\",\"#aec7e8\",\"#ffbb78\",\"#1f77b4\",\"#1f77b4\",\"#ff7f0e\",\"#aec7e8\",\"#ff7f0e\",\"#aec7e8\",\"#1f77b4\",\"#1f77b4\",\"#aec7e8\",\"#1f77b4\",\"#1f77b4\",\"#aec7e8\",\"#1f77b4\",\"#1f77b4\",\"#ff7f0e\",\"#1f77b4\",\"#aec7e8\",\"#aec7e8\",\"#aec7e8\",\"#ffbb78\",\"#1f77b4\",\"#ffbb78\",\"#1f77b4\",\"#1f77b4\",\"#aec7e8\",\"#aec7e8\",\"#ffbb78\",\"#aec7e8\",\"#ffbb78\",\"#1f77b4\",\"#aec7e8\",\"#ffbb78\",\"#1f77b4\",\"#1f77b4\",\"#aec7e8\",\"#aec7e8\",\"#1f77b4\",\"#ffbb78\",\"#1f77b4\",\"#aec7e8\",\"#ffbb78\",\"#ffbb78\",\"#1f77b4\",\"#ffbb78\",\"#ffbb78\",\"#1f77b4\",\"#aec7e8\",\"#aec7e8\",\"#aec7e8\",\"#1f77b4\",\"#1f77b4\",\"#aec7e8\",\"#aec7e8\",\"#ff7f0e\",\"#ffbb78\",\"#aec7e8\",\"#aec7e8\",\"#1f77b4\",\"#ffbb78\",\"#aec7e8\",\"#aec7e8\",\"#ffbb78\",\"#aec7e8\",\"#1f77b4\",\"#ffbb78\",\"#aec7e8\",\"#1f77b4\",\"#aec7e8\",\"#ffbb78\",\"#1f77b4\",\"#aec7e8\",\"#1f77b4\",\"#aec7e8\",\"#1f77b4\",\"#1f77b4\",\"#ffbb78\",\"#1f77b4\",\"#1f77b4\",\"#1f77b4\",\"#1f77b4\",\"#1f77b4\",\"#1f77b4\",\"#aec7e8\",\"#ffbb78\",\"#aec7e8\",\"#ffbb78\",\"#ff7f0e\",\"#ffbb78\",\"#aec7e8\",\"#aec7e8\",\"#aec7e8\",\"#1f77b4\",\"#ff7f0e\",\"#1f77b4\",\"#aec7e8\",\"#1f77b4\",\"#1f77b4\",\"#1f77b4\",\"#aec7e8\",\"#1f77b4\",\"#1f77b4\",\"#aec7e8\",\"#1f77b4\",\"#2ca02c\",\"#1f77b4\",\"#aec7e8\",\"#1f77b4\",\"#aec7e8\",\"#1f77b4\",\"#1f77b4\",\"#aec7e8\",\"#1f77b4\",\"#1f77b4\",\"#1f77b4\",\"#ff7f0e\",\"#ffbb78\",\"#1f77b4\",\"#1f77b4\",\"#1f77b4\",\"#aec7e8\",\"#ffbb78\",\"#aec7e8\",\"#1f77b4\",\"#1f77b4\",\"#aec7e8\",\"#1f77b4\",\"#aec7e8\",\"#1f77b4\",\"#1f77b4\",\"#ff7f0e\",\"#aec7e8\",\"#ff7f0e\",\"#ffbb78\",\"#aec7e8\",\"#aec7e8\",\"#1f77b4\",\"#1f77b4\",\"#1f77b4\",\"#aec7e8\",\"#1f77b4\",\"#aec7e8\",\"#1f77b4\",\"#1f77b4\",\"#aec7e8\",\"#1f77b4\",\"#1f77b4\",\"#aec7e8\",\"#1f77b4\",\"#1f77b4\",\"#1f77b4\",\"#aec7e8\",\"#1f77b4\",\"#aec7e8\",\"#1f77b4\",\"#1f77b4\",\"#1f77b4\",\"#aec7e8\",\"#aec7e8\",\"#1f77b4\",\"#aec7e8\",\"#1f77b4\",\"#ff7f0e\",\"#aec7e8\",\"#aec7e8\",\"#aec7e8\",\"#1f77b4\",\"#aec7e8\",\"#ffbb78\",\"#1f77b4\",\"#1f77b4\",\"#1f77b4\",\"#1f77b4\",\"#aec7e8\",\"#aec7e8\",\"#aec7e8\",\"#1f77b4\",\"#ff7f0e\",\"#1f77b4\",\"#aec7e8\",\"#aec7e8\",\"#aec7e8\",\"#ffbb78\",\"#1f77b4\",\"#2ca02c\",\"#ffbb78\",\"#1f77b4\",\"#1f77b4\",\"#aec7e8\",\"#1f77b4\",\"#aec7e8\",\"#1f77b4\",\"#1f77b4\",\"#1f77b4\",\"#1f77b4\",\"#ffbb78\",\"#1f77b4\",\"#1f77b4\",\"#1f77b4\",\"#1f77b4\",\"#aec7e8\",\"#1f77b4\",\"#1f77b4\",\"#aec7e8\",\"#aec7e8\",\"#2ca02c\",\"#1f77b4\",\"#aec7e8\",\"#aec7e8\",\"#ffbb78\",\"#1f77b4\",\"#1f77b4\",\"#aec7e8\",\"#aec7e8\",\"#1f77b4\",\"#aec7e8\",\"#aec7e8\",\"#1f77b4\",\"#1f77b4\",\"#aec7e8\",\"#aec7e8\",\"#aec7e8\",\"#ff7f0e\",\"#1f77b4\",\"#aec7e8\",\"#1f77b4\",\"#ffbb78\",\"#aec7e8\",\"#ff7f0e\",\"#aec7e8\",\"#1f77b4\",\"#ffbb78\",\"#1f77b4\",\"#1f77b4\",\"#1f77b4\",\"#1f77b4\",\"#1f77b4\",\"#aec7e8\",\"#1f77b4\",\"#1f77b4\",\"#aec7e8\",\"#1f77b4\",\"#aec7e8\",\"#1f77b4\",\"#aec7e8\",\"#ffbb78\",\"#1f77b4\",\"#ff7f0e\",\"#1f77b4\",\"#aec7e8\",\"#ff7f0e\",\"#1f77b4\",\"#aec7e8\",\"#aec7e8\",\"#ffbb78\",\"#1f77b4\",\"#aec7e8\",\"#1f77b4\",\"#1f77b4\",\"#aec7e8\",\"#1f77b4\",\"#aec7e8\",\"#1f77b4\",\"#1f77b4\",\"#aec7e8\",\"#aec7e8\",\"#1f77b4\",\"#1f77b4\",\"#1f77b4\",\"#1f77b4\",\"#1f77b4\",\"#1f77b4\",\"#aec7e8\",\"#aec7e8\",\"#1f77b4\",\"#1f77b4\",\"#ffbb78\",\"#1f77b4\",\"#aec7e8\",\"#1f77b4\",\"#aec7e8\",\"#1f77b4\",\"#1f77b4\",\"#1f77b4\",\"#1f77b4\",\"#aec7e8\",\"#1f77b4\",\"#ffbb78\",\"#1f77b4\",\"#1f77b4\",\"#1f77b4\",\"#aec7e8\",\"#aec7e8\",\"#ff7f0e\",\"#1f77b4\",\"#1f77b4\",\"#aec7e8\",\"#aec7e8\",\"#1f77b4\",\"#1f77b4\",\"#aec7e8\",\"#1f77b4\",\"#ffbb78\",\"#aec7e8\",\"#aec7e8\",\"#aec7e8\",\"#1f77b4\",\"#1f77b4\",\"#1f77b4\",\"#aec7e8\",\"#aec7e8\",\"#1f77b4\",\"#1f77b4\",\"#aec7e8\",\"#1f77b4\",\"#aec7e8\",\"#aec7e8\",\"#aec7e8\",\"#1f77b4\",\"#aec7e8\",\"#1f77b4\",\"#1f77b4\",\"#1f77b4\",\"#1f77b4\",\"#ffbb78\",\"#ffbb78\",\"#aec7e8\",\"#1f77b4\",\"#aec7e8\",\"#1f77b4\",\"#1f77b4\",\"#ffbb78\",\"#ffbb78\",\"#aec7e8\",\"#ff7f0e\",\"#1f77b4\",\"#aec7e8\",\"#ffbb78\",\"#ff7f0e\",\"#aec7e8\",\"#ffbb78\",\"#1f77b4\",\"#1f77b4\",\"#1f77b4\",\"#1f77b4\",\"#1f77b4\",\"#1f77b4\",\"#aec7e8\",\"#1f77b4\",\"#1f77b4\",\"#aec7e8\",\"#1f77b4\",\"#aec7e8\",\"#1f77b4\",\"#1f77b4\",\"#1f77b4\",\"#aec7e8\",\"#aec7e8\",\"#1f77b4\",\"#1f77b4\",\"#aec7e8\",\"#1f77b4\",\"#ff7f0e\",\"#1f77b4\",\"#1f77b4\",\"#aec7e8\",\"#1f77b4\",\"#1f77b4\",\"#aec7e8\",\"#ffbb78\",\"#ffbb78\",\"#aec7e8\",\"#aec7e8\",\"#1f77b4\",\"#aec7e8\",\"#1f77b4\",\"#ffbb78\",\"#1f77b4\",\"#ffbb78\",\"#aec7e8\",\"#1f77b4\",\"#ff7f0e\",\"#1f77b4\",\"#1f77b4\",\"#aec7e8\",\"#1f77b4\",\"#1f77b4\",\"#1f77b4\",\"#ffbb78\",\"#aec7e8\",\"#1f77b4\",\"#1f77b4\",\"#ff7f0e\",\"#aec7e8\",\"#1f77b4\",\"#aec7e8\",\"#1f77b4\",\"#ffbb78\",\"#1f77b4\",\"#1f77b4\",\"#aec7e8\",\"#1f77b4\",\"#ff7f0e\",\"#ff7f0e\",\"#1f77b4\",\"#ffbb78\",\"#ffbb78\",\"#1f77b4\",\"#2ca02c\",\"#1f77b4\",\"#aec7e8\",\"#1f77b4\",\"#1f77b4\",\"#ffbb78\",\"#aec7e8\",\"#1f77b4\",\"#1f77b4\",\"#aec7e8\",\"#aec7e8\",\"#1f77b4\",\"#aec7e8\",\"#aec7e8\",\"#ffbb78\",\"#1f77b4\",\"#1f77b4\",\"#1f77b4\",\"#1f77b4\"],\"x\":{\"__ndarray__\":\"w0YIwc5jo8COHcVABwqzwAtIRcFU40HBj00VQeiqYcH72PxAL/qdvYMMIkFo42LBzSqHPrbnUsHxVGjB+etaQbClcL/7u43Azh6kwKDCv7+OHmfAOUoMQQzO70B3xM+/GBppwT6ySsG7y0ZBcjjMwGtBCEFVUU9Bz+EtwUP9EsHPJhDB+fU0weS0uEAlzg0+KFTcwDHYJ8FzOmnBavUkvzxBPMEvCfLASwwiQbzX3MC4T8fAcFMKwRrlA0FLv17BAJFxQBG41kDiQlnBLAlnQf+09j89MnHBtK5BwZ0SkcBfBWjBsQ49P70vtL8/MC4/ssRmwYdWMsFWpwdBGvHTQCt+ssCI/ADBMelQwYG77kABLifBVARBP+1SMsGihjHBQ3hYwRoVBMERkgNBD38JQAghQ8F1ELrAYV2swGtljMA8+TfBNWydQP+KE8HdCyNBn6kaQag+VsHL1rxAr/pFwUwG48Cb5OlAZVmvP89XLsHuYEfB1XwQwXxR7kBMHvfAp6P5QGVi8z8YhrzA09prwSwiJ8F/FEjBSnd3wIug4UCreD7B0t70vn0mI0Fbgy9BEke8wDRGJj5B4dNAG1+MwIPLukAD/FbBp9tWPwPkV74VSTlBvSbZwGMOHcEqZxJBq9hgwT4UXsFU2FTBR4M3QGgMzD010DzBAxwzwZBHAcEAxW4+gqWlwGOtl7+FYFlB2m0rwUFHET6JqQfBRMoUwepkU8AWq9BA3SgpwQgyW8Ga+SRBhH2qwNVmpb4xPQJBJ4MlwTbQT0FI/kTBPxu6QC1FWUFXDS7Byh7/QF0y0UATrAVBlzpPQS0yBEGyCjRAJzY7wTgeB8GnZALBPfgAwd+L7MCCzxjBQ3klwXwatr8udbzATDVWQRTbEsEhCddABRRDwYBfFEGoGl1BWHT9QGvrqMDtLzNB9ui9QK4NZ8EUiV5BbxlJwRk37kA/goHAV5O4QDseacGb/rtAC00NQWzoYMF6zAJBXYOiQLig00ATtKHA31zPvg16GUHRrgtB2BXqQHZWQMHv+o8+6/tdwQBNFUFOuTVB0k4YPWF84EBZaXPBG/n1QKuxHkH1jaXAjEz1vVMP+sC1hRc8IEVgwbN/WMHma1lAwyxZQcxYz0BJzI/AaaBLQaXLa8GwrNY/LIs1QbH4FcF8Qk1BvZ69QLF2XsHIvB5BGBrdQFrg0UDw7lbB4wrgP+9IUMExIQRA/2PyPxTLHkHewj/BlZFxwXaXQ8FHZVnBrgHxQNvXAsHi8DLBKaz4PTYbeb8JKlRBIIrmvf3kJsEjr/xAaCcjQWbXHMH98FNBxaNHwQqYUcHZQ2TBE0sKQQgYGcEK4DXBevsHwa1kpsCdOCDBDYMkwApL5UDXJUPBRa8LwcAFHkHzPQJAyrwRwG7JXEFAX0fB5FpcQAeOBUFG7r9AdloRQaOo7sBO9AFBzkdQwUJhyUAEkB9BKZJYwWoGr0ApWSzAo306wcNyX7/UWE/B8C7MP8AvXMHxUz7BZogLwW6GVUHTNKo/aI4PvRTQPME41BFBJsE1wdpoWMFuY2FBzN4GQf84T8HiDVXBIz1uwfbDzsAbeEpBF+BYwd03zkA+HPW9yOjjvSM7U8Edei3BBAk2wdLHqD4SR0JAciQOQbcjxkDjDClB1wHWP6tkBMExQFpBNqVeQSKYfb+xcRNBAS4awfLn+0DOzmy/ocpuwIBUjj8FOKnARK4PQUXDZ8HF16PAqJAlQR7WEsGE9iDBm/eLwCu6tEBTjl7Bk8BiQchKWEHw+Eu+p7i+QHKcRcH8pAlB+izLQNbVt8Asm6a/wRhJQe9VDkFPvDhBhxoKQSYYuEDWC9tAFyGTv+QkWcHaCFdBdh3TQMshAMEAs11BMJchwVOdw0CdciHBBOYCQBxGxECVlS/B+SsJQaoqFsFq0VBBOIISPjsqUEFdNhNBzkC7QPJAL8GrZbe/5xcswRVQT0HDD0nBHcxowfn79sBUt7xAfIaHQIrEt77+2MhAJGcawSgVZMHys72/BvPPwD5eAEGk4hFAkGk3QRc7PcGk67TAcE+0QNelYUHdF7DADLoSQd4iTMFGERDB5pMJwS3/rUBTTerARG4mwV1rDEEhJyNBrS5HwZuXnz+/9Q7BcV4NwbWotECTDn7A8XYBQQy8VUCW4us7NkoAwdIw/sDHcYy/grTKQEdpRcEv/ADB3VepwCJlPcG2vwTBN95KwbXlxEB/igRBtHsSQcS5AEFIhAdBer2SwMPgHUHhEjFAmhtBwbZvFUEetx7BD/VdwQZ900BVGl1BiFZRwX7cPcHb8h5BKL1OwUqLvL/fsslA4nqsv09QUkHFJU9BYf9IwZ64rD/nKdVApfBcwXIt/MBUJ8vAmXHnwJR7X8GASM1APg/swPH9XcFMfAO+4nPLQAruwL4XfErB5kRVQdRVoL9V7qtAzsNawdwQscC9MIZAXPy6P49b7EA4FUXBbZdAwbNZ+EAtivNAVr4DwSwDSsHNLZ2+o6dOwWWGs0AauPfAJAgBQR73o0C71S3BfOdbwUZGosDOG6m/WfcLQR9uFz/cAQTBoukUQS3PY8GRqO1A1a4IwRqML0FkU/JAx2A8vsXt5T5AcJFA8e15QOB6Z8FVFz/BdORRwRFAab+V90LBPBHNPu9lE0EPthFBczQfQclAPME=\",\"dtype\":\"float32\",\"order\":\"little\",\"shape\":[500]},\"y\":{\"__ndarray__\":\"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\",\"dtype\":\"float32\",\"order\":\"little\",\"shape\":[500]}},\"selected\":{\"id\":\"1051\"},\"selection_policy\":{\"id\":\"1052\"}},\"id\":\"1035\",\"type\":\"ColumnDataSource\"},{\"attributes\":{},\"id\":\"1018\",\"type\":\"BasicTicker\"},{\"attributes\":{\"text\":\"al zabadani replace\",\"text_color\":\"#2ca02c\",\"x\":-13.122576713562012,\"y\":-15.608870506286621},\"id\":\"1044\",\"type\":\"Label\"},{\"attributes\":{\"axis\":{\"id\":\"1013\"},\"ticker\":null},\"id\":\"1016\",\"type\":\"Grid\"},{\"attributes\":{\"bottom_units\":\"screen\",\"fill_alpha\":0.5,\"fill_color\":\"lightgrey\",\"left_units\":\"screen\",\"level\":\"overlay\",\"line_alpha\":1.0,\"line_color\":\"black\",\"line_dash\":[4,4],\"line_width\":2,\"right_units\":\"screen\",\"top_units\":\"screen\"},\"id\":\"1027\",\"type\":\"BoxAnnotation\"},{\"attributes\":{\"source\":{\"id\":\"1035\"}},\"id\":\"1039\",\"type\":\"CDSView\"},{\"attributes\":{},\"id\":\"1052\",\"type\":\"UnionRenderers\"},{\"attributes\":{},\"id\":\"1025\",\"type\":\"ResetTool\"},{\"attributes\":{\"fill_color\":{\"field\":\"fill_color\"},\"line_color\":{\"field\":\"line_color\"},\"x\":{\"field\":\"x\"},\"y\":{\"field\":\"y\"}},\"id\":\"1036\",\"type\":\"Scatter\"},{\"attributes\":{\"active_drag\":\"auto\",\"active_inspect\":\"auto\",\"active_multi\":null,\"active_scroll\":\"auto\",\"active_tap\":\"auto\",\"tools\":[{\"id\":\"1021\"},{\"id\":\"1022\"},{\"id\":\"1023\"},{\"id\":\"1024\"},{\"id\":\"1025\"},{\"id\":\"1026\"}]},\"id\":\"1028\",\"type\":\"Toolbar\"},{\"attributes\":{\"text\":\"like https amp\",\"text_color\":\"#aec7e8\",\"x\":-9.136260986328125,\"y\":-10.69003677368164},\"id\":\"1041\",\"type\":\"Label\"},{\"attributes\":{},\"id\":\"1021\",\"type\":\"PanTool\"},{\"attributes\":{\"text\":\"just twitter love\",\"text_color\":\"#ffbb78\",\"x\":-5.4629011154174805,\"y\":-10.110523223876953},\"id\":\"1043\",\"type\":\"Label\"},{\"attributes\":{\"formatter\":{\"id\":\"1048\"},\"ticker\":{\"id\":\"1014\"}},\"id\":\"1013\",\"type\":\"LinearAxis\"},{\"attributes\":{},\"id\":\"1007\",\"type\":\"DataRange1d\"},{\"attributes\":{},\"id\":\"1026\",\"type\":\"HelpTool\"},{\"attributes\":{\"fill_alpha\":{\"value\":0.1},\"fill_color\":{\"field\":\"fill_color\"},\"line_alpha\":{\"value\":0.1},\"line_color\":{\"field\":\"line_color\"},\"x\":{\"field\":\"x\"},\"y\":{\"field\":\"y\"}},\"id\":\"1037\",\"type\":\"Scatter\"},{\"attributes\":{\"text\":\"http _ new\",\"text_color\":\"#1f77b4\",\"x\":5.89284086227417,\"y\":17.433536529541016},\"id\":\"1040\",\"type\":\"Label\"},{\"attributes\":{\"text\":\"people saudi suicide\",\"text_color\":\"#ff7f0e\",\"x\":-6.046177864074707,\"y\":-4.887552738189697},\"id\":\"1042\",\"type\":\"Label\"},{\"attributes\":{\"text\":\"t-SNE Clustering of 5 LSA Topics\"},\"id\":\"1003\",\"type\":\"Title\"},{\"attributes\":{\"overlay\":{\"id\":\"1027\"}},\"id\":\"1023\",\"type\":\"BoxZoomTool\"},{\"attributes\":{\"formatter\":{\"id\":\"1046\"},\"ticker\":{\"id\":\"1018\"}},\"id\":\"1017\",\"type\":\"LinearAxis\"},{\"attributes\":{},\"id\":\"1048\",\"type\":\"BasicTickFormatter\"},{\"attributes\":{},\"id\":\"1005\",\"type\":\"DataRange1d\"},{\"attributes\":{},\"id\":\"1024\",\"type\":\"SaveTool\"},{\"attributes\":{\"axis\":{\"id\":\"1017\"},\"dimension\":1,\"ticker\":null},\"id\":\"1020\",\"type\":\"Grid\"},{\"attributes\":{},\"id\":\"1046\",\"type\":\"BasicTickFormatter\"},{\"attributes\":{},\"id\":\"1022\",\"type\":\"WheelZoomTool\"},{\"attributes\":{},\"id\":\"1014\",\"type\":\"BasicTicker\"}],\"root_ids\":[\"1002\"]},\"title\":\"Bokeh Application\",\"version\":\"2.2.3\"}};\n",
       "  var render_items = [{\"docid\":\"a11857c7-7cbd-485a-b42f-7c67afeef63b\",\"root_ids\":[\"1002\"],\"roots\":{\"1002\":\"39ffa264-5738-4b0d-9c66-d530478ccf81\"}}];\n",
       "  root.Bokeh.embed.embed_items_notebook(docs_json, render_items);\n",
       "\n",
       "  }\n",
       "  if (root.Bokeh !== undefined) {\n",
       "    embed_document(root);\n",
       "  } else {\n",
       "    var attempts = 0;\n",
       "    var timer = setInterval(function(root) {\n",
       "      if (root.Bokeh !== undefined) {\n",
       "        clearInterval(timer);\n",
       "        embed_document(root);\n",
       "      } else {\n",
       "        attempts++;\n",
       "        if (attempts > 100) {\n",
       "          clearInterval(timer);\n",
       "          console.log(\"Bokeh: ERROR: Unable to run BokehJS code because BokehJS library is missing\");\n",
       "        }\n",
       "      }\n",
       "    }, 10, root)\n",
       "  }\n",
       "})(window);"
      ],
      "application/vnd.bokehjs_exec.v0+json": ""
     },
     "metadata": {
      "application/vnd.bokehjs_exec.v0+json": {
       "id": "1002"
      }
     },
     "output_type": "display_data"
    }
   ],
   "source": [
    "top_3_words_lsa = get_top_n_words(3, lsa_keys, small_document_term_matrix, small_count_vectorizer)\n",
    "lsa_mean_topic_vectors = get_mean_topic_vectors(lsa_keys, tsne_lsa_vectors)\n",
    "\n",
    "plot = figure(title=\"t-SNE Clustering of {} LSA Topics\".format(n_topics), plot_width=700, plot_height=700)\n",
    "plot.scatter(x=tsne_lsa_vectors[:,0], y=tsne_lsa_vectors[:,1], color=colormap[lsa_keys])\n",
    "\n",
    "for t in range(n_topics):\n",
    "    label = Label(x=lsa_mean_topic_vectors[t][0], y=lsa_mean_topic_vectors[t][1], \n",
    "                  text=top_3_words_lsa[t], text_color=colormap[t])\n",
    "    plot.add_layout(label)\n",
    "    \n",
    "show(plot)"
   ]
  },
  {
   "cell_type": "markdown",
   "metadata": {
    "papermill": {
     "duration": 0.085947,
     "end_time": "2021-01-03T18:09:38.343669",
     "exception": false,
     "start_time": "2021-01-03T18:09:38.257722",
     "status": "completed"
    },
    "tags": []
   },
   "source": [
    "* This is a bit a of a failed result.\n",
    "* Let's move forward and try another clustering method."
   ]
  },
  {
   "cell_type": "markdown",
   "metadata": {
    "papermill": {
     "duration": 0.085415,
     "end_time": "2021-01-03T18:09:38.517480",
     "exception": false,
     "start_time": "2021-01-03T18:09:38.432065",
     "status": "completed"
    },
    "tags": []
   },
   "source": [
    "<a id = \"15\"></a>\n",
    "## Latent Dirichlet Allocation (LDA)\n",
    "\n",
    "* We'll repeat same process using LDA."
   ]
  },
  {
   "cell_type": "code",
   "execution_count": 49,
   "metadata": {
    "execution": {
     "iopub.execute_input": "2021-01-03T18:09:38.697833Z",
     "iopub.status.busy": "2021-01-03T18:09:38.696846Z",
     "iopub.status.idle": "2021-01-03T18:09:39.945159Z",
     "shell.execute_reply": "2021-01-03T18:09:39.944600Z"
    },
    "papermill": {
     "duration": 1.340642,
     "end_time": "2021-01-03T18:09:39.945280",
     "exception": false,
     "start_time": "2021-01-03T18:09:38.604638",
     "status": "completed"
    },
    "tags": []
   },
   "outputs": [],
   "source": [
    "lda_model = LatentDirichletAllocation(n_components=n_topics, learning_method='online', \n",
    "                                          random_state=0, verbose=0)\n",
    "lda_topic_matrix = lda_model.fit_transform(small_document_term_matrix)"
   ]
  },
  {
   "cell_type": "code",
   "execution_count": 50,
   "metadata": {
    "execution": {
     "iopub.execute_input": "2021-01-03T18:09:40.122387Z",
     "iopub.status.busy": "2021-01-03T18:09:40.121742Z",
     "iopub.status.idle": "2021-01-03T18:09:40.123681Z",
     "shell.execute_reply": "2021-01-03T18:09:40.124172Z"
    },
    "papermill": {
     "duration": 0.093114,
     "end_time": "2021-01-03T18:09:40.124302",
     "exception": false,
     "start_time": "2021-01-03T18:09:40.031188",
     "status": "completed"
    },
    "tags": []
   },
   "outputs": [],
   "source": [
    "lda_keys = get_keys(lda_topic_matrix)\n",
    "lda_categories, lda_counts = keys_to_counts(lda_keys)"
   ]
  },
  {
   "cell_type": "code",
   "execution_count": 51,
   "metadata": {
    "execution": {
     "iopub.execute_input": "2021-01-03T18:09:40.299075Z",
     "iopub.status.busy": "2021-01-03T18:09:40.298407Z",
     "iopub.status.idle": "2021-01-03T18:09:40.506011Z",
     "shell.execute_reply": "2021-01-03T18:09:40.506850Z"
    },
    "papermill": {
     "duration": 0.296936,
     "end_time": "2021-01-03T18:09:40.507057",
     "exception": false,
     "start_time": "2021-01-03T18:09:40.210121",
     "status": "completed"
    },
    "tags": []
   },
   "outputs": [
    {
     "name": "stdout",
     "output_type": "stream",
     "text": [
      "Topic 1:  http police just accident https world car black killed avalanche\n",
      "Topic 2:  http news _ new suicide saudi set mosque life bomber\n",
      "Topic 3:  http https people like amp disaster want storm look rt\n",
      "Topic 4:  http like amp airplane accident man emergency drought fires _\n",
      "Topic 5:  http just don love got new like day fatalities burned\n"
     ]
    }
   ],
   "source": [
    "top_n_words_lda = get_top_n_words(10, lda_keys, small_document_term_matrix, small_count_vectorizer)\n",
    "\n",
    "for i in range(len(top_n_words_lda)):\n",
    "    print(\"Topic {}: \".format(i+1), top_n_words_lda[i])"
   ]
  },
  {
   "cell_type": "code",
   "execution_count": 52,
   "metadata": {
    "execution": {
     "iopub.execute_input": "2021-01-03T18:09:40.709085Z",
     "iopub.status.busy": "2021-01-03T18:09:40.708377Z",
     "iopub.status.idle": "2021-01-03T18:09:41.033790Z",
     "shell.execute_reply": "2021-01-03T18:09:41.034301Z"
    },
    "papermill": {
     "duration": 0.440971,
     "end_time": "2021-01-03T18:09:41.034473",
     "exception": false,
     "start_time": "2021-01-03T18:09:40.593502",
     "status": "completed"
    },
    "tags": []
   },
   "outputs": [
    {
     "data": {
      "image/png": "[encoded data removed]",
      "text/plain": [
       "<Figure size 720x288 with 1 Axes>"
      ]
     },
     "metadata": {},
     "output_type": "display_data"
    }
   ],
   "source": [
    "top_3_words = get_top_n_words(3, lda_keys, small_document_term_matrix, small_count_vectorizer)\n",
    "labels = ['Topic {}: \\n'.format(i) + top_3_words[i] for i in lda_categories]\n",
    "\n",
    "fig, ax = plt.subplots(figsize=(10,4))\n",
    "ax.bar(lda_categories, lda_counts);\n",
    "ax.set_xticks(lda_categories);\n",
    "ax.set_xticklabels(labels);\n",
    "ax.set_title('LDA topic counts');\n",
    "ax.set_ylabel('Number of tweets');"
   ]
  },
  {
   "cell_type": "markdown",
   "metadata": {
    "papermill": {
     "duration": 0.087251,
     "end_time": "2021-01-03T18:09:41.223048",
     "exception": false,
     "start_time": "2021-01-03T18:09:41.135797",
     "status": "completed"
    },
    "tags": []
   },
   "source": [
    "* We project this matrix in two dimensions so that we can compare LDA and LSA accurately."
   ]
  },
  {
   "cell_type": "code",
   "execution_count": 53,
   "metadata": {
    "execution": {
     "iopub.execute_input": "2021-01-03T18:09:41.406120Z",
     "iopub.status.busy": "2021-01-03T18:09:41.405397Z",
     "iopub.status.idle": "2021-01-03T18:09:43.965358Z",
     "shell.execute_reply": "2021-01-03T18:09:43.965989Z"
    },
    "papermill": {
     "duration": 2.655605,
     "end_time": "2021-01-03T18:09:43.966161",
     "exception": false,
     "start_time": "2021-01-03T18:09:41.310556",
     "status": "completed"
    },
    "tags": []
   },
   "outputs": [
    {
     "name": "stdout",
     "output_type": "stream",
     "text": [
      "[t-SNE] Computing 151 nearest neighbors...\n",
      "[t-SNE] Indexed 500 samples in 0.001s...\n",
      "[t-SNE] Computed neighbors for 500 samples in 0.017s...\n",
      "[t-SNE] Computed conditional probabilities for sample 500 / 500\n",
      "[t-SNE] Mean sigma: 0.015812\n",
      "[t-SNE] KL divergence after 250 iterations with early exaggeration: 38.557270\n",
      "[t-SNE] KL divergence after 1250 iterations: 0.041864\n"
     ]
    }
   ],
   "source": [
    "tsne_lda_model = TSNE(n_components=2, perplexity=50, learning_rate=100, \n",
    "                        n_iter=2000, verbose=1, random_state=0, angle=0.75)\n",
    "tsne_lda_vectors = tsne_lda_model.fit_transform(lda_topic_matrix)"
   ]
  },
  {
   "cell_type": "code",
   "execution_count": 54,
   "metadata": {
    "execution": {
     "iopub.execute_input": "2021-01-03T18:09:44.252542Z",
     "iopub.status.busy": "2021-01-03T18:09:44.219083Z",
     "iopub.status.idle": "2021-01-03T18:09:44.400090Z",
     "shell.execute_reply": "2021-01-03T18:09:44.399311Z"
    },
    "papermill": {
     "duration": 0.317998,
     "end_time": "2021-01-03T18:09:44.400215",
     "exception": false,
     "start_time": "2021-01-03T18:09:44.082217",
     "status": "completed"
    },
    "tags": []
   },
   "outputs": [
    {
     "data": {
      "text/html": [
       "\n",
       "\n",
       "\n",
       "\n",
       "\n",
       "\n",
       "  <div class=\"bk-root\" id=\"1b235ad7-4683-4d95-a370-0114904f2951\" data-root-id=\"1093\"></div>\n"
      ]
     },
     "metadata": {},
     "output_type": "display_data"
    },
    {
     "data": {
      "application/javascript": [
       "(function(root) {\n",
       "  function embed_document(root) {\n",
       "    \n",
       "  var docs_json = {\"3309bb5d-cb8f-4c33-aca2-4a62f4496b4b\":{\"roots\":{\"references\":[{\"attributes\":{\"below\":[{\"id\":\"1104\"}],\"center\":[{\"id\":\"1107\"},{\"id\":\"1111\"},{\"id\":\"1131\"},{\"id\":\"1132\"},{\"id\":\"1133\"},{\"id\":\"1134\"},{\"id\":\"1135\"}],\"left\":[{\"id\":\"1108\"}],\"renderers\":[{\"id\":\"1129\"}],\"title\":{\"id\":\"1094\"},\"toolbar\":{\"id\":\"1119\"},\"x_range\":{\"id\":\"1096\"},\"x_scale\":{\"id\":\"1100\"},\"y_range\":{\"id\":\"1098\"},\"y_scale\":{\"id\":\"1102\"}},\"id\":\"1093\",\"subtype\":\"Figure\",\"type\":\"Plot\"},{\"attributes\":{\"text\":\"t-SNE Clustering of 5 LDA Topics\"},\"id\":\"1094\",\"type\":\"Title\"},{\"attributes\":{\"text\":\"http like amp\",\"text_color\":\"#ffbb78\",\"x\":-12.990533828735352,\"y\":-9.805108070373535},\"id\":\"1134\",\"type\":\"Label\"},{\"attributes\":{\"data_source\":{\"id\":\"1126\"},\"glyph\":{\"id\":\"1127\"},\"hover_glyph\":null,\"muted_glyph\":null,\"nonselection_glyph\":{\"id\":\"1128\"},\"selection_glyph\":null,\"view\":{\"id\":\"1130\"}},\"id\":\"1129\",\"type\":\"GlyphRenderer\"},{\"attributes\":{},\"id\":\"1116\",\"type\":\"ResetTool\"},{\"attributes\":{\"text\":\"http just don\",\"text_color\":\"#2ca02c\",\"x\":-2.8251917362213135,\"y\":-32.774574279785156},\"id\":\"1135\",\"type\":\"Label\"},{\"attributes\":{},\"id\":\"1145\",\"type\":\"BasicTickFormatter\"},{\"attributes\":{},\"id\":\"1112\",\"type\":\"PanTool\"},{\"attributes\":{\"fill_alpha\":{\"value\":0.1},\"fill_color\":{\"field\":\"fill_color\"},\"line_alpha\":{\"value\":0.1},\"line_color\":{\"field\":\"line_color\"},\"x\":{\"field\":\"x\"},\"y\":{\"field\":\"y\"}},\"id\":\"1128\",\"type\":\"Scatter\"},{\"attributes\":{},\"id\":\"1096\",\"type\":\"DataRange1d\"},{\"attributes\":{},\"id\":\"1115\",\"type\":\"SaveTool\"},{\"attributes\":{\"data\":{\"fill_color\":[\"#1f77b4\",\"#ff7f0e\",\"#2ca02c\",\"#aec7e8\",\"#ff7f0e\",\"#2ca02c\",\"#aec7e8\",\"#1f77b4\",\"#1f77b4\",\"#2ca02c\",\"#aec7e8\",\"#ff7f0e\",\"#1f77b4\",\"#ffbb78\",\"#ffbb78\",\"#2ca02c\",\"#ff7f0e\",\"#ffbb78\",\"#2ca02c\",\"#aec7e8\",\"#1f77b4\",\"#aec7e8\",\"#2ca02c\",\"#aec7e8\",\"#ffbb78\",\"#1f77b4\",\"#2ca02c\",\"#2ca02c\",\"#ffbb78\",\"#2ca02c\",\"#2ca02c\",\"#aec7e8\",\"#aec7e8\",\"#aec7e8\",\"#1f77b4\",\"#ffbb78\",\"#aec7e8\",\"#1f77b4\",\"#ffbb78\",\"#2ca02c\",\"#2ca02c\",\"#1f77b4\",\"#aec7e8\",\"#2ca02c\",\"#ff7f0e\",\"#1f77b4\",\"#2ca02c\",\"#ff7f0e\",\"#aec7e8\",\"#1f77b4\",\"#1f77b4\",\"#aec7e8\",\"#aec7e8\",\"#2ca02c\",\"#aec7e8\",\"#2ca02c\",\"#ff7f0e\",\"#aec7e8\",\"#ff7f0e\",\"#2ca02c\",\"#1f77b4\",\"#ff7f0e\",\"#ffbb78\",\"#ff7f0e\",\"#1f77b4\",\"#aec7e8\",\"#2ca02c\",\"#ffbb78\",\"#1f77b4\",\"#ff7f0e\",\"#aec7e8\",\"#2ca02c\",\"#aec7e8\",\"#ff7f0e\",\"#2ca02c\",\"#ff7f0e\",\"#2ca02c\",\"#aec7e8\",\"#ff7f0e\",\"#ff7f0e\",\"#2ca02c\",\"#ff7f0e\",\"#ffbb78\",\"#ffbb78\",\"#aec7e8\",\"#ffbb78\",\"#2ca02c\",\"#aec7e8\",\"#aec7e8\",\"#ff7f0e\",\"#2ca02c\",\"#2ca02c\",\"#ff7f0e\",\"#2ca02c\",\"#ff7f0e\",\"#ffbb78\",\"#ff7f0e\",\"#2ca02c\",\"#ffbb78\",\"#ffbb78\",\"#1f77b4\",\"#ffbb78\",\"#ff7f0e\",\"#ff7f0e\",\"#ffbb78\",\"#ff7f0e\",\"#aec7e8\",\"#1f77b4\",\"#2ca02c\",\"#ffbb78\",\"#ff7f0e\",\"#aec7e8\",\"#ff7f0e\",\"#ff7f0e\",\"#2ca02c\",\"#aec7e8\",\"#aec7e8\",\"#1f77b4\",\"#ff7f0e\",\"#ffbb78\",\"#aec7e8\",\"#aec7e8\",\"#ffbb78\",\"#ffbb78\",\"#ff7f0e\",\"#1f77b4\",\"#ffbb78\",\"#ff7f0e\",\"#2ca02c\",\"#1f77b4\",\"#1f77b4\",\"#aec7e8\",\"#2ca02c\",\"#ff7f0e\",\"#1f77b4\",\"#ffbb78\",\"#2ca02c\",\"#aec7e8\",\"#ff7f0e\",\"#ffbb78\",\"#aec7e8\",\"#2ca02c\",\"#ff7f0e\",\"#aec7e8\",\"#1f77b4\",\"#ff7f0e\",\"#ff7f0e\",\"#1f77b4\",\"#2ca02c\",\"#ff7f0e\",\"#ffbb78\",\"#aec7e8\",\"#2ca02c\",\"#2ca02c\",\"#1f77b4\",\"#2ca02c\",\"#2ca02c\",\"#2ca02c\",\"#1f77b4\",\"#aec7e8\",\"#2ca02c\",\"#aec7e8\",\"#ffbb78\",\"#ff7f0e\",\"#ff7f0e\",\"#ff7f0e\",\"#2ca02c\",\"#2ca02c\",\"#1f77b4\",\"#2ca02c\",\"#aec7e8\",\"#2ca02c\",\"#1f77b4\",\"#1f77b4\",\"#1f77b4\",\"#2ca02c\",\"#2ca02c\",\"#2ca02c\",\"#2ca02c\",\"#ffbb78\",\"#aec7e8\",\"#ffbb78\",\"#aec7e8\",\"#ff7f0e\",\"#aec7e8\",\"#ffbb78\",\"#1f77b4\",\"#2ca02c\",\"#aec7e8\",\"#ff7f0e\",\"#ffbb78\",\"#aec7e8\",\"#1f77b4\",\"#ffbb78\",\"#2ca02c\",\"#ff7f0e\",\"#2ca02c\",\"#aec7e8\",\"#ffbb78\",\"#aec7e8\",\"#ffbb78\",\"#aec7e8\",\"#2ca02c\",\"#ff7f0e\",\"#2ca02c\",\"#aec7e8\",\"#2ca02c\",\"#aec7e8\",\"#ff7f0e\",\"#aec7e8\",\"#2ca02c\",\"#aec7e8\",\"#2ca02c\",\"#2ca02c\",\"#2ca02c\",\"#aec7e8\",\"#2ca02c\",\"#ffbb78\",\"#2ca02c\",\"#1f77b4\",\"#ffbb78\",\"#ff7f0e\",\"#aec7e8\",\"#aec7e8\",\"#aec7e8\",\"#aec7e8\",\"#ff7f0e\",\"#aec7e8\",\"#aec7e8\",\"#1f77b4\",\"#aec7e8\",\"#1f77b4\",\"#ff7f0e\",\"#ff7f0e\",\"#2ca02c\",\"#ffbb78\",\"#2ca02c\",\"#ffbb78\",\"#2ca02c\",\"#2ca02c\",\"#1f77b4\",\"#ffbb78\",\"#ffbb78\",\"#ffbb78\",\"#ffbb78\",\"#aec7e8\",\"#2ca02c\",\"#ff7f0e\",\"#2ca02c\",\"#aec7e8\",\"#ff7f0e\",\"#ffbb78\",\"#1f77b4\",\"#2ca02c\",\"#1f77b4\",\"#ffbb78\",\"#2ca02c\",\"#1f77b4\",\"#aec7e8\",\"#ff7f0e\",\"#ff7f0e\",\"#ffbb78\",\"#2ca02c\",\"#2ca02c\",\"#aec7e8\",\"#aec7e8\",\"#ffbb78\",\"#2ca02c\",\"#1f77b4\",\"#ffbb78\",\"#ff7f0e\",\"#aec7e8\",\"#aec7e8\",\"#1f77b4\",\"#aec7e8\",\"#ffbb78\",\"#2ca02c\",\"#ff7f0e\",\"#1f77b4\",\"#ffbb78\",\"#ff7f0e\",\"#aec7e8\",\"#2ca02c\",\"#aec7e8\",\"#aec7e8\",\"#1f77b4\",\"#ffbb78\",\"#aec7e8\",\"#2ca02c\",\"#1f77b4\",\"#2ca02c\",\"#aec7e8\",\"#ff7f0e\",\"#2ca02c\",\"#ffbb78\",\"#aec7e8\",\"#2ca02c\",\"#ffbb78\",\"#aec7e8\",\"#1f77b4\",\"#ff7f0e\",\"#aec7e8\",\"#2ca02c\",\"#2ca02c\",\"#1f77b4\",\"#2ca02c\",\"#aec7e8\",\"#aec7e8\",\"#2ca02c\",\"#2ca02c\",\"#1f77b4\",\"#aec7e8\",\"#1f77b4\",\"#ff7f0e\",\"#aec7e8\",\"#2ca02c\",\"#ff7f0e\",\"#2ca02c\",\"#2ca02c\",\"#aec7e8\",\"#ff7f0e\",\"#ff7f0e\",\"#ff7f0e\",\"#ff7f0e\",\"#aec7e8\",\"#ffbb78\",\"#ffbb78\",\"#1f77b4\",\"#1f77b4\",\"#ffbb78\",\"#2ca02c\",\"#2ca02c\",\"#2ca02c\",\"#aec7e8\",\"#ff7f0e\",\"#1f77b4\",\"#ffbb78\",\"#aec7e8\",\"#ffbb78\",\"#ff7f0e\",\"#aec7e8\",\"#aec7e8\",\"#ff7f0e\",\"#2ca02c\",\"#ff7f0e\",\"#ff7f0e\",\"#1f77b4\",\"#1f77b4\",\"#2ca02c\",\"#1f77b4\",\"#2ca02c\",\"#2ca02c\",\"#1f77b4\",\"#2ca02c\",\"#ff7f0e\",\"#aec7e8\",\"#1f77b4\",\"#aec7e8\",\"#ffbb78\",\"#aec7e8\",\"#1f77b4\",\"#2ca02c\",\"#2ca02c\",\"#aec7e8\",\"#aec7e8\",\"#aec7e8\",\"#ff7f0e\",\"#aec7e8\",\"#1f77b4\",\"#2ca02c\",\"#ff7f0e\",\"#aec7e8\",\"#1f77b4\",\"#ff7f0e\",\"#1f77b4\",\"#2ca02c\",\"#ffbb78\",\"#ff7f0e\",\"#aec7e8\",\"#aec7e8\",\"#ff7f0e\",\"#aec7e8\",\"#ffbb78\",\"#ffbb78\",\"#aec7e8\",\"#ffbb78\",\"#aec7e8\",\"#aec7e8\",\"#2ca02c\",\"#2ca02c\",\"#2ca02c\",\"#ffbb78\",\"#1f77b4\",\"#2ca02c\",\"#aec7e8\",\"#aec7e8\",\"#1f77b4\",\"#aec7e8\",\"#aec7e8\",\"#2ca02c\",\"#ff7f0e\",\"#ff7f0e\",\"#1f77b4\",\"#aec7e8\",\"#ffbb78\",\"#1f77b4\",\"#aec7e8\",\"#aec7e8\",\"#aec7e8\",\"#ffbb78\",\"#aec7e8\",\"#ff7f0e\",\"#aec7e8\",\"#aec7e8\",\"#aec7e8\",\"#1f77b4\",\"#aec7e8\",\"#ff7f0e\",\"#2ca02c\",\"#ffbb78\",\"#1f77b4\",\"#aec7e8\",\"#ff7f0e\",\"#ff7f0e\",\"#aec7e8\",\"#1f77b4\",\"#aec7e8\",\"#2ca02c\",\"#2ca02c\",\"#2ca02c\",\"#ff7f0e\",\"#2ca02c\",\"#2ca02c\",\"#1f77b4\",\"#aec7e8\",\"#aec7e8\",\"#ff7f0e\",\"#aec7e8\",\"#1f77b4\",\"#ffbb78\",\"#2ca02c\",\"#aec7e8\",\"#aec7e8\",\"#ffbb78\",\"#2ca02c\",\"#ff7f0e\",\"#ff7f0e\",\"#ffbb78\",\"#1f77b4\",\"#aec7e8\",\"#1f77b4\",\"#1f77b4\",\"#ff7f0e\",\"#aec7e8\",\"#aec7e8\",\"#ffbb78\",\"#ffbb78\",\"#1f77b4\",\"#2ca02c\",\"#aec7e8\",\"#aec7e8\",\"#aec7e8\",\"#ffbb78\",\"#aec7e8\",\"#1f77b4\",\"#2ca02c\",\"#ffbb78\",\"#aec7e8\",\"#ff7f0e\",\"#aec7e8\",\"#aec7e8\",\"#1f77b4\",\"#ff7f0e\",\"#ff7f0e\",\"#ff7f0e\",\"#ff7f0e\",\"#aec7e8\",\"#ffbb78\",\"#2ca02c\",\"#aec7e8\",\"#2ca02c\",\"#2ca02c\",\"#ff7f0e\",\"#ffbb78\",\"#ffbb78\",\"#aec7e8\",\"#1f77b4\",\"#ff7f0e\",\"#2ca02c\",\"#1f77b4\",\"#1f77b4\",\"#ffbb78\",\"#2ca02c\",\"#2ca02c\",\"#ffbb78\",\"#ffbb78\",\"#1f77b4\",\"#2ca02c\",\"#2ca02c\",\"#aec7e8\"],\"line_color\":[\"#1f77b4\",\"#ff7f0e\",\"#2ca02c\",\"#aec7e8\",\"#ff7f0e\",\"#2ca02c\",\"#aec7e8\",\"#1f77b4\",\"#1f77b4\",\"#2ca02c\",\"#aec7e8\",\"#ff7f0e\",\"#1f77b4\",\"#ffbb78\",\"#ffbb78\",\"#2ca02c\",\"#ff7f0e\",\"#ffbb78\",\"#2ca02c\",\"#aec7e8\",\"#1f77b4\",\"#aec7e8\",\"#2ca02c\",\"#aec7e8\",\"#ffbb78\",\"#1f77b4\",\"#2ca02c\",\"#2ca02c\",\"#ffbb78\",\"#2ca02c\",\"#2ca02c\",\"#aec7e8\",\"#aec7e8\",\"#aec7e8\",\"#1f77b4\",\"#ffbb78\",\"#aec7e8\",\"#1f77b4\",\"#ffbb78\",\"#2ca02c\",\"#2ca02c\",\"#1f77b4\",\"#aec7e8\",\"#2ca02c\",\"#ff7f0e\",\"#1f77b4\",\"#2ca02c\",\"#ff7f0e\",\"#aec7e8\",\"#1f77b4\",\"#1f77b4\",\"#aec7e8\",\"#aec7e8\",\"#2ca02c\",\"#aec7e8\",\"#2ca02c\",\"#ff7f0e\",\"#aec7e8\",\"#ff7f0e\",\"#2ca02c\",\"#1f77b4\",\"#ff7f0e\",\"#ffbb78\",\"#ff7f0e\",\"#1f77b4\",\"#aec7e8\",\"#2ca02c\",\"#ffbb78\",\"#1f77b4\",\"#ff7f0e\",\"#aec7e8\",\"#2ca02c\",\"#aec7e8\",\"#ff7f0e\",\"#2ca02c\",\"#ff7f0e\",\"#2ca02c\",\"#aec7e8\",\"#ff7f0e\",\"#ff7f0e\",\"#2ca02c\",\"#ff7f0e\",\"#ffbb78\",\"#ffbb78\",\"#aec7e8\",\"#ffbb78\",\"#2ca02c\",\"#aec7e8\",\"#aec7e8\",\"#ff7f0e\",\"#2ca02c\",\"#2ca02c\",\"#ff7f0e\",\"#2ca02c\",\"#ff7f0e\",\"#ffbb78\",\"#ff7f0e\",\"#2ca02c\",\"#ffbb78\",\"#ffbb78\",\"#1f77b4\",\"#ffbb78\",\"#ff7f0e\",\"#ff7f0e\",\"#ffbb78\",\"#ff7f0e\",\"#aec7e8\",\"#1f77b4\",\"#2ca02c\",\"#ffbb78\",\"#ff7f0e\",\"#aec7e8\",\"#ff7f0e\",\"#ff7f0e\",\"#2ca02c\",\"#aec7e8\",\"#aec7e8\",\"#1f77b4\",\"#ff7f0e\",\"#ffbb78\",\"#aec7e8\",\"#aec7e8\",\"#ffbb78\",\"#ffbb78\",\"#ff7f0e\",\"#1f77b4\",\"#ffbb78\",\"#ff7f0e\",\"#2ca02c\",\"#1f77b4\",\"#1f77b4\",\"#aec7e8\",\"#2ca02c\",\"#ff7f0e\",\"#1f77b4\",\"#ffbb78\",\"#2ca02c\",\"#aec7e8\",\"#ff7f0e\",\"#ffbb78\",\"#aec7e8\",\"#2ca02c\",\"#ff7f0e\",\"#aec7e8\",\"#1f77b4\",\"#ff7f0e\",\"#ff7f0e\",\"#1f77b4\",\"#2ca02c\",\"#ff7f0e\",\"#ffbb78\",\"#aec7e8\",\"#2ca02c\",\"#2ca02c\",\"#1f77b4\",\"#2ca02c\",\"#2ca02c\",\"#2ca02c\",\"#1f77b4\",\"#aec7e8\",\"#2ca02c\",\"#aec7e8\",\"#ffbb78\",\"#ff7f0e\",\"#ff7f0e\",\"#ff7f0e\",\"#2ca02c\",\"#2ca02c\",\"#1f77b4\",\"#2ca02c\",\"#aec7e8\",\"#2ca02c\",\"#1f77b4\",\"#1f77b4\",\"#1f77b4\",\"#2ca02c\",\"#2ca02c\",\"#2ca02c\",\"#2ca02c\",\"#ffbb78\",\"#aec7e8\",\"#ffbb78\",\"#aec7e8\",\"#ff7f0e\",\"#aec7e8\",\"#ffbb78\",\"#1f77b4\",\"#2ca02c\",\"#aec7e8\",\"#ff7f0e\",\"#ffbb78\",\"#aec7e8\",\"#1f77b4\",\"#ffbb78\",\"#2ca02c\",\"#ff7f0e\",\"#2ca02c\",\"#aec7e8\",\"#ffbb78\",\"#aec7e8\",\"#ffbb78\",\"#aec7e8\",\"#2ca02c\",\"#ff7f0e\",\"#2ca02c\",\"#aec7e8\",\"#2ca02c\",\"#aec7e8\",\"#ff7f0e\",\"#aec7e8\",\"#2ca02c\",\"#aec7e8\",\"#2ca02c\",\"#2ca02c\",\"#2ca02c\",\"#aec7e8\",\"#2ca02c\",\"#ffbb78\",\"#2ca02c\",\"#1f77b4\",\"#ffbb78\",\"#ff7f0e\",\"#aec7e8\",\"#aec7e8\",\"#aec7e8\",\"#aec7e8\",\"#ff7f0e\",\"#aec7e8\",\"#aec7e8\",\"#1f77b4\",\"#aec7e8\",\"#1f77b4\",\"#ff7f0e\",\"#ff7f0e\",\"#2ca02c\",\"#ffbb78\",\"#2ca02c\",\"#ffbb78\",\"#2ca02c\",\"#2ca02c\",\"#1f77b4\",\"#ffbb78\",\"#ffbb78\",\"#ffbb78\",\"#ffbb78\",\"#aec7e8\",\"#2ca02c\",\"#ff7f0e\",\"#2ca02c\",\"#aec7e8\",\"#ff7f0e\",\"#ffbb78\",\"#1f77b4\",\"#2ca02c\",\"#1f77b4\",\"#ffbb78\",\"#2ca02c\",\"#1f77b4\",\"#aec7e8\",\"#ff7f0e\",\"#ff7f0e\",\"#ffbb78\",\"#2ca02c\",\"#2ca02c\",\"#aec7e8\",\"#aec7e8\",\"#ffbb78\",\"#2ca02c\",\"#1f77b4\",\"#ffbb78\",\"#ff7f0e\",\"#aec7e8\",\"#aec7e8\",\"#1f77b4\",\"#aec7e8\",\"#ffbb78\",\"#2ca02c\",\"#ff7f0e\",\"#1f77b4\",\"#ffbb78\",\"#ff7f0e\",\"#aec7e8\",\"#2ca02c\",\"#aec7e8\",\"#aec7e8\",\"#1f77b4\",\"#ffbb78\",\"#aec7e8\",\"#2ca02c\",\"#1f77b4\",\"#2ca02c\",\"#aec7e8\",\"#ff7f0e\",\"#2ca02c\",\"#ffbb78\",\"#aec7e8\",\"#2ca02c\",\"#ffbb78\",\"#aec7e8\",\"#1f77b4\",\"#ff7f0e\",\"#aec7e8\",\"#2ca02c\",\"#2ca02c\",\"#1f77b4\",\"#2ca02c\",\"#aec7e8\",\"#aec7e8\",\"#2ca02c\",\"#2ca02c\",\"#1f77b4\",\"#aec7e8\",\"#1f77b4\",\"#ff7f0e\",\"#aec7e8\",\"#2ca02c\",\"#ff7f0e\",\"#2ca02c\",\"#2ca02c\",\"#aec7e8\",\"#ff7f0e\",\"#ff7f0e\",\"#ff7f0e\",\"#ff7f0e\",\"#aec7e8\",\"#ffbb78\",\"#ffbb78\",\"#1f77b4\",\"#1f77b4\",\"#ffbb78\",\"#2ca02c\",\"#2ca02c\",\"#2ca02c\",\"#aec7e8\",\"#ff7f0e\",\"#1f77b4\",\"#ffbb78\",\"#aec7e8\",\"#ffbb78\",\"#ff7f0e\",\"#aec7e8\",\"#aec7e8\",\"#ff7f0e\",\"#2ca02c\",\"#ff7f0e\",\"#ff7f0e\",\"#1f77b4\",\"#1f77b4\",\"#2ca02c\",\"#1f77b4\",\"#2ca02c\",\"#2ca02c\",\"#1f77b4\",\"#2ca02c\",\"#ff7f0e\",\"#aec7e8\",\"#1f77b4\",\"#aec7e8\",\"#ffbb78\",\"#aec7e8\",\"#1f77b4\",\"#2ca02c\",\"#2ca02c\",\"#aec7e8\",\"#aec7e8\",\"#aec7e8\",\"#ff7f0e\",\"#aec7e8\",\"#1f77b4\",\"#2ca02c\",\"#ff7f0e\",\"#aec7e8\",\"#1f77b4\",\"#ff7f0e\",\"#1f77b4\",\"#2ca02c\",\"#ffbb78\",\"#ff7f0e\",\"#aec7e8\",\"#aec7e8\",\"#ff7f0e\",\"#aec7e8\",\"#ffbb78\",\"#ffbb78\",\"#aec7e8\",\"#ffbb78\",\"#aec7e8\",\"#aec7e8\",\"#2ca02c\",\"#2ca02c\",\"#2ca02c\",\"#ffbb78\",\"#1f77b4\",\"#2ca02c\",\"#aec7e8\",\"#aec7e8\",\"#1f77b4\",\"#aec7e8\",\"#aec7e8\",\"#2ca02c\",\"#ff7f0e\",\"#ff7f0e\",\"#1f77b4\",\"#aec7e8\",\"#ffbb78\",\"#1f77b4\",\"#aec7e8\",\"#aec7e8\",\"#aec7e8\",\"#ffbb78\",\"#aec7e8\",\"#ff7f0e\",\"#aec7e8\",\"#aec7e8\",\"#aec7e8\",\"#1f77b4\",\"#aec7e8\",\"#ff7f0e\",\"#2ca02c\",\"#ffbb78\",\"#1f77b4\",\"#aec7e8\",\"#ff7f0e\",\"#ff7f0e\",\"#aec7e8\",\"#1f77b4\",\"#aec7e8\",\"#2ca02c\",\"#2ca02c\",\"#2ca02c\",\"#ff7f0e\",\"#2ca02c\",\"#2ca02c\",\"#1f77b4\",\"#aec7e8\",\"#aec7e8\",\"#ff7f0e\",\"#aec7e8\",\"#1f77b4\",\"#ffbb78\",\"#2ca02c\",\"#aec7e8\",\"#aec7e8\",\"#ffbb78\",\"#2ca02c\",\"#ff7f0e\",\"#ff7f0e\",\"#ffbb78\",\"#1f77b4\",\"#aec7e8\",\"#1f77b4\",\"#1f77b4\",\"#ff7f0e\",\"#aec7e8\",\"#aec7e8\",\"#ffbb78\",\"#ffbb78\",\"#1f77b4\",\"#2ca02c\",\"#aec7e8\",\"#aec7e8\",\"#aec7e8\",\"#ffbb78\",\"#aec7e8\",\"#1f77b4\",\"#2ca02c\",\"#ffbb78\",\"#aec7e8\",\"#ff7f0e\",\"#aec7e8\",\"#aec7e8\",\"#1f77b4\",\"#ff7f0e\",\"#ff7f0e\",\"#ff7f0e\",\"#ff7f0e\",\"#aec7e8\",\"#ffbb78\",\"#2ca02c\",\"#aec7e8\",\"#2ca02c\",\"#2ca02c\",\"#ff7f0e\",\"#ffbb78\",\"#ffbb78\",\"#aec7e8\",\"#1f77b4\",\"#ff7f0e\",\"#2ca02c\",\"#1f77b4\",\"#1f77b4\",\"#ffbb78\",\"#2ca02c\",\"#2ca02c\",\"#ffbb78\",\"#ffbb78\",\"#1f77b4\",\"#2ca02c\",\"#2ca02c\",\"#aec7e8\"],\"x\":{\"__ndarray__\":\"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\",\"dtype\":\"float32\",\"order\":\"little\",\"shape\":[500]},\"y\":{\"__ndarray__\":\"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\",\"dtype\":\"float32\",\"order\":\"little\",\"shape\":[500]}},\"selected\":{\"id\":\"1150\"},\"selection_policy\":{\"id\":\"1151\"}},\"id\":\"1126\",\"type\":\"ColumnDataSource\"},{\"attributes\":{},\"id\":\"1098\",\"type\":\"DataRange1d\"},{\"attributes\":{\"source\":{\"id\":\"1126\"}},\"id\":\"1130\",\"type\":\"CDSView\"},{\"attributes\":{},\"id\":\"1150\",\"type\":\"Selection\"},{\"attributes\":{},\"id\":\"1102\",\"type\":\"LinearScale\"},{\"attributes\":{},\"id\":\"1151\",\"type\":\"UnionRenderers\"},{\"attributes\":{},\"id\":\"1147\",\"type\":\"BasicTickFormatter\"},{\"attributes\":{\"axis\":{\"id\":\"1108\"},\"dimension\":1,\"ticker\":null},\"id\":\"1111\",\"type\":\"Grid\"},{\"attributes\":{\"active_drag\":\"auto\",\"active_inspect\":\"auto\",\"active_multi\":null,\"active_scroll\":\"auto\",\"active_tap\":\"auto\",\"tools\":[{\"id\":\"1112\"},{\"id\":\"1113\"},{\"id\":\"1114\"},{\"id\":\"1115\"},{\"id\":\"1116\"},{\"id\":\"1117\"}]},\"id\":\"1119\",\"type\":\"Toolbar\"},{\"attributes\":{},\"id\":\"1100\",\"type\":\"LinearScale\"},{\"attributes\":{},\"id\":\"1113\",\"type\":\"WheelZoomTool\"},{\"attributes\":{},\"id\":\"1109\",\"type\":\"BasicTicker\"},{\"attributes\":{\"formatter\":{\"id\":\"1145\"},\"ticker\":{\"id\":\"1109\"}},\"id\":\"1108\",\"type\":\"LinearAxis\"},{\"attributes\":{\"fill_color\":{\"field\":\"fill_color\"},\"line_color\":{\"field\":\"line_color\"},\"x\":{\"field\":\"x\"},\"y\":{\"field\":\"y\"}},\"id\":\"1127\",\"type\":\"Scatter\"},{\"attributes\":{},\"id\":\"1117\",\"type\":\"HelpTool\"},{\"attributes\":{\"bottom_units\":\"screen\",\"fill_alpha\":0.5,\"fill_color\":\"lightgrey\",\"left_units\":\"screen\",\"level\":\"overlay\",\"line_alpha\":1.0,\"line_color\":\"black\",\"line_dash\":[4,4],\"line_width\":2,\"right_units\":\"screen\",\"top_units\":\"screen\"},\"id\":\"1118\",\"type\":\"BoxAnnotation\"},{\"attributes\":{\"text\":\"http police just\",\"text_color\":\"#1f77b4\",\"x\":27.664247512817383,\"y\":-8.130983352661133},\"id\":\"1131\",\"type\":\"Label\"},{\"attributes\":{\"axis\":{\"id\":\"1104\"},\"ticker\":null},\"id\":\"1107\",\"type\":\"Grid\"},{\"attributes\":{},\"id\":\"1105\",\"type\":\"BasicTicker\"},{\"attributes\":{\"formatter\":{\"id\":\"1147\"},\"ticker\":{\"id\":\"1105\"}},\"id\":\"1104\",\"type\":\"LinearAxis\"},{\"attributes\":{\"text\":\"http https people\",\"text_color\":\"#ff7f0e\",\"x\":-15.51926040649414,\"y\":5.736032962799072},\"id\":\"1133\",\"type\":\"Label\"},{\"attributes\":{\"overlay\":{\"id\":\"1118\"}},\"id\":\"1114\",\"type\":\"BoxZoomTool\"},{\"attributes\":{\"text\":\"http news _\",\"text_color\":\"#aec7e8\",\"x\":4.9622673988342285,\"y\":13.39689826965332},\"id\":\"1132\",\"type\":\"Label\"}],\"root_ids\":[\"1093\"]},\"title\":\"Bokeh Application\",\"version\":\"2.2.3\"}};\n",
       "  var render_items = [{\"docid\":\"3309bb5d-cb8f-4c33-aca2-4a62f4496b4b\",\"root_ids\":[\"1093\"],\"roots\":{\"1093\":\"1b235ad7-4683-4d95-a370-0114904f2951\"}}];\n",
       "  root.Bokeh.embed.embed_items_notebook(docs_json, render_items);\n",
       "\n",
       "  }\n",
       "  if (root.Bokeh !== undefined) {\n",
       "    embed_document(root);\n",
       "  } else {\n",
       "    var attempts = 0;\n",
       "    var timer = setInterval(function(root) {\n",
       "      if (root.Bokeh !== undefined) {\n",
       "        clearInterval(timer);\n",
       "        embed_document(root);\n",
       "      } else {\n",
       "        attempts++;\n",
       "        if (attempts > 100) {\n",
       "          clearInterval(timer);\n",
       "          console.log(\"Bokeh: ERROR: Unable to run BokehJS code because BokehJS library is missing\");\n",
       "        }\n",
       "      }\n",
       "    }, 10, root)\n",
       "  }\n",
       "})(window);"
      ],
      "application/vnd.bokehjs_exec.v0+json": ""
     },
     "metadata": {
      "application/vnd.bokehjs_exec.v0+json": {
       "id": "1093"
      }
     },
     "output_type": "display_data"
    }
   ],
   "source": [
    "top_3_words_lda = get_top_n_words(3, lda_keys, small_document_term_matrix, small_count_vectorizer)\n",
    "lda_mean_topic_vectors = get_mean_topic_vectors(lda_keys, tsne_lda_vectors)\n",
    "\n",
    "plot = figure(title=\"t-SNE Clustering of {} LDA Topics\".format(n_topics), plot_width=600, plot_height=600)\n",
    "plot.scatter(x=tsne_lda_vectors[:,0], y=tsne_lda_vectors[:,1], color=colormap[lda_keys])\n",
    "\n",
    "for t in range(n_topics):\n",
    "    label = Label(x=lda_mean_topic_vectors[t][0], y=lda_mean_topic_vectors[t][1], \n",
    "                  text=top_3_words_lda[t], text_color=colormap[t])\n",
    "    plot.add_layout(label)\n",
    "\n",
    "show(plot)"
   ]
  },
  {
   "cell_type": "markdown",
   "metadata": {
    "papermill": {
     "duration": 0.090163,
     "end_time": "2021-01-03T18:09:44.582144",
     "exception": false,
     "start_time": "2021-01-03T18:09:44.491981",
     "status": "completed"
    },
    "tags": []
   },
   "source": [
    "* This is a much better result.\n",
    "*  For this reason, LDA appears the more appropriate algorithm when we scale up the clustering process."
   ]
  },
  {
   "cell_type": "markdown",
   "metadata": {
    "papermill": {
     "duration": 0.091148,
     "end_time": "2021-01-03T18:09:44.763847",
     "exception": false,
     "start_time": "2021-01-03T18:09:44.672699",
     "status": "completed"
    },
    "tags": []
   },
   "source": [
    "<a id = \"16\"></a>\n",
    "# Visualization of LDA"
   ]
  },
  {
   "cell_type": "code",
   "execution_count": 55,
   "metadata": {
    "execution": {
     "iopub.execute_input": "2021-01-03T18:09:44.955151Z",
     "iopub.status.busy": "2021-01-03T18:09:44.954171Z",
     "iopub.status.idle": "2021-01-03T18:09:44.958115Z",
     "shell.execute_reply": "2021-01-03T18:09:44.958589Z"
    },
    "papermill": {
     "duration": 0.103126,
     "end_time": "2021-01-03T18:09:44.958728",
     "exception": false,
     "start_time": "2021-01-03T18:09:44.855602",
     "status": "completed"
    },
    "tags": []
   },
   "outputs": [
    {
     "data": {
      "text/plain": [
       "['Our Deeds are the Reason of this #earthquake May ALLAH Forgive us all',\n",
       " 'Forest fire near La Ronge Sask. Canada',\n",
       " \"All residents asked to 'shelter in place' are being notified by officers. No other evacuation or shelter in place orders are expected\",\n",
       " '13,000 people receive #wildfires evacuation orders in California ',\n",
       " 'Just got sent this photo from Ruby #Alaska as smoke from #wildfires pours into a school ']"
      ]
     },
     "execution_count": 55,
     "metadata": {},
     "output_type": "execute_result"
    }
   ],
   "source": [
    "# Preparing a corpus for analysis and checking the first 5 entries\n",
    "corpus=[]\n",
    "\n",
    "corpus = df_train['text'].to_list()\n",
    "\n",
    "corpus[:5]"
   ]
  },
  {
   "cell_type": "code",
   "execution_count": 56,
   "metadata": {
    "execution": {
     "iopub.execute_input": "2021-01-03T18:09:45.147910Z",
     "iopub.status.busy": "2021-01-03T18:09:45.147104Z",
     "iopub.status.idle": "2021-01-03T18:09:45.151962Z",
     "shell.execute_reply": "2021-01-03T18:09:45.151291Z"
    },
    "papermill": {
     "duration": 0.101379,
     "end_time": "2021-01-03T18:09:45.152071",
     "exception": false,
     "start_time": "2021-01-03T18:09:45.050692",
     "status": "completed"
    },
    "tags": []
   },
   "outputs": [
    {
     "name": "stdout",
     "output_type": "stream",
     "text": [
      "Folder \"/tmp\" will be used to save temporary dictionary and corpus.\n"
     ]
    }
   ],
   "source": [
    "TEMP_FOLDER = tempfile.gettempdir()\n",
    "print('Folder \"{}\" will be used to save temporary dictionary and corpus.'.format(TEMP_FOLDER))\n",
    "\n",
    "logging.basicConfig(format='%(asctime)s : %(levelname)s : %(message)s', level=logging.INFO)"
   ]
  },
  {
   "cell_type": "code",
   "execution_count": 57,
   "metadata": {
    "execution": {
     "iopub.execute_input": "2021-01-03T18:09:45.344067Z",
     "iopub.status.busy": "2021-01-03T18:09:45.343257Z",
     "iopub.status.idle": "2021-01-03T18:09:45.956150Z",
     "shell.execute_reply": "2021-01-03T18:09:45.955283Z"
    },
    "papermill": {
     "duration": 0.711931,
     "end_time": "2021-01-03T18:09:45.956275",
     "exception": false,
     "start_time": "2021-01-03T18:09:45.244344",
     "status": "completed"
    },
    "tags": []
   },
   "outputs": [],
   "source": [
    "# removing common words and tokenizing\n",
    "# google-quest-challenge\n",
    "stoplist = stopwords.words('english') + list(punctuation) + list(\"([)]?\") + [\")?\"]\n",
    "\n",
    "texts = [[word for word in str(document).lower().split() if word not in stoplist] for document in corpus]\n",
    "\n",
    "dictionary = corpora.Dictionary(texts)\n",
    "dictionary.save(os.path.join(TEMP_FOLDER, 'tweets.dict'))  # store the dictionary"
   ]
  },
  {
   "cell_type": "code",
   "execution_count": 58,
   "metadata": {
    "execution": {
     "iopub.execute_input": "2021-01-03T18:09:46.160882Z",
     "iopub.status.busy": "2021-01-03T18:09:46.155703Z",
     "iopub.status.idle": "2021-01-03T18:09:46.420567Z",
     "shell.execute_reply": "2021-01-03T18:09:46.419948Z"
    },
    "papermill": {
     "duration": 0.372114,
     "end_time": "2021-01-03T18:09:46.420711",
     "exception": false,
     "start_time": "2021-01-03T18:09:46.048597",
     "status": "completed"
    },
    "tags": []
   },
   "outputs": [],
   "source": [
    "corpus = [dictionary.doc2bow(text) for text in texts]\n",
    "corpora.MmCorpus.serialize(os.path.join(TEMP_FOLDER, 'tweets.mm'), corpus) "
   ]
  },
  {
   "cell_type": "markdown",
   "metadata": {
    "papermill": {
     "duration": 0.091778,
     "end_time": "2021-01-03T18:09:46.604301",
     "exception": false,
     "start_time": "2021-01-03T18:09:46.512523",
     "status": "completed"
    },
    "tags": []
   },
   "source": [
    "* We created a corpus of documents represented as a stream of vectors.\n",
    "* To continue, lets use that corpus, with the help of Gensim.\n",
    "\n",
    "*Gensim is an open-source library for unsupervised topic modeling and natural language processing, using modern statistical machine learning. Gensim is implemented in Python and Cython. (WIKIPEDIA)* "
   ]
  },
  {
   "cell_type": "markdown",
   "metadata": {
    "papermill": {
     "duration": 0.092663,
     "end_time": "2021-01-03T18:09:46.788789",
     "exception": false,
     "start_time": "2021-01-03T18:09:46.696126",
     "status": "completed"
    },
    "tags": []
   },
   "source": [
    "<a id = \"17\"></a>\n",
    "## Creating a transformation\n",
    "\n",
    "* The transformations are standard Python objects, typically initialized by means of a training corpus\n",
    "\n",
    "* Different transformations may require different initialization parameters; in case of TfIdf, the “training” consists simply of going through the supplied corpus once and computing document frequencies of all its features. Training other models, such as LST OR LDA."
   ]
  },
  {
   "cell_type": "code",
   "execution_count": 59,
   "metadata": {
    "execution": {
     "iopub.execute_input": "2021-01-03T18:09:46.990543Z",
     "iopub.status.busy": "2021-01-03T18:09:46.985414Z",
     "iopub.status.idle": "2021-01-03T18:09:47.135702Z",
     "shell.execute_reply": "2021-01-03T18:09:47.135049Z"
    },
    "papermill": {
     "duration": 0.254515,
     "end_time": "2021-01-03T18:09:47.135821",
     "exception": false,
     "start_time": "2021-01-03T18:09:46.881306",
     "status": "completed"
    },
    "tags": []
   },
   "outputs": [],
   "source": [
    "tfidf = models.TfidfModel(corpus) # initialize a model"
   ]
  },
  {
   "cell_type": "code",
   "execution_count": 60,
   "metadata": {
    "execution": {
     "iopub.execute_input": "2021-01-03T18:09:47.323602Z",
     "iopub.status.busy": "2021-01-03T18:09:47.322552Z",
     "iopub.status.idle": "2021-01-03T18:09:47.325791Z",
     "shell.execute_reply": "2021-01-03T18:09:47.325251Z"
    },
    "papermill": {
     "duration": 0.098906,
     "end_time": "2021-01-03T18:09:47.325911",
     "exception": false,
     "start_time": "2021-01-03T18:09:47.227005",
     "status": "completed"
    },
    "tags": []
   },
   "outputs": [],
   "source": [
    "corpus_tfidf = tfidf[corpus]  # use the model to transform vectors"
   ]
  },
  {
   "cell_type": "markdown",
   "metadata": {
    "papermill": {
     "duration": 0.090946,
     "end_time": "2021-01-03T18:09:47.508239",
     "exception": false,
     "start_time": "2021-01-03T18:09:47.417293",
     "status": "completed"
    },
    "tags": []
   },
   "source": [
    "* LDA’s topics can be interpreted as probability distributions over words.\n",
    "* So i'll try 10 topics."
   ]
  },
  {
   "cell_type": "code",
   "execution_count": 61,
   "metadata": {
    "execution": {
     "iopub.execute_input": "2021-01-03T18:09:47.704792Z",
     "iopub.status.busy": "2021-01-03T18:09:47.703878Z",
     "iopub.status.idle": "2021-01-03T18:09:51.967822Z",
     "shell.execute_reply": "2021-01-03T18:09:51.968336Z"
    },
    "papermill": {
     "duration": 4.368377,
     "end_time": "2021-01-03T18:09:51.968512",
     "exception": false,
     "start_time": "2021-01-03T18:09:47.600135",
     "status": "completed"
    },
    "tags": []
   },
   "outputs": [],
   "source": [
    "total_topics = 10\n",
    "\n",
    "lda = models.LdaModel(corpus, id2word=dictionary, num_topics=total_topics)\n",
    "corpus_lda = lda[corpus_tfidf]"
   ]
  },
  {
   "cell_type": "code",
   "execution_count": 62,
   "metadata": {
    "execution": {
     "iopub.execute_input": "2021-01-03T18:09:52.170271Z",
     "iopub.status.busy": "2021-01-03T18:09:52.169659Z",
     "iopub.status.idle": "2021-01-03T18:09:52.178565Z",
     "shell.execute_reply": "2021-01-03T18:09:52.177996Z"
    },
    "papermill": {
     "duration": 0.105611,
     "end_time": "2021-01-03T18:09:52.178669",
     "exception": false,
     "start_time": "2021-01-03T18:09:52.073058",
     "status": "completed"
    },
    "tags": []
   },
   "outputs": [
    {
     "data": {
      "text/plain": [
       "[(0,\n",
       "  '0.022*\"suicide\" + 0.012*\"thunder\" + 0.011*\"failure\" + 0.009*\"trauma\" + 0.009*\"typhoon\"'),\n",
       " (1,\n",
       "  '0.010*\"traumatised\" + 0.008*\"still\" + 0.008*\"watch\" + 0.007*\"suicide\" + 0.007*\"military\"'),\n",
       " (2,\n",
       "  '0.020*\"storm\" + 0.013*\"trapped\" + 0.012*\"saudi\" + 0.010*\"mosque\" + 0.010*\"officer\"'),\n",
       " (3,\n",
       "  '0.016*\"families\" + 0.011*\"mh370:\" + 0.010*\"weapons\" + 0.010*\"malaysia\" + 0.008*\"oil\"'),\n",
       " (4,\n",
       "  '0.012*\"violent\" + 0.011*\"survivors\" + 0.009*\"volcano\" + 0.007*\"wildfire\" + 0.006*\"news\"'),\n",
       " (5, '0.008*\"water\" + 0.007*\"3\" + 0.006*\"pic\" + 0.006*\"time\" + 0.006*\"heat\"'),\n",
       " (6,\n",
       "  '0.010*\"pkk\" + 0.009*\"video\" + 0.009*\"train\" + 0.008*\"tornado\" + 0.008*\"bomb\"'),\n",
       " (7,\n",
       "  '0.014*\"wounded\" + 0.013*\"obama\" + 0.011*\"police\" + 0.010*\"disaster\" + 0.010*\"terrorist\"'),\n",
       " (8,\n",
       "  '0.011*\"get\" + 0.007*\"i\\'m\" + 0.007*\"??\" + 0.006*\"one\" + 0.006*\"northern\"'),\n",
       " (9,\n",
       "  '0.022*\"like\" + 0.013*\"i\\'m\" + 0.011*\"&amp;\" + 0.010*\"released\" + 0.010*\"sinking\"')]"
      ]
     },
     "execution_count": 62,
     "metadata": {},
     "output_type": "execute_result"
    }
   ],
   "source": [
    "# Show first n important word in the topics\n",
    "\n",
    "lda.show_topics(total_topics,5)"
   ]
  },
  {
   "cell_type": "code",
   "execution_count": 63,
   "metadata": {
    "execution": {
     "iopub.execute_input": "2021-01-03T18:09:52.371895Z",
     "iopub.status.busy": "2021-01-03T18:09:52.371216Z",
     "iopub.status.idle": "2021-01-03T18:09:52.381162Z",
     "shell.execute_reply": "2021-01-03T18:09:52.381640Z"
    },
    "papermill": {
     "duration": 0.110208,
     "end_time": "2021-01-03T18:09:52.381783",
     "exception": false,
     "start_time": "2021-01-03T18:09:52.271575",
     "status": "completed"
    },
    "tags": []
   },
   "outputs": [],
   "source": [
    "data_lda = {i: OrderedDict(lda.show_topic(i,25)) for i in range(total_topics)}"
   ]
  },
  {
   "cell_type": "code",
   "execution_count": 64,
   "metadata": {
    "execution": {
     "iopub.execute_input": "2021-01-03T18:09:52.576962Z",
     "iopub.status.busy": "2021-01-03T18:09:52.575944Z",
     "iopub.status.idle": "2021-01-03T18:09:52.581305Z",
     "shell.execute_reply": "2021-01-03T18:09:52.580820Z"
    },
    "papermill": {
     "duration": 0.106403,
     "end_time": "2021-01-03T18:09:52.581422",
     "exception": false,
     "start_time": "2021-01-03T18:09:52.475019",
     "status": "completed"
    },
    "tags": []
   },
   "outputs": [
    {
     "name": "stdout",
     "output_type": "stream",
     "text": [
      "(10, 217)\n"
     ]
    }
   ],
   "source": [
    "df_lda = pd.DataFrame(data_lda)\n",
    "df_lda = df_lda.fillna(0).T\n",
    "print(df_lda.shape)"
   ]
  },
  {
   "cell_type": "code",
   "execution_count": 65,
   "metadata": {
    "execution": {
     "iopub.execute_input": "2021-01-03T18:09:52.789078Z",
     "iopub.status.busy": "2021-01-03T18:09:52.784118Z",
     "iopub.status.idle": "2021-01-03T18:09:52.830914Z",
     "shell.execute_reply": "2021-01-03T18:09:52.831418Z"
    },
    "papermill": {
     "duration": 0.15508,
     "end_time": "2021-01-03T18:09:52.831567",
     "exception": false,
     "start_time": "2021-01-03T18:09:52.676487",
     "status": "completed"
    },
    "tags": []
   },
   "outputs": [
    {
     "data": {
      "text/html": [
       "<div>\n",
       "<style scoped>\n",
       "    .dataframe tbody tr th:only-of-type {\n",
       "        vertical-align: middle;\n",
       "    }\n",
       "\n",
       "    .dataframe tbody tr th {\n",
       "        vertical-align: top;\n",
       "    }\n",
       "\n",
       "    .dataframe thead th {\n",
       "        text-align: right;\n",
       "    }\n",
       "</style>\n",
       "<table border=\"1\" class=\"dataframe\">\n",
       "  <thead>\n",
       "    <tr style=\"text-align: right;\">\n",
       "      <th></th>\n",
       "      <th>suicide</th>\n",
       "      <th>thunder</th>\n",
       "      <th>failure</th>\n",
       "      <th>trauma</th>\n",
       "      <th>typhoon</th>\n",
       "      <th>#news</th>\n",
       "      <th>killed</th>\n",
       "      <th>severe</th>\n",
       "      <th>security</th>\n",
       "      <th>people</th>\n",
       "      <th>weather</th>\n",
       "      <th>hollywood</th>\n",
       "      <th>new</th>\n",
       "      <th>zone</th>\n",
       "      <th>mass</th>\n",
       "      <th>california</th>\n",
       "      <th>county</th>\n",
       "      <th>august</th>\n",
       "      <th>summer</th>\n",
       "      <th>site</th>\n",
       "      <th>??</th>\n",
       "      <th>bus</th>\n",
       "      <th>policy</th>\n",
       "      <th>wildfire</th>\n",
       "      <th>there's</th>\n",
       "      <th>...</th>\n",
       "      <th>minute</th>\n",
       "      <th>home</th>\n",
       "      <th>last</th>\n",
       "      <th>car</th>\n",
       "      <th>lost</th>\n",
       "      <th>maybe</th>\n",
       "      <th>released</th>\n",
       "      <th>sinking</th>\n",
       "      <th>thunderstorm</th>\n",
       "      <th>survive</th>\n",
       "      <th>warning</th>\n",
       "      <th>without</th>\n",
       "      <th>back</th>\n",
       "      <th>wild</th>\n",
       "      <th>can't</th>\n",
       "      <th>would</th>\n",
       "      <th>looks</th>\n",
       "      <th>everyone</th>\n",
       "      <th>think</th>\n",
       "      <th>going</th>\n",
       "      <th>make</th>\n",
       "      <th>send</th>\n",
       "      <th>live</th>\n",
       "      <th>coaches</th>\n",
       "      <th>another</th>\n",
       "    </tr>\n",
       "  </thead>\n",
       "  <tbody>\n",
       "    <tr>\n",
       "      <th>0</th>\n",
       "      <td>0.021569</td>\n",
       "      <td>0.011839</td>\n",
       "      <td>0.01059</td>\n",
       "      <td>0.008965</td>\n",
       "      <td>0.008629</td>\n",
       "      <td>0.008215</td>\n",
       "      <td>0.007993</td>\n",
       "      <td>0.007680</td>\n",
       "      <td>0.007064</td>\n",
       "      <td>0.007026</td>\n",
       "      <td>0.006919</td>\n",
       "      <td>0.006899</td>\n",
       "      <td>0.006569</td>\n",
       "      <td>0.00545</td>\n",
       "      <td>0.005282</td>\n",
       "      <td>0.004888</td>\n",
       "      <td>0.004819</td>\n",
       "      <td>0.004776</td>\n",
       "      <td>0.004584</td>\n",
       "      <td>0.004536</td>\n",
       "      <td>0.004514</td>\n",
       "      <td>0.004274</td>\n",
       "      <td>0.004237</td>\n",
       "      <td>0.004115</td>\n",
       "      <td>0.004077</td>\n",
       "      <td>...</td>\n",
       "      <td>0.00000</td>\n",
       "      <td>0.000000</td>\n",
       "      <td>0.0000</td>\n",
       "      <td>0.000000</td>\n",
       "      <td>0.000000</td>\n",
       "      <td>0.000000</td>\n",
       "      <td>0.000000</td>\n",
       "      <td>0.000000</td>\n",
       "      <td>0.000000</td>\n",
       "      <td>0.000000</td>\n",
       "      <td>0.000000</td>\n",
       "      <td>0.000000</td>\n",
       "      <td>0.000000</td>\n",
       "      <td>0.00000</td>\n",
       "      <td>0.000000</td>\n",
       "      <td>0.000000</td>\n",
       "      <td>0.000000</td>\n",
       "      <td>0.000000</td>\n",
       "      <td>0.000000</td>\n",
       "      <td>0.000000</td>\n",
       "      <td>0.000000</td>\n",
       "      <td>0.000000</td>\n",
       "      <td>0.000000</td>\n",
       "      <td>0.000000</td>\n",
       "      <td>0.000000</td>\n",
       "    </tr>\n",
       "    <tr>\n",
       "      <th>1</th>\n",
       "      <td>0.007446</td>\n",
       "      <td>0.000000</td>\n",
       "      <td>0.00000</td>\n",
       "      <td>0.000000</td>\n",
       "      <td>0.000000</td>\n",
       "      <td>0.000000</td>\n",
       "      <td>0.000000</td>\n",
       "      <td>0.000000</td>\n",
       "      <td>0.000000</td>\n",
       "      <td>0.000000</td>\n",
       "      <td>0.000000</td>\n",
       "      <td>0.000000</td>\n",
       "      <td>0.000000</td>\n",
       "      <td>0.00000</td>\n",
       "      <td>0.004952</td>\n",
       "      <td>0.000000</td>\n",
       "      <td>0.000000</td>\n",
       "      <td>0.000000</td>\n",
       "      <td>0.000000</td>\n",
       "      <td>0.000000</td>\n",
       "      <td>0.000000</td>\n",
       "      <td>0.000000</td>\n",
       "      <td>0.000000</td>\n",
       "      <td>0.000000</td>\n",
       "      <td>0.000000</td>\n",
       "      <td>...</td>\n",
       "      <td>0.00000</td>\n",
       "      <td>0.000000</td>\n",
       "      <td>0.0000</td>\n",
       "      <td>0.000000</td>\n",
       "      <td>0.000000</td>\n",
       "      <td>0.000000</td>\n",
       "      <td>0.000000</td>\n",
       "      <td>0.000000</td>\n",
       "      <td>0.000000</td>\n",
       "      <td>0.000000</td>\n",
       "      <td>0.000000</td>\n",
       "      <td>0.000000</td>\n",
       "      <td>0.000000</td>\n",
       "      <td>0.00000</td>\n",
       "      <td>0.000000</td>\n",
       "      <td>0.000000</td>\n",
       "      <td>0.000000</td>\n",
       "      <td>0.000000</td>\n",
       "      <td>0.000000</td>\n",
       "      <td>0.000000</td>\n",
       "      <td>0.000000</td>\n",
       "      <td>0.000000</td>\n",
       "      <td>0.000000</td>\n",
       "      <td>0.000000</td>\n",
       "      <td>0.000000</td>\n",
       "    </tr>\n",
       "    <tr>\n",
       "      <th>2</th>\n",
       "      <td>0.006223</td>\n",
       "      <td>0.000000</td>\n",
       "      <td>0.00000</td>\n",
       "      <td>0.000000</td>\n",
       "      <td>0.000000</td>\n",
       "      <td>0.000000</td>\n",
       "      <td>0.000000</td>\n",
       "      <td>0.000000</td>\n",
       "      <td>0.000000</td>\n",
       "      <td>0.000000</td>\n",
       "      <td>0.000000</td>\n",
       "      <td>0.000000</td>\n",
       "      <td>0.000000</td>\n",
       "      <td>0.00000</td>\n",
       "      <td>0.000000</td>\n",
       "      <td>0.000000</td>\n",
       "      <td>0.000000</td>\n",
       "      <td>0.000000</td>\n",
       "      <td>0.000000</td>\n",
       "      <td>0.000000</td>\n",
       "      <td>0.000000</td>\n",
       "      <td>0.000000</td>\n",
       "      <td>0.000000</td>\n",
       "      <td>0.000000</td>\n",
       "      <td>0.000000</td>\n",
       "      <td>...</td>\n",
       "      <td>0.00000</td>\n",
       "      <td>0.000000</td>\n",
       "      <td>0.0000</td>\n",
       "      <td>0.000000</td>\n",
       "      <td>0.000000</td>\n",
       "      <td>0.000000</td>\n",
       "      <td>0.000000</td>\n",
       "      <td>0.000000</td>\n",
       "      <td>0.000000</td>\n",
       "      <td>0.000000</td>\n",
       "      <td>0.000000</td>\n",
       "      <td>0.000000</td>\n",
       "      <td>0.000000</td>\n",
       "      <td>0.00000</td>\n",
       "      <td>0.000000</td>\n",
       "      <td>0.000000</td>\n",
       "      <td>0.000000</td>\n",
       "      <td>0.000000</td>\n",
       "      <td>0.000000</td>\n",
       "      <td>0.000000</td>\n",
       "      <td>0.000000</td>\n",
       "      <td>0.000000</td>\n",
       "      <td>0.000000</td>\n",
       "      <td>0.000000</td>\n",
       "      <td>0.000000</td>\n",
       "    </tr>\n",
       "    <tr>\n",
       "      <th>3</th>\n",
       "      <td>0.000000</td>\n",
       "      <td>0.000000</td>\n",
       "      <td>0.00000</td>\n",
       "      <td>0.000000</td>\n",
       "      <td>0.000000</td>\n",
       "      <td>0.000000</td>\n",
       "      <td>0.000000</td>\n",
       "      <td>0.000000</td>\n",
       "      <td>0.000000</td>\n",
       "      <td>0.000000</td>\n",
       "      <td>0.000000</td>\n",
       "      <td>0.000000</td>\n",
       "      <td>0.007873</td>\n",
       "      <td>0.00000</td>\n",
       "      <td>0.000000</td>\n",
       "      <td>0.000000</td>\n",
       "      <td>0.000000</td>\n",
       "      <td>0.000000</td>\n",
       "      <td>0.000000</td>\n",
       "      <td>0.000000</td>\n",
       "      <td>0.000000</td>\n",
       "      <td>0.000000</td>\n",
       "      <td>0.000000</td>\n",
       "      <td>0.000000</td>\n",
       "      <td>0.000000</td>\n",
       "      <td>...</td>\n",
       "      <td>0.00000</td>\n",
       "      <td>0.000000</td>\n",
       "      <td>0.0000</td>\n",
       "      <td>0.000000</td>\n",
       "      <td>0.000000</td>\n",
       "      <td>0.000000</td>\n",
       "      <td>0.000000</td>\n",
       "      <td>0.000000</td>\n",
       "      <td>0.000000</td>\n",
       "      <td>0.000000</td>\n",
       "      <td>0.000000</td>\n",
       "      <td>0.000000</td>\n",
       "      <td>0.000000</td>\n",
       "      <td>0.00000</td>\n",
       "      <td>0.000000</td>\n",
       "      <td>0.000000</td>\n",
       "      <td>0.000000</td>\n",
       "      <td>0.000000</td>\n",
       "      <td>0.000000</td>\n",
       "      <td>0.000000</td>\n",
       "      <td>0.000000</td>\n",
       "      <td>0.000000</td>\n",
       "      <td>0.000000</td>\n",
       "      <td>0.000000</td>\n",
       "      <td>0.000000</td>\n",
       "    </tr>\n",
       "    <tr>\n",
       "      <th>4</th>\n",
       "      <td>0.000000</td>\n",
       "      <td>0.000000</td>\n",
       "      <td>0.00000</td>\n",
       "      <td>0.000000</td>\n",
       "      <td>0.000000</td>\n",
       "      <td>0.000000</td>\n",
       "      <td>0.000000</td>\n",
       "      <td>0.000000</td>\n",
       "      <td>0.000000</td>\n",
       "      <td>0.000000</td>\n",
       "      <td>0.000000</td>\n",
       "      <td>0.000000</td>\n",
       "      <td>0.000000</td>\n",
       "      <td>0.00000</td>\n",
       "      <td>0.000000</td>\n",
       "      <td>0.000000</td>\n",
       "      <td>0.000000</td>\n",
       "      <td>0.000000</td>\n",
       "      <td>0.000000</td>\n",
       "      <td>0.000000</td>\n",
       "      <td>0.000000</td>\n",
       "      <td>0.000000</td>\n",
       "      <td>0.000000</td>\n",
       "      <td>0.006519</td>\n",
       "      <td>0.000000</td>\n",
       "      <td>...</td>\n",
       "      <td>0.00000</td>\n",
       "      <td>0.000000</td>\n",
       "      <td>0.0000</td>\n",
       "      <td>0.000000</td>\n",
       "      <td>0.000000</td>\n",
       "      <td>0.000000</td>\n",
       "      <td>0.000000</td>\n",
       "      <td>0.000000</td>\n",
       "      <td>0.000000</td>\n",
       "      <td>0.000000</td>\n",
       "      <td>0.000000</td>\n",
       "      <td>0.000000</td>\n",
       "      <td>0.000000</td>\n",
       "      <td>0.00000</td>\n",
       "      <td>0.000000</td>\n",
       "      <td>0.000000</td>\n",
       "      <td>0.000000</td>\n",
       "      <td>0.000000</td>\n",
       "      <td>0.000000</td>\n",
       "      <td>0.000000</td>\n",
       "      <td>0.000000</td>\n",
       "      <td>0.000000</td>\n",
       "      <td>0.000000</td>\n",
       "      <td>0.000000</td>\n",
       "      <td>0.000000</td>\n",
       "    </tr>\n",
       "    <tr>\n",
       "      <th>5</th>\n",
       "      <td>0.000000</td>\n",
       "      <td>0.000000</td>\n",
       "      <td>0.00000</td>\n",
       "      <td>0.000000</td>\n",
       "      <td>0.000000</td>\n",
       "      <td>0.000000</td>\n",
       "      <td>0.000000</td>\n",
       "      <td>0.000000</td>\n",
       "      <td>0.000000</td>\n",
       "      <td>0.000000</td>\n",
       "      <td>0.000000</td>\n",
       "      <td>0.000000</td>\n",
       "      <td>0.000000</td>\n",
       "      <td>0.00000</td>\n",
       "      <td>0.000000</td>\n",
       "      <td>0.000000</td>\n",
       "      <td>0.000000</td>\n",
       "      <td>0.000000</td>\n",
       "      <td>0.000000</td>\n",
       "      <td>0.000000</td>\n",
       "      <td>0.000000</td>\n",
       "      <td>0.000000</td>\n",
       "      <td>0.000000</td>\n",
       "      <td>0.000000</td>\n",
       "      <td>0.000000</td>\n",
       "      <td>...</td>\n",
       "      <td>0.00000</td>\n",
       "      <td>0.000000</td>\n",
       "      <td>0.0000</td>\n",
       "      <td>0.000000</td>\n",
       "      <td>0.000000</td>\n",
       "      <td>0.000000</td>\n",
       "      <td>0.000000</td>\n",
       "      <td>0.000000</td>\n",
       "      <td>0.000000</td>\n",
       "      <td>0.000000</td>\n",
       "      <td>0.000000</td>\n",
       "      <td>0.000000</td>\n",
       "      <td>0.000000</td>\n",
       "      <td>0.00000</td>\n",
       "      <td>0.000000</td>\n",
       "      <td>0.000000</td>\n",
       "      <td>0.000000</td>\n",
       "      <td>0.000000</td>\n",
       "      <td>0.000000</td>\n",
       "      <td>0.000000</td>\n",
       "      <td>0.000000</td>\n",
       "      <td>0.000000</td>\n",
       "      <td>0.000000</td>\n",
       "      <td>0.000000</td>\n",
       "      <td>0.000000</td>\n",
       "    </tr>\n",
       "    <tr>\n",
       "      <th>6</th>\n",
       "      <td>0.000000</td>\n",
       "      <td>0.000000</td>\n",
       "      <td>0.00000</td>\n",
       "      <td>0.000000</td>\n",
       "      <td>0.000000</td>\n",
       "      <td>0.003581</td>\n",
       "      <td>0.000000</td>\n",
       "      <td>0.000000</td>\n",
       "      <td>0.000000</td>\n",
       "      <td>0.000000</td>\n",
       "      <td>0.000000</td>\n",
       "      <td>0.000000</td>\n",
       "      <td>0.000000</td>\n",
       "      <td>0.00000</td>\n",
       "      <td>0.000000</td>\n",
       "      <td>0.000000</td>\n",
       "      <td>0.000000</td>\n",
       "      <td>0.000000</td>\n",
       "      <td>0.000000</td>\n",
       "      <td>0.000000</td>\n",
       "      <td>0.000000</td>\n",
       "      <td>0.000000</td>\n",
       "      <td>0.000000</td>\n",
       "      <td>0.000000</td>\n",
       "      <td>0.000000</td>\n",
       "      <td>...</td>\n",
       "      <td>0.00000</td>\n",
       "      <td>0.000000</td>\n",
       "      <td>0.0000</td>\n",
       "      <td>0.000000</td>\n",
       "      <td>0.000000</td>\n",
       "      <td>0.000000</td>\n",
       "      <td>0.000000</td>\n",
       "      <td>0.000000</td>\n",
       "      <td>0.000000</td>\n",
       "      <td>0.000000</td>\n",
       "      <td>0.000000</td>\n",
       "      <td>0.000000</td>\n",
       "      <td>0.000000</td>\n",
       "      <td>0.00000</td>\n",
       "      <td>0.000000</td>\n",
       "      <td>0.000000</td>\n",
       "      <td>0.000000</td>\n",
       "      <td>0.000000</td>\n",
       "      <td>0.000000</td>\n",
       "      <td>0.000000</td>\n",
       "      <td>0.000000</td>\n",
       "      <td>0.000000</td>\n",
       "      <td>0.000000</td>\n",
       "      <td>0.000000</td>\n",
       "      <td>0.000000</td>\n",
       "    </tr>\n",
       "    <tr>\n",
       "      <th>7</th>\n",
       "      <td>0.000000</td>\n",
       "      <td>0.000000</td>\n",
       "      <td>0.00000</td>\n",
       "      <td>0.000000</td>\n",
       "      <td>0.000000</td>\n",
       "      <td>0.000000</td>\n",
       "      <td>0.005237</td>\n",
       "      <td>0.000000</td>\n",
       "      <td>0.000000</td>\n",
       "      <td>0.000000</td>\n",
       "      <td>0.000000</td>\n",
       "      <td>0.000000</td>\n",
       "      <td>0.000000</td>\n",
       "      <td>0.00000</td>\n",
       "      <td>0.000000</td>\n",
       "      <td>0.000000</td>\n",
       "      <td>0.000000</td>\n",
       "      <td>0.000000</td>\n",
       "      <td>0.000000</td>\n",
       "      <td>0.000000</td>\n",
       "      <td>0.003865</td>\n",
       "      <td>0.000000</td>\n",
       "      <td>0.000000</td>\n",
       "      <td>0.000000</td>\n",
       "      <td>0.000000</td>\n",
       "      <td>...</td>\n",
       "      <td>0.00000</td>\n",
       "      <td>0.000000</td>\n",
       "      <td>0.0000</td>\n",
       "      <td>0.000000</td>\n",
       "      <td>0.000000</td>\n",
       "      <td>0.000000</td>\n",
       "      <td>0.000000</td>\n",
       "      <td>0.000000</td>\n",
       "      <td>0.000000</td>\n",
       "      <td>0.000000</td>\n",
       "      <td>0.000000</td>\n",
       "      <td>0.000000</td>\n",
       "      <td>0.000000</td>\n",
       "      <td>0.00000</td>\n",
       "      <td>0.000000</td>\n",
       "      <td>0.000000</td>\n",
       "      <td>0.000000</td>\n",
       "      <td>0.000000</td>\n",
       "      <td>0.000000</td>\n",
       "      <td>0.000000</td>\n",
       "      <td>0.000000</td>\n",
       "      <td>0.000000</td>\n",
       "      <td>0.000000</td>\n",
       "      <td>0.000000</td>\n",
       "      <td>0.000000</td>\n",
       "    </tr>\n",
       "    <tr>\n",
       "      <th>8</th>\n",
       "      <td>0.000000</td>\n",
       "      <td>0.000000</td>\n",
       "      <td>0.00000</td>\n",
       "      <td>0.000000</td>\n",
       "      <td>0.000000</td>\n",
       "      <td>0.000000</td>\n",
       "      <td>0.000000</td>\n",
       "      <td>0.000000</td>\n",
       "      <td>0.000000</td>\n",
       "      <td>0.003089</td>\n",
       "      <td>0.000000</td>\n",
       "      <td>0.000000</td>\n",
       "      <td>0.000000</td>\n",
       "      <td>0.00000</td>\n",
       "      <td>0.000000</td>\n",
       "      <td>0.000000</td>\n",
       "      <td>0.000000</td>\n",
       "      <td>0.000000</td>\n",
       "      <td>0.000000</td>\n",
       "      <td>0.000000</td>\n",
       "      <td>0.006742</td>\n",
       "      <td>0.000000</td>\n",
       "      <td>0.000000</td>\n",
       "      <td>0.000000</td>\n",
       "      <td>0.000000</td>\n",
       "      <td>...</td>\n",
       "      <td>0.00402</td>\n",
       "      <td>0.003855</td>\n",
       "      <td>0.0033</td>\n",
       "      <td>0.003007</td>\n",
       "      <td>0.002993</td>\n",
       "      <td>0.002925</td>\n",
       "      <td>0.000000</td>\n",
       "      <td>0.000000</td>\n",
       "      <td>0.000000</td>\n",
       "      <td>0.000000</td>\n",
       "      <td>0.000000</td>\n",
       "      <td>0.000000</td>\n",
       "      <td>0.000000</td>\n",
       "      <td>0.00000</td>\n",
       "      <td>0.000000</td>\n",
       "      <td>0.000000</td>\n",
       "      <td>0.000000</td>\n",
       "      <td>0.000000</td>\n",
       "      <td>0.000000</td>\n",
       "      <td>0.000000</td>\n",
       "      <td>0.000000</td>\n",
       "      <td>0.000000</td>\n",
       "      <td>0.000000</td>\n",
       "      <td>0.000000</td>\n",
       "      <td>0.000000</td>\n",
       "    </tr>\n",
       "    <tr>\n",
       "      <th>9</th>\n",
       "      <td>0.000000</td>\n",
       "      <td>0.000000</td>\n",
       "      <td>0.00000</td>\n",
       "      <td>0.000000</td>\n",
       "      <td>0.000000</td>\n",
       "      <td>0.000000</td>\n",
       "      <td>0.000000</td>\n",
       "      <td>0.003224</td>\n",
       "      <td>0.000000</td>\n",
       "      <td>0.000000</td>\n",
       "      <td>0.000000</td>\n",
       "      <td>0.000000</td>\n",
       "      <td>0.000000</td>\n",
       "      <td>0.00000</td>\n",
       "      <td>0.000000</td>\n",
       "      <td>0.000000</td>\n",
       "      <td>0.000000</td>\n",
       "      <td>0.000000</td>\n",
       "      <td>0.000000</td>\n",
       "      <td>0.000000</td>\n",
       "      <td>0.000000</td>\n",
       "      <td>0.000000</td>\n",
       "      <td>0.000000</td>\n",
       "      <td>0.000000</td>\n",
       "      <td>0.000000</td>\n",
       "      <td>...</td>\n",
       "      <td>0.00000</td>\n",
       "      <td>0.000000</td>\n",
       "      <td>0.0000</td>\n",
       "      <td>0.000000</td>\n",
       "      <td>0.000000</td>\n",
       "      <td>0.000000</td>\n",
       "      <td>0.010085</td>\n",
       "      <td>0.009794</td>\n",
       "      <td>0.008746</td>\n",
       "      <td>0.007073</td>\n",
       "      <td>0.006997</td>\n",
       "      <td>0.006813</td>\n",
       "      <td>0.006375</td>\n",
       "      <td>0.00636</td>\n",
       "      <td>0.006156</td>\n",
       "      <td>0.005238</td>\n",
       "      <td>0.004944</td>\n",
       "      <td>0.004665</td>\n",
       "      <td>0.004574</td>\n",
       "      <td>0.003818</td>\n",
       "      <td>0.003749</td>\n",
       "      <td>0.003743</td>\n",
       "      <td>0.003594</td>\n",
       "      <td>0.003568</td>\n",
       "      <td>0.003531</td>\n",
       "    </tr>\n",
       "  </tbody>\n",
       "</table>\n",
       "<p>10 rows × 217 columns</p>\n",
       "</div>"
      ],
      "text/plain": [
       "    suicide   thunder  failure    trauma   typhoon     #news    killed  \\\n",
       "0  0.021569  0.011839  0.01059  0.008965  0.008629  0.008215  0.007993   \n",
       "1  0.007446  0.000000  0.00000  0.000000  0.000000  0.000000  0.000000   \n",
       "2  0.006223  0.000000  0.00000  0.000000  0.000000  0.000000  0.000000   \n",
       "3  0.000000  0.000000  0.00000  0.000000  0.000000  0.000000  0.000000   \n",
       "4  0.000000  0.000000  0.00000  0.000000  0.000000  0.000000  0.000000   \n",
       "5  0.000000  0.000000  0.00000  0.000000  0.000000  0.000000  0.000000   \n",
       "6  0.000000  0.000000  0.00000  0.000000  0.000000  0.003581  0.000000   \n",
       "7  0.000000  0.000000  0.00000  0.000000  0.000000  0.000000  0.005237   \n",
       "8  0.000000  0.000000  0.00000  0.000000  0.000000  0.000000  0.000000   \n",
       "9  0.000000  0.000000  0.00000  0.000000  0.000000  0.000000  0.000000   \n",
       "\n",
       "     severe  security    people   weather  hollywood       new     zone  \\\n",
       "0  0.007680  0.007064  0.007026  0.006919   0.006899  0.006569  0.00545   \n",
       "1  0.000000  0.000000  0.000000  0.000000   0.000000  0.000000  0.00000   \n",
       "2  0.000000  0.000000  0.000000  0.000000   0.000000  0.000000  0.00000   \n",
       "3  0.000000  0.000000  0.000000  0.000000   0.000000  0.007873  0.00000   \n",
       "4  0.000000  0.000000  0.000000  0.000000   0.000000  0.000000  0.00000   \n",
       "5  0.000000  0.000000  0.000000  0.000000   0.000000  0.000000  0.00000   \n",
       "6  0.000000  0.000000  0.000000  0.000000   0.000000  0.000000  0.00000   \n",
       "7  0.000000  0.000000  0.000000  0.000000   0.000000  0.000000  0.00000   \n",
       "8  0.000000  0.000000  0.003089  0.000000   0.000000  0.000000  0.00000   \n",
       "9  0.003224  0.000000  0.000000  0.000000   0.000000  0.000000  0.00000   \n",
       "\n",
       "       mass  california    county    august    summer      site        ??  \\\n",
       "0  0.005282    0.004888  0.004819  0.004776  0.004584  0.004536  0.004514   \n",
       "1  0.004952    0.000000  0.000000  0.000000  0.000000  0.000000  0.000000   \n",
       "2  0.000000    0.000000  0.000000  0.000000  0.000000  0.000000  0.000000   \n",
       "3  0.000000    0.000000  0.000000  0.000000  0.000000  0.000000  0.000000   \n",
       "4  0.000000    0.000000  0.000000  0.000000  0.000000  0.000000  0.000000   \n",
       "5  0.000000    0.000000  0.000000  0.000000  0.000000  0.000000  0.000000   \n",
       "6  0.000000    0.000000  0.000000  0.000000  0.000000  0.000000  0.000000   \n",
       "7  0.000000    0.000000  0.000000  0.000000  0.000000  0.000000  0.003865   \n",
       "8  0.000000    0.000000  0.000000  0.000000  0.000000  0.000000  0.006742   \n",
       "9  0.000000    0.000000  0.000000  0.000000  0.000000  0.000000  0.000000   \n",
       "\n",
       "        bus    policy  wildfire   there's  ...   minute      home    last  \\\n",
       "0  0.004274  0.004237  0.004115  0.004077  ...  0.00000  0.000000  0.0000   \n",
       "1  0.000000  0.000000  0.000000  0.000000  ...  0.00000  0.000000  0.0000   \n",
       "2  0.000000  0.000000  0.000000  0.000000  ...  0.00000  0.000000  0.0000   \n",
       "3  0.000000  0.000000  0.000000  0.000000  ...  0.00000  0.000000  0.0000   \n",
       "4  0.000000  0.000000  0.006519  0.000000  ...  0.00000  0.000000  0.0000   \n",
       "5  0.000000  0.000000  0.000000  0.000000  ...  0.00000  0.000000  0.0000   \n",
       "6  0.000000  0.000000  0.000000  0.000000  ...  0.00000  0.000000  0.0000   \n",
       "7  0.000000  0.000000  0.000000  0.000000  ...  0.00000  0.000000  0.0000   \n",
       "8  0.000000  0.000000  0.000000  0.000000  ...  0.00402  0.003855  0.0033   \n",
       "9  0.000000  0.000000  0.000000  0.000000  ...  0.00000  0.000000  0.0000   \n",
       "\n",
       "        car      lost     maybe  released   sinking  thunderstorm   survive  \\\n",
       "0  0.000000  0.000000  0.000000  0.000000  0.000000      0.000000  0.000000   \n",
       "1  0.000000  0.000000  0.000000  0.000000  0.000000      0.000000  0.000000   \n",
       "2  0.000000  0.000000  0.000000  0.000000  0.000000      0.000000  0.000000   \n",
       "3  0.000000  0.000000  0.000000  0.000000  0.000000      0.000000  0.000000   \n",
       "4  0.000000  0.000000  0.000000  0.000000  0.000000      0.000000  0.000000   \n",
       "5  0.000000  0.000000  0.000000  0.000000  0.000000      0.000000  0.000000   \n",
       "6  0.000000  0.000000  0.000000  0.000000  0.000000      0.000000  0.000000   \n",
       "7  0.000000  0.000000  0.000000  0.000000  0.000000      0.000000  0.000000   \n",
       "8  0.003007  0.002993  0.002925  0.000000  0.000000      0.000000  0.000000   \n",
       "9  0.000000  0.000000  0.000000  0.010085  0.009794      0.008746  0.007073   \n",
       "\n",
       "    warning   without      back     wild     can't     would     looks  \\\n",
       "0  0.000000  0.000000  0.000000  0.00000  0.000000  0.000000  0.000000   \n",
       "1  0.000000  0.000000  0.000000  0.00000  0.000000  0.000000  0.000000   \n",
       "2  0.000000  0.000000  0.000000  0.00000  0.000000  0.000000  0.000000   \n",
       "3  0.000000  0.000000  0.000000  0.00000  0.000000  0.000000  0.000000   \n",
       "4  0.000000  0.000000  0.000000  0.00000  0.000000  0.000000  0.000000   \n",
       "5  0.000000  0.000000  0.000000  0.00000  0.000000  0.000000  0.000000   \n",
       "6  0.000000  0.000000  0.000000  0.00000  0.000000  0.000000  0.000000   \n",
       "7  0.000000  0.000000  0.000000  0.00000  0.000000  0.000000  0.000000   \n",
       "8  0.000000  0.000000  0.000000  0.00000  0.000000  0.000000  0.000000   \n",
       "9  0.006997  0.006813  0.006375  0.00636  0.006156  0.005238  0.004944   \n",
       "\n",
       "   everyone     think     going      make      send      live   coaches  \\\n",
       "0  0.000000  0.000000  0.000000  0.000000  0.000000  0.000000  0.000000   \n",
       "1  0.000000  0.000000  0.000000  0.000000  0.000000  0.000000  0.000000   \n",
       "2  0.000000  0.000000  0.000000  0.000000  0.000000  0.000000  0.000000   \n",
       "3  0.000000  0.000000  0.000000  0.000000  0.000000  0.000000  0.000000   \n",
       "4  0.000000  0.000000  0.000000  0.000000  0.000000  0.000000  0.000000   \n",
       "5  0.000000  0.000000  0.000000  0.000000  0.000000  0.000000  0.000000   \n",
       "6  0.000000  0.000000  0.000000  0.000000  0.000000  0.000000  0.000000   \n",
       "7  0.000000  0.000000  0.000000  0.000000  0.000000  0.000000  0.000000   \n",
       "8  0.000000  0.000000  0.000000  0.000000  0.000000  0.000000  0.000000   \n",
       "9  0.004665  0.004574  0.003818  0.003749  0.003743  0.003594  0.003568   \n",
       "\n",
       "    another  \n",
       "0  0.000000  \n",
       "1  0.000000  \n",
       "2  0.000000  \n",
       "3  0.000000  \n",
       "4  0.000000  \n",
       "5  0.000000  \n",
       "6  0.000000  \n",
       "7  0.000000  \n",
       "8  0.000000  \n",
       "9  0.003531  \n",
       "\n",
       "[10 rows x 217 columns]"
      ]
     },
     "execution_count": 65,
     "metadata": {},
     "output_type": "execute_result"
    }
   ],
   "source": [
    "df_lda"
   ]
  },
  {
   "cell_type": "code",
   "execution_count": 66,
   "metadata": {
    "execution": {
     "iopub.execute_input": "2021-01-03T18:09:53.029216Z",
     "iopub.status.busy": "2021-01-03T18:09:53.028548Z",
     "iopub.status.idle": "2021-01-03T18:10:05.991775Z",
     "shell.execute_reply": "2021-01-03T18:10:05.992870Z"
    },
    "papermill": {
     "duration": 13.065603,
     "end_time": "2021-01-03T18:10:05.993052",
     "exception": false,
     "start_time": "2021-01-03T18:09:52.927449",
     "status": "completed"
    },
    "tags": []
   },
   "outputs": [
    {
     "data": {
      "text/html": [
       "\n",
       "<link rel=\"stylesheet\" type=\"text/css\" href=\"https://cdn.rawgit.com/bmabey/pyLDAvis/files/ldavis.v1.0.0.css\">\n",
       "\n",
       "\n",
       "<div id=\"ldavis_el161402087087074084067093673\"></div>\n",
       "<script type=\"text/javascript\">\n",
       "\n",
       "var ldavis_el161402087087074084067093673_data = {\"mdsDat\": {\"x\": [32.42095184326172, 0.648955225944519, 71.01968383789062, 3.7859814167022705, -42.666500091552734, -3.6216893196105957, -3.632401704788208, -36.58440017700195, 44.391380310058594, 40.235809326171875], \"y\": [8.115229606628418, 71.70709991455078, 9.971006393432617, 33.18513488769531, -9.22206974029541, -43.52651596069336, -4.171707630157471, 35.804412841796875, 50.61538314819336, -31.591665267944336], \"topics\": [1, 2, 3, 4, 5, 6, 7, 8, 9, 10], \"cluster\": [1, 1, 1, 1, 1, 1, 1, 1, 1, 1], \"Freq\": [36.07527726123087, 12.51606348847779, 12.387365113550572, 8.596916886982148, 5.076635694518556, 5.07024782677125, 5.069553503122987, 5.069535416307874, 5.069518393056829, 5.068886415981126]}, \"tinfo\": {\"Term\": [\"violent\", \"survivors\", \"suicide\", \"like\", \"wounded\", \"storm\", \"obama\", \"volcano\", \"families\", \"wildfire\", \"disaster\", \"terrorist\", \"pkk\", \"i'm\", \"video\", \"forest\", \"tornado\", \"kills\", \"&amp;\", \"killed\", \"trapped\", \"police\", \"#news\", \"weapon\", \"hazardous\", \"turkey\", \"saudi\", \"smoke\", \"train\", \"war\", \"violent\", \"survivors\", \"volcano\", \"hazardous\", \"calgary\", \"#earthquake\", \"computers\", \"reuters\", \"download\", \"camp\", \"china\", \"#cnn\", \"walk\", \"earthquake\", \"hearing\", \"#photography\", \"shots\", \"prevent\", \"expected\", \"weird\", \"stream\", \"area.\", \"ended\", \"#art\", \"children\", \"thanks\", \"wants\", \"common\", \"inner\", \"original\", \"hurricane\", \"sound\", \"tonight\", \"book\", \"talk\", \"u.s.\", \"story\", \"wildfire\", \"driver\", \"ok\", \"#islam\", \"homes\", \"help\", \"spill\", \"news\", \"road\", \"wanna\", \"2015\", \"first\", \"see\", \"war\", \"world\", \"wounded\", \"obama\", \"forest\", \"kills\", \"pm:\", \"content\", \"terrorist\", \"declares\", \"texas\", \"low\", \"hostage\", \"typhoon-devastated\", \"terror\", \"added\", \"saipan:\", \"emotional\", \"court\", \"displaced\", \"expect\", \"la\", \"actions\", \"opens\", \"seek\", \"riot\", \"sitting\", \"worse\", \"declaration\", \"village\", \"signs\", \"vinyl\", \"israeli\", \"playlist\", \"weapon\", \"called\", \"15\", \"disaster\", \"--\", \"...\", \"police\", \"2\", \"video\", \"nuclear\", \"via\", \"killed\", \"@youtube\", \"tragedy\", \"crash\", \"make\", \"??\", \"pkk\", \"tornado\", \"turkey\", \"terrorism\", \"fear\", \"rescued\", \"market\", \"hazard\", \"tablet\", \"captures\", \"destroy\", \"room\", \"heavy\", \"view\", \"crash:\", \"rule\", \"tonight.\", \"landing\", \"causing\", \"different\", \"indian\", \"rocky\", \"derailment:\", \"stone\", \"waiting\", \"seven\", \"rt?\", \"?please\", \"22\", \"bodies\", \"\\u0089\\u00fb\\u00f3\", \"number\", \"searching\", \"dan\", \"smoke\", \"island\", \"train\", \"plane\", \"rain\", \"spot\", \"soon\", \"love\", \"bomb\", \"house\", \"video\", \"army\", \"entire\", \"old\", \"fire\", \"liked\", \"@youtube\", \"world\", \"way\", \"northern\", \"like\", \"#news\", \"...\", \"california\", \"via\", \"water\", \"40\", \"waves\", \"comment\", \"#??\", \"early\", \"pic\", \"hell\", \"strong\", \"threat\", \"worst\", \"pain\", \"test\", \"60\", \"fears\", \"mph\", \"brain\", \"parents\", \"among\", \"lots\", \"department\", \"cover\", \"attack:\", \"wave\", \"udhampur\", \"series\", \"remove\", \"giving\", \"mill\", \"too.\", \"suspected\", \"gun\", \"heat\", \"haha\", \"50\", \"three\", \"bigger\", \"11\", \"heart\", \"#nowplaying\", \"what's\", \"3\", \"im\", \"care\", \"time\", \"latest\", \"got\", \"u\", \"getting\", \"please\", \"words\", \"may\", \"&amp;\", \"even\", \"landslide\", \"get\", \"natural\", \"caused\", \"rescuers\", \"appears\", \"heard\", \"wedding\", \"life.\", \"cancer\", \"survived\", \"stories\", \"weekend\", \"stuff\", \"roads\", \"related\", \"????????\", \"ones\", \"though.\", \"break\", \"gold\", \"out!\", \"plus\", \"storm.\", \"southern\", \"md\", \"time.\", \"friends\", \"sexual\", \"bet\", \"lets\", \"18\", \"red\", \"lost\", \"minute\", \"saving\", \"season\", \"ready\", \"insurance\", \"fun\", \"okay\", \"let's\", \"sky\", \"shooting\", \"northern\", \"????\", \"get\", \"whole\", \"officials\", \"maybe\", \"home\", \"woman\", \"find\", \"i'm\", \"one\", \"??\", \"go\", \"&amp;\", \"ass\", \"disaster\", \"pretty\", \"still\", \"last\", \"may\", \"making\", \"car\", \"people\", \"that's\", \"today\", \"trapped\", \"saudi\", \"mosque\", \"officer\", \"rioting\", \"move\", \"baby\", \"looking\", \"fatal\", \"drown\", \"lord\", \"houses\", \"games\", \"film\", \"leaving\", \"..\", \"that.\", \"report:\", \"prime\", \"price\", \"horror\", \"loving\", \"photos:\", \"boy\", \"late\", \"land\", \"king\", \"headed\", \"suspect\", \"route\", \"mountain\", \"storm\", \"charged\", \"rt\", \"lot\", \"don\\u0089\\u00fb\\u00aat\", \"movie\", \"good\", \"claims\", \"&amp;\", \"face\", \"suicide\", \"fucking\", \"one\", \"got\", \"dead\", \"bombing\", \"like\", \"weapon\", \"i'm\", \"new\", \"thunder\", \"failure\", \"security\", \"hollywood\", \"typhoon\", \"trauma\", \"zone\", \"policy\", \"plans\", \"05\", \"cdt\", \"order\", \"ancient\", \"#gbbo\", \"el\", \"lake\", \"follow\", \"according\", \"stock\", \"edt\", \"trip\", \"rate\", \"aim\", \"weather\", \"fans\", \"starts\", \"forever\", \"20\", \"mhtw4fnet\", \"i...\", \"summer\", \"severe\", \"suicide\", \"county\", \"issued\", \"least\", \"nearly\", \"august\", \"issues\", \"bus\", \"#news\", \"site\", \"god\", \"there's\", \"killed\", \"mass\", \"people\", \"new\", \"california\", \"??\", \"crash\", \"wildfire\", \"old\", \"traumatised\", \"harm\", \"flood\", \"meltdown\", \"instead\", \"ur\", \"islamic\", \"board\", \"winds\", \"update:\", \"delivers\", \"likely\", \"moving\", \"#wildfire\", \"president\", \"company\", \"seems\", \"ocean\", \"military\", \"bank\", \"player\", \"meet\", \"japanese\", \"within\", \":-)\", \"industry\", \"residents\", \"iraq\", \"given\", \"etc.\", \"piece\", \"british\", \"done\", \"japan\", \"70\", \"four\", \"group\", \"years\", \"level\", \"watch\", \"tragedy\", \"still\", \"bombing\", \"big\", \"suicide\", \"mass\", \"state\", \"war\", \"hiroshima\", \"look\", \"atomic\", \"2\", \"u\", \"like\", \"sinking\", \"released\", \"thunderstorm\", \"coaches\", \"human\", \"shift\", \"send\", \"changes\", \"soldiers\", \"comes\", \"warnings\", \"destroys\", \"no.\", \"survive\", \"businesses\", \"warning\", \"understand\", \"tank\", \"zone.\", \"deadly\", \"map\", \"round\", \"angry\", \"rain.\", \"brother\", \"gang\", \"syrian\", \"force\", \"you!\", \"sounds\", \"saved\", \"mean\", \":)\", \"deep\", \"looks\", \"without\", \"cake\", \"country\", \"happened\", \"wild\", \"finally\", \"everyone\", \"like\", \"ship\", \"listen\", \"i'm\", \"&amp;\", \"can't\", \"girl\", \"back\", \"think\", \"another\", \"live\", \"would\", \"murder\", \"trying\", \"nuclear\", \"make\", \"going\", \"severe\", \"get\", \"old\", \"??????\", \"u\", \"love\", \"fire\", \"see\", \"mh370:\", \"weapons\", \"soudelor\", \"affected\", \"malaysia\", \"memories\", \"evacuate\", \"data\", \"online\", \"sleeping\", \"oil\", \"wind\", \"responders\", \"breaking\", \"information\", \"flight\", \"sea\", \"boat\", \"insurer\", \"de\", \"honestly\", \"centre\", \"account\", \"#???\", \"national\", \"abc\", \"wtf\", \"tickets\", \"maximum\", \"risk\", \"horrible\", \"goes\", \"eyes\", \"families\", \"missing\", \"confirmed\", \"sirens\", \"video:\", \"phone\", \"feel\", \"a...\", \"day\", \"feeling\", \"part\", \"screaming\", \"take\", \"new\", \"disaster\", \"many\", \"like\", \"via\", \"man\"], \"Freq\": [33.0, 29.0, 13.0, 27.0, 13.0, 10.0, 12.0, 25.0, 8.0, 19.0, 13.0, 9.0, 9.0, 17.0, 16.0, 8.0, 8.0, 8.0, 17.0, 12.0, 5.0, 21.0, 9.0, 8.0, 16.0, 7.0, 4.0, 9.0, 9.0, 15.0, 33.58333698544308, 29.825146608729558, 25.65084144510896, 15.944683002838515, 14.016190409544954, 10.894986763288259, 8.771148375411565, 8.98341142235726, 9.939342968759469, 7.214098689298414, 7.066687241237898, 6.670176669742508, 6.410705689892426, 9.185075608632049, 5.679540968508846, 5.221870974388538, 6.032852949869475, 4.809177557256411, 7.108615246989365, 4.513692512102214, 4.454164322875272, 4.678999249170609, 4.219920230043463, 4.202627941072546, 7.077950489012095, 9.419380449081581, 6.41041474077597, 3.615360577926437, 3.4810252144426532, 3.3671992058746025, 9.657640918617702, 11.754144796865484, 9.981023507899796, 9.887703017555832, 7.281257418759799, 12.221494764007582, 9.993583557450197, 17.90395097871846, 5.649756091815629, 9.585348056285927, 7.689840140517995, 12.885166963756612, 15.169622692337894, 12.200059167783747, 16.505008797525083, 10.320777899882172, 10.399348868643326, 8.946407170884283, 10.851158955723623, 10.954583373516213, 10.220864054945286, 9.162865000695808, 13.287640089681602, 12.113017032048992, 8.10098695609521, 8.053407647394657, 6.800852351436127, 6.597946779503737, 9.187445064856055, 5.195895052238696, 4.9906209862947835, 3.7803653605499004, 3.5569548778354805, 4.063695014638991, 2.9682401338990108, 2.8888503266656627, 3.3991873530728465, 2.4817801716061108, 2.4580364406597672, 2.402079105746108, 2.3432756290495886, 2.2757986190190045, 2.18931708458705, 2.1737388454530038, 2.075869194254521, 4.280219205285441, 1.9783997644120506, 1.8200559785783288, 2.520054999335959, 1.6244175080030414, 2.72679661753598, 1.5895374625291236, 3.0992871149908163, 2.0574765382012004, 7.435356278728547, 3.664071328434511, 5.074801026077475, 9.732303401741218, 2.330336765454609, 8.68125556519535, 10.272596907905037, 6.5426492330117965, 7.015338607838492, 5.568847667811367, 6.479062401183914, 4.989778391666106, 4.1451342924304555, 3.3948918509136954, 3.4747435544126852, 3.4141204460299064, 3.682593324316299, 8.971485992408843, 8.011539307255616, 7.192497457133682, 4.773667278448417, 4.656193739177211, 4.602638185558727, 3.977223232710506, 3.962683243531645, 2.8925123740261083, 2.81959241802674, 2.7226118758869373, 2.4741436174346156, 2.3021497297329065, 3.2005465020708335, 2.194304596766175, 1.992721106501305, 1.9843927798695593, 3.0712233766320716, 1.8241729459240883, 1.7102293392417376, 1.7323034668786819, 1.6417673325069182, 1.4947827970773546, 1.4604139031450956, 1.440189770658053, 1.3921705890895597, 1.3873585816469542, 1.3873018225529836, 1.3856480140586438, 2.978534129395797, 3.06378036012369, 1.808221883950634, 2.790948946743732, 1.622924740519927, 7.9462055280325945, 3.248407043618461, 8.287991445817685, 3.8681838532752777, 4.107010311594374, 2.500032790556047, 2.5514938567571774, 6.10421330059521, 7.950387037454555, 3.9937617567958306, 8.598318114288514, 5.200717431780378, 2.646856600040595, 4.255433256403442, 6.290945230484529, 3.3121897735578907, 4.120105523835801, 4.874371744123005, 3.531139131297181, 3.3002593852759, 4.509810608615677, 3.3769017278133115, 3.409726269376354, 3.2872970134671706, 3.3160561986477513, 5.315706457274104, 3.350386539410287, 2.647624925636189, 2.1706189437854673, 2.6479735796880046, 2.1109876721426852, 4.209525286006766, 2.107420977764714, 1.3925288544649206, 1.8174704852371146, 1.9768332731456955, 1.3236312785228108, 1.2752996439330297, 1.262765317432985, 1.2431556603910452, 1.2022626392363096, 1.1757525120215564, 1.164484723175212, 1.1475647919499676, 1.1417325319621314, 1.103216011797384, 1.3270736277494355, 1.245838376554601, 2.712282575731393, 0.9677732842684551, 1.4376362771861078, 0.9532573593025836, 1.0821852237732617, 0.8974219672186872, 0.8481732871377229, 1.1515312651325451, 1.701008145997078, 3.7168859490494537, 1.9374356700580464, 1.4777325598312634, 2.3891718523403234, 2.299963501658545, 1.9090229553590512, 2.5516597264790777, 1.8374409870319826, 2.0329766328164447, 4.403541208513799, 2.7517606374463837, 1.7763309833442622, 3.86420721955046, 1.6848257521891363, 3.294341924418548, 2.5368498532326322, 2.6915422311612742, 2.1262380868505812, 1.9015829704701304, 3.029459018204691, 2.993619271236707, 2.170454369320449, 2.0216071278076937, 2.0548491887523808, 2.368661109644497, 2.093003847997183, 1.9724680680859927, 0.9725327697055567, 1.9327335826404364, 0.7592382577203652, 0.7271708868123937, 0.7224530881816514, 2.084106453308926, 0.6794214933255699, 0.6806591522776138, 0.5486504160578819, 0.5485411738034264, 0.548445384363667, 0.9663421353253905, 0.49224811816727865, 0.49013665615766455, 0.64952821425349, 0.4817981156879382, 0.4716132551383779, 0.48133050664734667, 0.5892261298525135, 0.4626938590240795, 0.4462624831717691, 0.5272260212821996, 1.0108505252877296, 0.4337374627627605, 0.42811144166561, 0.512042202774017, 0.41089831780211145, 1.5834799761401281, 1.1566888450004642, 1.553695354417517, 0.6276615413224134, 0.593263189064017, 0.7856787526700518, 0.7157696038610791, 1.0739130012848161, 0.6248877868969899, 1.0167713834909127, 0.6792421074653912, 0.9295193968894483, 2.440691888811316, 2.3624836131301876, 4.170871794702409, 1.7606124223683002, 1.072502390427448, 1.1303685705219082, 1.4899463799367063, 1.1154557429933738, 0.9675411005629236, 2.742417555851336, 2.498287932787262, 2.605709962923896, 1.7047108031463878, 2.165789064611576, 0.9688499379525906, 1.7247287713849921, 1.1091879911403342, 1.4568206909441783, 1.2755055441627925, 1.4163970074534202, 1.1195586265122366, 1.1622720780481965, 1.1939355045737539, 1.0880773304010267, 1.0860936926273714, 5.116340904428504, 4.697924549922753, 3.7262800133875618, 3.68361590392245, 1.6891733976169976, 1.6570212746443367, 2.044974743204529, 1.0795064009115465, 2.2555247117329222, 1.0222757226770236, 0.9907576477585341, 0.9261853131745738, 0.8044286743881178, 0.7963051302893829, 0.7616386540337226, 0.706340856238756, 0.6992851730868201, 0.6560210321782388, 0.6408262570447371, 0.6285730874195404, 0.5989442150732328, 0.5915266167527429, 0.5974182757519316, 1.6188308213153773, 0.5857567345237034, 1.540881465806799, 0.6810713675834019, 0.5654964501766929, 3.001405541581494, 0.5267846035399694, 0.8851318924730146, 7.65269956434632, 1.3921069205237584, 3.3099407841302897, 1.7242909422190629, 0.7189947208674288, 3.2075648958450396, 1.8747692838183312, 0.9579231255122622, 2.7892734636348666, 1.8545032925894727, 2.401918543627585, 1.2561368206652466, 1.893655737466533, 1.3959760965447643, 1.3708889135560136, 1.2319515946249957, 1.3565612249748362, 1.171994285077147, 1.2133467104386961, 1.114640122501528, 4.569391239180494, 4.087315440281452, 2.7263172338302475, 2.66271119851128, 3.330460447353569, 3.460066024900952, 2.103265711105618, 1.635370874528014, 1.506619235115504, 1.3976158249028987, 1.324134372016184, 1.2530752710501025, 1.1363549666768626, 1.037633320264341, 1.0088292851696539, 0.8096350732077062, 0.7964587439861198, 0.7741860820783343, 1.1089904863460045, 0.7032471237289345, 0.6427392762468774, 0.75238033194039, 0.5944733054277888, 2.670366358956387, 0.6279044487419817, 0.5680360888677143, 0.48805844292456213, 0.8443830676633809, 0.48590998382041767, 0.6286397269476641, 1.769330700866665, 2.963954477194727, 8.32431150757711, 1.8596765108536852, 1.183832057890979, 1.4782082469956601, 1.0548204539384092, 1.843338732462246, 1.3022396606287896, 1.649603236682467, 3.1705958240538252, 1.750801420503923, 1.4266622120074517, 1.5736279932960149, 3.0847793098418395, 2.0385748877024463, 2.7115654817547625, 2.535126389224134, 1.8866387785052112, 1.7422334637235488, 1.4795662090175694, 1.5881667775319073, 1.40507724751587, 3.784180589780812, 2.067951320610755, 2.021408578428399, 1.8715352874509905, 1.2064277749968053, 1.5432146338375217, 1.0648079018859187, 1.2610714434277983, 0.9263252045932971, 1.1421320251563452, 0.8771599121057146, 0.8589128567663313, 0.8502771764705329, 0.8014425670435374, 0.7836003288747913, 0.7417300574649558, 0.7404648802498647, 0.7193808697730373, 2.553420112815493, 0.6372331320051152, 0.6359901051635117, 0.6326465669407254, 0.7245026831119887, 0.6158354219183668, 0.5808530180679307, 0.8927748021704468, 0.5516855590205325, 0.5148151166412934, 0.5076680043455372, 0.5116349430391993, 1.0418265973489729, 1.0958610181846453, 1.3152429000426544, 1.2599614985461758, 1.4176346863556544, 1.4311534232262793, 1.3461100969793283, 2.0268472364607284, 0.8645253031245234, 3.134382984155589, 2.3184839960737023, 3.1847230102440016, 2.428334931891124, 1.5208922692145121, 2.8738608047580376, 1.911007522584642, 1.861420878773393, 2.450424919776449, 1.4602220817233742, 1.577496942110503, 1.15386642139271, 1.4882476508271827, 1.1662192308961834, 1.167763017575772, 3.779885910870378, 3.892137336603052, 3.3753752615195105, 1.3769343900637492, 0.9886636391167808, 0.9759744381528278, 1.444707026736426, 0.8519065242551266, 0.7840141052347389, 0.7642035606428133, 0.6159173723491801, 0.6001561540399968, 0.5739802964145962, 2.7299022463520553, 0.5536300573137797, 2.700249241062854, 0.5504938355518656, 0.5241948258577945, 0.5184146761013589, 0.5080422706211687, 0.527957321492455, 0.49549661977009507, 0.4842412126096491, 0.4999040350668118, 0.7216278102623517, 0.45103584748482844, 0.44489325054197726, 0.44357739697205656, 0.49460499160418264, 0.8217093314957548, 0.7102835772574104, 0.5772513519445074, 0.5962028423397968, 0.6144319993501847, 1.9082244554444825, 2.629576397884274, 0.7802038943512903, 1.0104415615937643, 0.6944816527190351, 2.454773426063354, 0.8506606260923273, 1.8002947193073129, 8.548479941174204, 1.0472191454430595, 0.6819661047085338, 4.964718619454185, 4.235361478043522, 2.3758940992485815, 1.1883893367326426, 2.460194453424721, 1.7651234589746565, 1.3627797648488815, 1.3871959541891745, 2.0215953474095514, 1.0287163221611388, 1.0007051347826843, 1.8213972598447652, 1.446941645958387, 1.473695612911618, 1.2444500813788784, 1.6144309754085733, 1.2011700143882458, 1.1657367245537704, 1.1428052791978938, 1.1758420234858955, 1.1974821019108246, 1.1858096580844175, 4.201013255133741, 3.9962413434563744, 2.2663809938029678, 2.2390596474112905, 3.799057995847623, 1.511836034199189, 1.4897173376108888, 1.5429922739318167, 1.7099759038666011, 1.179527009452168, 3.1746074037596372, 1.996423622259468, 0.8677466408207704, 1.586263621159261, 1.0237659367463035, 0.914509033003058, 0.7998284533185147, 1.9787512348123422, 0.8306775925066655, 0.7241175221141369, 0.7192743542529637, 0.626048853654817, 0.5977505897031342, 1.168967081396893, 1.4581979321670917, 0.8972487784399334, 0.5372188082165185, 0.5325834139097932, 0.5221158945467343, 0.7093300199310079, 2.0838019033333253, 1.8766339245640582, 0.9524355010058534, 6.181881129684759, 2.116311613692636, 1.2635031951144917, 2.472992453914397, 1.5786856591574232, 1.5212296450608256, 2.1478225734222196, 2.1089156837865004, 2.9558986260620537, 1.3493196479950653, 1.6475618961347398, 1.513773696674962, 1.831031739909808, 3.0382698564797916, 2.4239440584690524, 1.8237249392430293, 2.523840145879255, 1.7016960491048294, 1.5447682099652085], \"Total\": [33.0, 29.0, 13.0, 27.0, 13.0, 10.0, 12.0, 25.0, 8.0, 19.0, 13.0, 9.0, 9.0, 17.0, 16.0, 8.0, 8.0, 8.0, 17.0, 12.0, 5.0, 21.0, 9.0, 8.0, 16.0, 7.0, 4.0, 9.0, 9.0, 15.0, 33.65297216318216, 29.893577549423558, 25.721215839869696, 16.01323869659803, 14.084591138756005, 10.963386641774376, 8.839596971879596, 9.054015719412616, 10.017543940664828, 7.282495474679446, 7.135082856159595, 6.740041703719318, 6.479102258426371, 9.291803929110289, 5.753322700180127, 5.29045613718303, 6.115290821683733, 4.877574432936115, 7.210489835290348, 4.582119250023488, 4.522558738793464, 4.751136680613291, 4.288321288285629, 4.27102507311928, 7.201666423296429, 9.586806848366413, 6.5244500641809235, 3.68375976345986, 3.549559225525671, 3.4355920054777007, 9.909949361105069, 12.094230722797818, 10.261566446414163, 10.207819754609861, 7.4743972466360225, 12.68023190171783, 10.339551482308805, 19.555074804813344, 5.796960017365714, 10.32871150729828, 8.13543722477174, 14.754777866246572, 17.97893019745692, 14.089650984818924, 20.441521324909715, 11.613853001729563, 12.138626688931183, 10.324518498580185, 14.34932379302283, 17.15827046403064, 15.654676840929435, 16.91311372235894, 13.386637310790187, 12.211797173485646, 8.199970249034259, 8.152201846246998, 6.899776986881482, 6.696756513241818, 9.359598378001772, 5.297986497855605, 5.089413638039585, 3.8791525165161547, 3.6560050046716825, 4.189466901612426, 3.067045282713791, 2.9876256162889314, 3.527927878545374, 2.5805853655155637, 2.556826296416755, 2.500880541258694, 2.4420704581760106, 2.3745887761743942, 2.288738183949874, 2.2761170498501726, 2.1746543758633616, 4.49191822883367, 2.0771775624195907, 1.920819634582952, 2.672209087089331, 1.7232411739763394, 2.8945882849094624, 1.6890075260466721, 3.29454794816244, 2.191726068960101, 8.70040742924419, 4.075066626048402, 5.869510260446099, 13.96867698846249, 2.5086421973205413, 16.679035408790757, 21.82277328276412, 12.614635877527597, 16.80923421569463, 11.556931061583832, 19.613104392637407, 12.062831677341567, 9.37587836892643, 5.813116710732336, 6.691292421019105, 6.300743594362902, 17.50459131989447, 9.071689883268947, 8.111228991905975, 7.292707235498558, 4.873127266264072, 4.75560982901358, 4.702083558662166, 4.076624636183806, 4.06234010189918, 2.9919240230548945, 2.9191159538908513, 2.822039691838679, 2.5735469775559716, 2.4015454787429253, 3.340444965888197, 2.302673716476635, 2.0921666870502036, 2.083805708333197, 3.227376043912268, 1.9235732892199477, 1.8096334535067486, 1.8354942497133744, 1.7411610473022165, 1.5941820120128012, 1.559809952694566, 1.539585701284949, 1.4915881730443965, 1.4867579494344942, 1.4867013611643758, 1.4851119084888817, 3.1943474798790215, 3.3085888725806694, 1.951062986996371, 3.0745722420670876, 1.7499670755024743, 9.3116992196321, 3.6522963798059793, 9.906495721166088, 4.4506638867273365, 5.027563653364447, 2.9219090645886476, 3.0041800378113126, 9.406360844327578, 14.385538696244858, 5.639131171009202, 16.80923421569463, 8.788597421838517, 3.1975871407569767, 7.397504618107034, 16.155079863573054, 5.346062394491499, 9.37587836892643, 16.91311372235894, 7.479646833528159, 5.960097401094017, 27.216824828115605, 9.390656696624438, 16.679035408790757, 13.937149781132138, 19.613104392637407, 5.418542955335765, 3.453249433568143, 2.7505632802038353, 2.273474347402722, 2.773950702337952, 2.2138325263839276, 4.424816099680449, 2.2329869403886513, 1.495356481272876, 1.9525797666881286, 2.127954532370383, 1.4264498674260768, 1.3781219812572862, 1.3655793701107939, 1.3460398471433055, 1.3050794284957739, 1.2785723105319082, 1.2673100490258815, 1.2504173493631914, 1.244560905467198, 1.2060392248499847, 1.4541000563626152, 1.3659268204723, 2.9815670326000894, 1.070679034374452, 1.5914192114878891, 1.0561183530174816, 1.204920600284711, 1.0002595270802972, 0.9510203288256235, 1.291462552582673, 1.9228881899714572, 4.276571196037856, 2.2337182390259622, 1.676063393203743, 2.8306208693260895, 2.7353181141310197, 2.274363857209848, 3.331566566621361, 2.2815479083582977, 2.6348502825254445, 7.669380296124622, 4.354934297329893, 2.3036827149541352, 8.572644618440977, 2.3718608394289404, 9.394040472755522, 5.559781465997533, 6.7384004006231155, 4.115798994238228, 3.258737194808399, 11.634772414938624, 17.42244554925049, 6.992416609125981, 4.953749826149757, 14.389825654325467, 2.475741206852097, 2.200101737678626, 2.0801593095184105, 1.0795990061809366, 2.1755514749123868, 0.8664197812087456, 0.834244664494011, 0.8295720082077876, 2.4115863483203284, 0.7864966686779141, 0.8122408564433405, 0.6557159738312299, 0.6556166775752699, 0.6555198295074125, 1.1739309394455513, 0.5993319042525919, 0.5972069607917193, 0.7917398692517276, 0.5888633630170121, 0.5787495741009866, 0.5916075534532601, 0.7244005731516922, 0.5698699671882088, 0.5533834822961616, 0.6554176627051426, 1.2594804658623933, 0.5408364956174779, 0.535176623645352, 0.6447050359017672, 0.517996842485662, 1.998934710602286, 1.4661243156407062, 1.9905431851010806, 0.7918277551953262, 0.7482084279767058, 1.0290155993069645, 0.9461025088574179, 1.5587213109865403, 0.8104393602037601, 1.4922150500331803, 0.9054273017676883, 1.4030680355913587, 5.960097401094017, 5.8855922219652905, 14.389825654325467, 4.020427215656206, 1.8854924783120743, 2.2424477176198545, 3.772281386310678, 2.3829713478089385, 1.8259661103859357, 17.386861061272317, 14.63298771692429, 17.50459131989447, 7.752144574980083, 17.42244554925049, 1.9447254071532187, 13.96867698846249, 3.1457500407900336, 9.972160806853402, 6.228631583245898, 11.634772414938624, 3.4016866328825253, 6.076804340018082, 12.3099069857307, 3.877562303836876, 4.179175454286674, 5.222709503594717, 4.804341275747725, 3.8326665071457966, 3.789999917969442, 1.7958132376224138, 1.7633331535535062, 2.209030512521759, 1.1857964849220253, 2.482158469799711, 1.1285996534898175, 1.1009944804832117, 1.0324698516928708, 0.910726933021703, 0.9026014035398638, 0.8679365216010303, 0.8126321759587769, 0.8055742801576522, 0.7622998610556839, 0.7471505693192906, 0.7349077864428772, 0.705227401154957, 0.6978135607351027, 0.7048619790137904, 1.9117568236319344, 0.6920468707511184, 1.8348405123304241, 0.8129836361960182, 0.6763587101480555, 3.5931033228657574, 0.6330832346932304, 1.0916855528527967, 10.893256426366346, 1.9775478210420931, 5.753534163082445, 2.650110374584443, 0.902290080589392, 6.86028571782063, 5.087525746443358, 1.6134142789971497, 17.42244554925049, 7.246915764908571, 13.714775744491268, 3.753853119896277, 14.63298771692429, 9.394040472755522, 10.046416262848851, 7.413473421138974, 27.216824828115605, 8.70040742924419, 17.386861061272317, 17.52186705887204, 4.681748327493022, 4.194102949343083, 2.8330569262563094, 2.7705658019284147, 3.466625510849943, 3.6278574514512685, 2.2125545564480973, 1.7424186070030427, 1.613338983969962, 1.5043292539417812, 1.4353427673462127, 1.359808898332557, 1.24567456114166, 1.1443631979972297, 1.115571704105944, 0.9163550560836327, 0.903179960890761, 0.8809265567469302, 1.2704046417682384, 0.8189902661895452, 0.7495649004738645, 0.8860227957104699, 0.7011946141789235, 3.154558345178881, 0.7432151104226946, 0.6747583586446615, 0.5947869635655239, 1.0297535104147166, 0.5926345275583159, 0.7700132520411241, 2.2550482495062107, 4.310759100839734, 13.714775744491268, 2.715343092895699, 1.650572912406861, 2.189370229275295, 1.542617387342083, 3.521937103721043, 2.1302691602404744, 3.1141596109040615, 9.390656696624438, 3.7292800659030974, 2.6620909513236706, 3.259859874556256, 12.062831677341567, 6.0715044110548195, 12.3099069857307, 17.52186705887204, 13.937149781132138, 17.50459131989447, 6.691292421019105, 19.555074804813344, 7.397504618107034, 3.8935960731058423, 2.174647182722437, 2.12757857409049, 1.9779337304837288, 1.3125601428756406, 1.687634649732821, 1.1725399690397518, 1.3925055849216987, 1.0324558127190027, 1.2750334790099178, 0.9833842832067505, 0.9654007812347516, 0.9563922806724678, 0.9077139689187773, 0.8897229053481152, 0.8478499504591714, 0.8488727987121132, 0.8255023912275296, 2.9349723710383904, 0.7434886523324743, 0.7422113452353954, 0.7387714399202596, 0.8461441760726154, 0.7219583856299148, 0.6870010646474644, 1.0592508577497612, 0.6578308184959943, 0.6209338354746617, 0.613783317408382, 0.6187004154983743, 1.2837241950043956, 1.3636248600439094, 1.694218072377406, 1.6686829620655148, 2.0365274440266967, 2.369389727821658, 2.1741031793320538, 4.115186225504584, 1.1664698053667573, 8.460946880635708, 5.813116710732336, 9.972160806853402, 7.413473421138974, 3.308400903779637, 13.714775744491268, 6.0715044110548195, 6.034910461529357, 15.654676840929435, 4.419686737001269, 6.559930702854186, 2.4743875358765037, 12.614635877527597, 5.559781465997533, 27.216824828115605, 3.8879678671748708, 4.013054288844557, 3.483200500342273, 1.4847902546909373, 1.0964877819223116, 1.0837733340388307, 1.6048913216888363, 0.9642292594770627, 0.8920120567392278, 0.8720035924293369, 0.7256782859289996, 0.7079727945612205, 0.6817716395626369, 3.2599919773623007, 0.6614277594665666, 3.2279961109238418, 0.6582989379294624, 0.6321849720233704, 0.6279598247481205, 0.6162195763877273, 0.6426903111443838, 0.6032904896770093, 0.5920364816791722, 0.6117874047273415, 0.8929061964467934, 0.5589096376736467, 0.5528028788673214, 0.5513684459958431, 0.615671221733899, 1.0231348753896823, 0.8976445096995114, 0.7251261933756956, 0.753611276203122, 0.7800588172570316, 2.785553110892563, 4.003163847892051, 1.0415140915502747, 1.4646594407168942, 0.9153180195676767, 4.60088865029909, 1.1955984990001929, 3.209106994528724, 27.216824828115605, 1.6257135887091427, 0.9017040689989214, 17.386861061272317, 17.42244554925049, 7.176903427418814, 2.3397048078819163, 8.89249146882716, 5.506680428089357, 3.6104838479006593, 3.8410624295883347, 9.134581634726194, 2.0270102685223543, 1.9260043032411844, 11.556931061583832, 6.300743594362902, 7.305368969592949, 4.310759100839734, 14.389825654325467, 7.397504618107034, 6.703485530429036, 5.559781465997533, 9.406360844327578, 16.155079863573054, 17.15827046403064, 4.307208114216297, 4.142070991306492, 2.372640458487658, 2.345266895993835, 3.980051771857387, 1.618044997841102, 1.5959565525635715, 1.6556015950365308, 1.8530581805983657, 1.2857864196960558, 3.5238598308344278, 2.237242412639959, 0.9740042563302612, 1.783861623291208, 1.1515566386223934, 1.0322064486667926, 0.9060470263711583, 2.2507632756078313, 0.9455674403311157, 0.8303102396763031, 0.8254865373510528, 0.7322530442620472, 0.7039471427446996, 1.3770017392592209, 1.7385916580581282, 1.0736937008614367, 0.6434201252393179, 0.6387866136279831, 0.6283268690583829, 0.8599191133598738, 2.531127100470989, 2.293685972030989, 1.172746755778793, 8.641146977452715, 2.927244555517225, 1.6623705665836332, 3.755130643761146, 2.2685183373288633, 2.1849846827917134, 3.814324853117141, 3.7413377403904935, 6.596975207670911, 2.1263617061864695, 3.17805520129688, 2.724656488885664, 4.30339228991393, 17.52186705887204, 13.96867698846249, 5.7383083427716555, 27.216824828115605, 19.613104392637407, 6.368675834100269], \"Category\": [\"Default\", \"Default\", \"Default\", \"Default\", \"Default\", \"Default\", \"Default\", \"Default\", \"Default\", \"Default\", \"Default\", \"Default\", \"Default\", \"Default\", \"Default\", \"Default\", \"Default\", \"Default\", \"Default\", \"Default\", \"Default\", \"Default\", \"Default\", \"Default\", \"Default\", \"Default\", \"Default\", \"Default\", \"Default\", \"Default\", \"Topic1\", \"Topic1\", \"Topic1\", \"Topic1\", \"Topic1\", \"Topic1\", \"Topic1\", \"Topic1\", \"Topic1\", \"Topic1\", \"Topic1\", \"Topic1\", \"Topic1\", \"Topic1\", \"Topic1\", \"Topic1\", \"Topic1\", \"Topic1\", \"Topic1\", \"Topic1\", \"Topic1\", \"Topic1\", \"Topic1\", \"Topic1\", \"Topic1\", \"Topic1\", \"Topic1\", \"Topic1\", \"Topic1\", \"Topic1\", \"Topic1\", \"Topic1\", \"Topic1\", \"Topic1\", \"Topic1\", \"Topic1\", \"Topic1\", \"Topic1\", \"Topic1\", \"Topic1\", \"Topic1\", \"Topic1\", \"Topic1\", \"Topic1\", \"Topic1\", \"Topic1\", \"Topic1\", \"Topic1\", \"Topic1\", \"Topic1\", \"Topic1\", \"Topic1\", \"Topic2\", \"Topic2\", \"Topic2\", \"Topic2\", \"Topic2\", \"Topic2\", \"Topic2\", \"Topic2\", \"Topic2\", \"Topic2\", \"Topic2\", \"Topic2\", \"Topic2\", \"Topic2\", \"Topic2\", \"Topic2\", \"Topic2\", \"Topic2\", \"Topic2\", \"Topic2\", \"Topic2\", \"Topic2\", \"Topic2\", \"Topic2\", \"Topic2\", \"Topic2\", \"Topic2\", \"Topic2\", \"Topic2\", \"Topic2\", \"Topic2\", \"Topic2\", \"Topic2\", \"Topic2\", \"Topic2\", \"Topic2\", \"Topic2\", \"Topic2\", \"Topic2\", \"Topic2\", \"Topic2\", \"Topic2\", \"Topic2\", \"Topic2\", \"Topic2\", \"Topic2\", \"Topic2\", \"Topic2\", \"Topic2\", \"Topic3\", \"Topic3\", \"Topic3\", \"Topic3\", \"Topic3\", \"Topic3\", \"Topic3\", \"Topic3\", \"Topic3\", \"Topic3\", \"Topic3\", \"Topic3\", \"Topic3\", \"Topic3\", \"Topic3\", \"Topic3\", \"Topic3\", \"Topic3\", \"Topic3\", \"Topic3\", \"Topic3\", \"Topic3\", \"Topic3\", \"Topic3\", \"Topic3\", \"Topic3\", \"Topic3\", \"Topic3\", \"Topic3\", \"Topic3\", \"Topic3\", \"Topic3\", \"Topic3\", \"Topic3\", \"Topic3\", \"Topic3\", \"Topic3\", \"Topic3\", \"Topic3\", \"Topic3\", \"Topic3\", \"Topic3\", \"Topic3\", \"Topic3\", \"Topic3\", \"Topic3\", \"Topic3\", \"Topic3\", \"Topic3\", \"Topic3\", \"Topic3\", \"Topic3\", \"Topic3\", \"Topic3\", \"Topic3\", \"Topic3\", \"Topic3\", \"Topic3\", \"Topic3\", \"Topic4\", \"Topic4\", \"Topic4\", \"Topic4\", \"Topic4\", \"Topic4\", \"Topic4\", \"Topic4\", \"Topic4\", \"Topic4\", \"Topic4\", \"Topic4\", \"Topic4\", \"Topic4\", \"Topic4\", \"Topic4\", \"Topic4\", \"Topic4\", \"Topic4\", \"Topic4\", \"Topic4\", \"Topic4\", \"Topic4\", \"Topic4\", \"Topic4\", \"Topic4\", \"Topic4\", \"Topic4\", \"Topic4\", \"Topic4\", \"Topic4\", \"Topic4\", \"Topic4\", \"Topic4\", \"Topic4\", \"Topic4\", \"Topic4\", \"Topic4\", \"Topic4\", \"Topic4\", \"Topic4\", \"Topic4\", \"Topic4\", \"Topic4\", \"Topic4\", \"Topic4\", \"Topic4\", \"Topic4\", \"Topic4\", \"Topic4\", \"Topic4\", \"Topic4\", \"Topic4\", \"Topic4\", \"Topic4\", \"Topic4\", \"Topic5\", \"Topic5\", \"Topic5\", \"Topic5\", \"Topic5\", \"Topic5\", \"Topic5\", \"Topic5\", \"Topic5\", \"Topic5\", \"Topic5\", \"Topic5\", \"Topic5\", \"Topic5\", \"Topic5\", \"Topic5\", \"Topic5\", \"Topic5\", \"Topic5\", \"Topic5\", \"Topic5\", \"Topic5\", \"Topic5\", \"Topic5\", \"Topic5\", \"Topic5\", \"Topic5\", \"Topic5\", \"Topic5\", \"Topic5\", \"Topic5\", \"Topic5\", \"Topic5\", \"Topic5\", \"Topic5\", \"Topic5\", \"Topic5\", \"Topic5\", \"Topic5\", \"Topic5\", \"Topic5\", \"Topic5\", \"Topic5\", \"Topic5\", \"Topic5\", \"Topic5\", \"Topic5\", \"Topic5\", \"Topic5\", \"Topic5\", \"Topic5\", \"Topic5\", \"Topic5\", \"Topic5\", \"Topic5\", \"Topic5\", \"Topic5\", \"Topic5\", \"Topic5\", \"Topic5\", \"Topic5\", \"Topic5\", \"Topic5\", \"Topic5\", \"Topic5\", \"Topic5\", \"Topic5\", \"Topic6\", \"Topic6\", \"Topic6\", \"Topic6\", \"Topic6\", \"Topic6\", \"Topic6\", \"Topic6\", \"Topic6\", \"Topic6\", \"Topic6\", \"Topic6\", \"Topic6\", \"Topic6\", \"Topic6\", \"Topic6\", \"Topic6\", \"Topic6\", \"Topic6\", \"Topic6\", \"Topic6\", \"Topic6\", \"Topic6\", \"Topic6\", \"Topic6\", \"Topic6\", \"Topic6\", \"Topic6\", \"Topic6\", \"Topic6\", \"Topic6\", \"Topic6\", \"Topic6\", \"Topic6\", \"Topic6\", \"Topic6\", \"Topic6\", \"Topic6\", \"Topic6\", \"Topic6\", \"Topic6\", \"Topic6\", \"Topic6\", \"Topic6\", \"Topic6\", \"Topic6\", \"Topic6\", \"Topic6\", \"Topic6\", \"Topic6\", \"Topic6\", \"Topic7\", \"Topic7\", \"Topic7\", \"Topic7\", \"Topic7\", \"Topic7\", \"Topic7\", \"Topic7\", \"Topic7\", \"Topic7\", \"Topic7\", \"Topic7\", \"Topic7\", \"Topic7\", \"Topic7\", \"Topic7\", \"Topic7\", \"Topic7\", \"Topic7\", \"Topic7\", \"Topic7\", \"Topic7\", \"Topic7\", \"Topic7\", \"Topic7\", \"Topic7\", \"Topic7\", \"Topic7\", \"Topic7\", \"Topic7\", \"Topic7\", \"Topic7\", \"Topic7\", \"Topic7\", \"Topic7\", \"Topic7\", \"Topic7\", \"Topic7\", \"Topic7\", \"Topic7\", \"Topic7\", \"Topic7\", \"Topic7\", \"Topic7\", \"Topic7\", \"Topic7\", \"Topic7\", \"Topic7\", \"Topic7\", \"Topic7\", \"Topic7\", \"Topic7\", \"Topic7\", \"Topic8\", \"Topic8\", \"Topic8\", \"Topic8\", \"Topic8\", \"Topic8\", \"Topic8\", \"Topic8\", \"Topic8\", \"Topic8\", \"Topic8\", \"Topic8\", \"Topic8\", \"Topic8\", \"Topic8\", \"Topic8\", \"Topic8\", \"Topic8\", \"Topic8\", \"Topic8\", \"Topic8\", \"Topic8\", \"Topic8\", \"Topic8\", \"Topic8\", \"Topic8\", \"Topic8\", \"Topic8\", \"Topic8\", \"Topic8\", \"Topic8\", \"Topic8\", \"Topic8\", \"Topic8\", \"Topic8\", \"Topic8\", \"Topic8\", \"Topic8\", \"Topic8\", \"Topic8\", \"Topic8\", \"Topic8\", \"Topic8\", \"Topic8\", \"Topic8\", \"Topic8\", \"Topic8\", \"Topic8\", \"Topic8\", \"Topic8\", \"Topic8\", \"Topic8\", \"Topic8\", \"Topic8\", \"Topic9\", \"Topic9\", \"Topic9\", \"Topic9\", \"Topic9\", \"Topic9\", \"Topic9\", \"Topic9\", \"Topic9\", \"Topic9\", \"Topic9\", \"Topic9\", \"Topic9\", \"Topic9\", \"Topic9\", \"Topic9\", \"Topic9\", \"Topic9\", \"Topic9\", \"Topic9\", \"Topic9\", \"Topic9\", \"Topic9\", \"Topic9\", \"Topic9\", \"Topic9\", \"Topic9\", \"Topic9\", \"Topic9\", \"Topic9\", \"Topic9\", \"Topic9\", \"Topic9\", \"Topic9\", \"Topic9\", \"Topic9\", \"Topic9\", \"Topic9\", \"Topic9\", \"Topic9\", \"Topic9\", \"Topic9\", \"Topic9\", \"Topic9\", \"Topic9\", \"Topic9\", \"Topic9\", \"Topic9\", \"Topic9\", \"Topic9\", \"Topic9\", \"Topic9\", \"Topic9\", \"Topic9\", \"Topic9\", \"Topic9\", \"Topic9\", \"Topic9\", \"Topic9\", \"Topic9\", \"Topic9\", \"Topic9\", \"Topic9\", \"Topic9\", \"Topic9\", \"Topic9\", \"Topic9\", \"Topic10\", \"Topic10\", \"Topic10\", \"Topic10\", \"Topic10\", \"Topic10\", \"Topic10\", \"Topic10\", \"Topic10\", \"Topic10\", \"Topic10\", \"Topic10\", \"Topic10\", \"Topic10\", \"Topic10\", \"Topic10\", \"Topic10\", \"Topic10\", \"Topic10\", \"Topic10\", \"Topic10\", \"Topic10\", \"Topic10\", \"Topic10\", \"Topic10\", \"Topic10\", \"Topic10\", \"Topic10\", \"Topic10\", \"Topic10\", \"Topic10\", \"Topic10\", \"Topic10\", \"Topic10\", \"Topic10\", \"Topic10\", \"Topic10\", \"Topic10\", \"Topic10\", \"Topic10\", \"Topic10\", \"Topic10\", \"Topic10\", \"Topic10\", \"Topic10\", \"Topic10\", \"Topic10\", \"Topic10\", \"Topic10\", \"Topic10\", \"Topic10\", \"Topic10\"], \"logprob\": [30.0, 29.0, 28.0, 27.0, 26.0, 25.0, 24.0, 23.0, 22.0, 21.0, 20.0, 19.0, 18.0, 17.0, 16.0, 15.0, 14.0, 13.0, 12.0, 11.0, 10.0, 9.0, 8.0, 7.0, 6.0, 5.0, 4.0, 3.0, 2.0, 1.0, -4.4039998054504395, -4.52269983291626, -4.673500061035156, -5.148900032043457, -5.2778000831604, -5.529699802398682, -5.746600151062012, -5.722700119018555, -5.621500015258789, -5.941999912261963, -5.962699890136719, -6.020400047302246, -6.060100078582764, -5.700500011444092, -6.18120002746582, -6.265200138092041, -6.120800018310547, -6.347499847412109, -5.956699848175049, -6.410900115966797, -6.424200057983398, -6.375, -6.4781999588012695, -6.4822998046875, -5.961100101470947, -5.675300121307373, -6.060100078582764, -6.632900238037109, -6.6707000732421875, -6.703999996185303, -5.650300025939941, -5.453800201416016, -5.617400169372559, -5.626800060272217, -5.932700157165527, -5.414899826049805, -5.616099834442139, -5.0329999923706055, -6.186399936676025, -5.657800197601318, -5.878200054168701, -5.361999988555908, -5.198800086975098, -5.416600227355957, -5.1143999099731445, -5.583899974822998, -5.576300144195557, -5.726799964904785, -5.53380012512207, -5.5243000984191895, -5.593599796295166, -5.702899932861328, -4.272600173950195, -4.365200042724609, -4.767499923706055, -4.773399829864502, -4.942399978637695, -4.972700119018555, -4.641600131988525, -5.211599826812744, -5.2519001960754395, -5.529600143432617, -5.59060001373291, -5.457399845123291, -5.771500110626221, -5.798600196838379, -5.635900020599365, -5.950500011444092, -5.960100173950195, -5.983099937438965, -6.007900238037109, -6.037099838256836, -6.075900077819824, -6.083000183105469, -6.1290998458862305, -5.4054999351501465, -6.177199840545654, -6.2606000900268555, -5.935200214385986, -6.374300003051758, -5.856299877166748, -6.395999908447266, -5.728300094604492, -6.138000011444092, -4.8531999588012695, -5.5609002113342285, -5.235199928283691, -4.584000110626221, -6.013400077819824, -4.698299884796143, -4.53000020980835, -4.981100082397461, -4.911399841308594, -5.142300128936768, -4.990900039672852, -5.252099990844727, -5.4375, -5.637199878692627, -5.613900184631348, -5.631499767303467, -5.555799961090088, -4.655099868774414, -4.768199920654297, -4.876100063323975, -5.285999774932861, -5.3109002113342285, -5.322500228881836, -5.468500137329102, -5.4721999168396, -5.7870001792907715, -5.8125, -5.847499847412109, -5.94320011138916, -6.0152997970581055, -5.685800075531006, -6.063300132751465, -6.159599781036377, -6.16379976272583, -5.7270002365112305, -6.248000144958496, -6.3125, -6.299699783325195, -6.353300094604492, -6.4471001625061035, -6.470399856567383, -6.484300136566162, -6.5183000564575195, -6.521699905395508, -6.5218000411987305, -6.5229997634887695, -5.757699966430664, -5.729499816894531, -6.256800174713135, -5.822700023651123, -6.3649001121521, -4.776400089263916, -5.671000003814697, -4.734300136566162, -5.496300220489502, -5.436399936676025, -5.932799816131592, -5.912399768829346, -5.04010009765625, -4.775899887084961, -5.464399814605713, -4.6975998878479, -5.200300216674805, -5.875699996948242, -5.400899887084961, -5.010000228881836, -5.651500225067139, -5.433199882507324, -5.265100002288818, -5.587500095367432, -5.655099868774414, -5.342899799346924, -5.632199764251709, -5.622499942779541, -5.65910005569458, -5.650300025939941, -4.813199996948242, -5.274799823760986, -5.510200023651123, -5.708799839019775, -5.5100998878479, -5.736700057983398, -5.046500205993652, -5.738399982452393, -6.152699947357178, -5.88640022277832, -5.8024001121521, -6.203499794006348, -6.240699768066406, -6.250500202178955, -6.266200065612793, -6.299600124359131, -6.321899890899658, -6.331600189208984, -6.346199989318848, -6.35129976272583, -6.3856000900268555, -6.200900077819824, -6.263999938964844, -5.486100196838379, -6.516600131988525, -6.120800018310547, -6.531700134277344, -6.404900074005127, -6.592100143432617, -6.648499965667725, -6.342800140380859, -5.952600002288818, -5.171000003814697, -5.822500228881836, -6.093299865722656, -5.6128997802734375, -5.651000022888184, -5.837299823760986, -5.547100067138672, -5.875500202178955, -5.7743000984191895, -5.001399993896484, -5.47160005569458, -5.909299850463867, -5.1321001052856445, -5.962200164794922, -5.291600227355957, -5.5528998374938965, -5.49370002746582, -5.729499816894531, -5.84119987487793, -5.375500202178955, -5.387400150299072, -5.708899974822998, -5.78000020980835, -5.763599872589111, -5.094799995422363, -5.218500137329102, -5.2778000831604, -5.984899997711182, -5.2982001304626465, -6.232500076293945, -6.275700092315674, -6.282199859619141, -5.222799777984619, -6.343599796295166, -6.341800212860107, -6.557400226593018, -6.557600021362305, -6.557799816131592, -5.991300106048584, -6.665900230407715, -6.670199871063232, -6.388599872589111, -6.687300205230713, -6.708700180053711, -6.688300132751465, -6.486000061035156, -6.727799892425537, -6.763899803161621, -6.5971999168396, -5.946300029754639, -6.792399883270264, -6.805500030517578, -6.626399993896484, -6.846499919891357, -5.497499942779541, -5.811500072479248, -5.516499996185303, -6.422800064086914, -6.4791998863220215, -6.198299884796143, -6.291500091552734, -5.885799884796143, -6.427299976348877, -5.940499782562256, -6.343900203704834, -6.030200004577637, -5.064799785614014, -5.097400188446045, -4.5289998054504395, -5.39139986038208, -5.8871002197265625, -5.834499835968018, -5.5584001541137695, -5.847799777984619, -5.990099906921387, -4.948299884796143, -5.041500091552734, -4.9994001388549805, -5.423699855804443, -5.184299945831299, -5.988699913024902, -5.4120001792907715, -5.853499889373779, -5.5808000564575195, -5.713699817657471, -5.609000205993652, -5.844200134277344, -5.806700229644775, -5.779799938201904, -5.872700214385986, -5.874499797821045, -4.323400020599365, -4.408699989318848, -4.640399932861328, -4.651899814605713, -5.431600093841553, -5.450799942016602, -5.2403998374938965, -5.879300117492676, -5.142399787902832, -5.933800220489502, -5.965099811553955, -6.03249979019165, -6.173500061035156, -6.183599948883057, -6.228099822998047, -6.303500175476074, -6.313499927520752, -6.377399921417236, -6.4008002281188965, -6.420100212097168, -6.468400001525879, -6.480899810791016, -6.4710001945495605, -5.474100112915039, -6.490699768066406, -5.523499965667725, -6.339900016784668, -6.525899887084961, -4.856800079345703, -6.596799850463867, -6.077899932861328, -3.920799970626831, -5.625, -4.758900165557861, -5.410999774932861, -6.285699844360352, -4.790299892425537, -5.327300071716309, -5.998799800872803, -4.930099964141846, -5.338200092315674, -5.079599857330322, -5.727799892425537, -5.317299842834473, -5.622200012207031, -5.640399932861328, -5.747200012207031, -5.650899887084961, -5.797100067138672, -5.762400150299072, -5.847300052642822, -4.436299800872803, -4.547800064086914, -4.952700138092041, -4.976399898529053, -4.752600193023682, -4.714399814605713, -5.212200164794922, -5.463799953460693, -5.54580020904541, -5.6209001541137695, -5.674900054931641, -5.730100154876709, -5.827899932861328, -5.918799877166748, -5.946899890899658, -6.166900157928467, -6.183300018310547, -6.211599826812744, -5.852200031280518, -6.307700157165527, -6.39769983291626, -6.240200042724609, -6.475800037384033, -4.973499774932861, -6.42110013961792, -6.521299839019775, -6.672999858856201, -6.124800205230713, -6.6774001121521, -6.419899940490723, -5.3850998878479, -4.869200229644775, -3.8364999294281006, -5.335299968719482, -5.786900043487549, -5.564899921417236, -5.902299880981445, -5.344099998474121, -5.6915998458862305, -5.4552001953125, -4.801799774169922, -5.395599842071533, -5.600399971008301, -5.502299785614014, -4.82919979095459, -5.2434000968933105, -4.958199977874756, -5.0254998207092285, -5.320899963378906, -5.4004998207092285, -5.563899993896484, -5.493100166320801, -5.615600109100342, -4.624899864196777, -5.229100227355957, -5.2519001960754395, -5.32889986038208, -5.76800012588501, -5.5218000411987305, -5.892899990081787, -5.723700046539307, -6.032199859619141, -5.822800159454346, -6.0868000984191895, -6.107800006866455, -6.1178998947143555, -6.177000045776367, -6.19950008392334, -6.254499912261963, -6.256199836730957, -6.285099983215332, -5.0183000564575195, -6.406300067901611, -6.408299922943115, -6.41349983215332, -6.2779998779296875, -6.440499782562256, -6.498899936676025, -6.0690999031066895, -6.55049991607666, -6.61959981918335, -6.633600234985352, -6.625800132751465, -5.914700031280518, -5.864200115203857, -5.681700229644775, -5.724599838256836, -5.6066999435424805, -5.5971999168396, -5.6585001945495605, -5.249199867248535, -6.10129976272583, -4.813300132751465, -5.114799976348877, -4.797299861907959, -5.06850004196167, -5.536399841308594, -4.900000095367432, -5.30810022354126, -5.334400177001953, -5.0594000816345215, -5.577099800109863, -5.499899864196777, -5.812600135803223, -5.55810022354126, -5.8018999099731445, -5.800600051879883, -4.625999927520752, -4.596700191497803, -4.739200115203857, -5.635799884796143, -5.967100143432617, -5.980000019073486, -5.587800025939941, -6.116000175476074, -6.198999881744385, -6.224599838256836, -6.440299987792969, -6.466300010681152, -6.510799884796143, -4.951399803161621, -6.546899795532227, -4.962299823760986, -6.552599906921387, -6.601600170135498, -6.61269998550415, -6.632900238037109, -6.594399929046631, -6.657899856567383, -6.6809000968933105, -6.64900016784668, -6.281899929046631, -6.7519001960754395, -6.765600204467773, -6.768599987030029, -6.6596999168396, -6.152100086212158, -6.297800064086914, -6.505199909210205, -6.472899913787842, -6.442699909210205, -5.309500217437744, -4.988900184631348, -6.20389986038208, -5.945300102233887, -6.320300102233887, -5.057700157165527, -6.117400169372559, -5.367700099945068, -3.8099000453948975, -5.909599781036377, -6.338500022888184, -4.353300094604492, -4.512199878692627, -5.0903000831604, -5.783100128173828, -5.0553998947143555, -5.387499809265137, -5.646200180053711, -5.628399848937988, -5.251800060272217, -5.9274001121521, -5.954999923706055, -5.356100082397461, -5.58620023727417, -5.56790018081665, -5.736999988555908, -5.4766998291015625, -5.77239990234375, -5.802299976348877, -5.822199821472168, -5.793700218200684, -5.7754998207092285, -5.785299777984619, -4.520199775695801, -4.570199966430664, -5.137400150299072, -5.149499893188477, -4.620800018310547, -5.542200088500977, -5.557000160217285, -5.5218000411987305, -5.419099807739258, -5.79040002822876, -4.8003997802734375, -5.264200210571289, -6.097400188446045, -5.494200229644775, -5.93209981918335, -6.044899940490723, -6.178899765014648, -5.273099899291992, -6.14109992980957, -6.27839994430542, -6.285099983215332, -6.423900127410889, -6.470099925994873, -5.7993998527526855, -5.578400135040283, -6.064000129699707, -6.576900005340576, -6.585599899291992, -6.605400085449219, -6.298999786376953, -5.221399784088135, -5.326099872589111, -6.004300117492676, -4.133900165557861, -5.205900192260742, -5.721700191497803, -5.050099849700928, -5.499000072479248, -5.535999774932861, -5.191100120544434, -5.209400177001953, -4.871799945831299, -5.656000137329102, -5.456299781799316, -5.540999889373779, -5.3506999015808105, -4.844299793243408, -5.070199966430664, -5.354700088500977, -5.029799938201904, -5.423900127410889, -5.520699977874756], \"loglift\": [30.0, 29.0, 28.0, 27.0, 26.0, 25.0, 24.0, 23.0, 22.0, 21.0, 20.0, 19.0, 18.0, 17.0, 16.0, 15.0, 14.0, 13.0, 12.0, 11.0, 10.0, 9.0, 8.0, 7.0, 6.0, 5.0, 4.0, 3.0, 2.0, 1.0, 1.0175, 1.0173, 1.0168, 1.0153, 1.0147, 1.0133, 1.0118, 1.0117, 1.0117, 1.0101, 1.0099, 1.0091, 1.0089, 1.008, 1.0067, 1.0065, 1.006, 1.0054, 1.0053, 1.0045, 1.0043, 1.0043, 1.0035, 1.0034, 1.0022, 1.0019, 1.0019, 1.0008, 1.0001, 0.9995, 0.9938, 0.991, 0.9918, 0.9877, 0.9934, 0.9827, 0.9855, 0.9313, 0.9938, 0.9449, 0.9632, 0.8841, 0.8497, 0.8756, 0.8057, 0.9015, 0.8649, 0.8763, 0.7401, 0.5708, 0.5932, 0.4066, 2.0707, 2.07, 2.066, 2.066, 2.0637, 2.0633, 2.0596, 2.0587, 2.0586, 2.0524, 2.0507, 2.0477, 2.0454, 2.0445, 2.041, 2.0391, 2.0388, 2.0378, 2.0369, 2.0357, 2.0337, 2.0321, 2.0317, 2.0299, 2.0294, 2.0243, 2.0195, 2.0191, 2.0184, 2.0175, 2.0171, 2.0149, 1.921, 1.9718, 1.9327, 1.7168, 2.0044, 1.4252, 1.3247, 1.4216, 1.2043, 1.3481, 0.9705, 1.1954, 1.262, 1.5403, 1.4229, 1.4654, 0.5193, 2.0774, 2.0761, 2.0747, 2.0679, 2.0674, 2.0671, 2.0638, 2.0637, 2.0547, 2.0538, 2.0526, 2.0491, 2.0462, 2.0457, 2.0403, 2.0398, 2.0396, 2.0389, 2.0354, 2.032, 2.0306, 2.0297, 2.0241, 2.0226, 2.0218, 2.0195, 2.0193, 2.0193, 2.0192, 2.0185, 2.0116, 2.0125, 1.9917, 2.0131, 1.9299, 1.9713, 1.9101, 1.9482, 1.8863, 1.9326, 1.9252, 1.6561, 1.4955, 1.7435, 1.4181, 1.5638, 1.8995, 1.5355, 1.1454, 1.6097, 1.2662, 0.8444, 1.3379, 1.4974, 0.2909, 1.0657, 0.501, 0.644, 0.3111, 2.4346, 2.4235, 2.4156, 2.4075, 2.4073, 2.4062, 2.4039, 2.3959, 2.3825, 2.3821, 2.3801, 2.379, 2.3762, 2.3755, 2.3743, 2.3717, 2.3699, 2.3691, 2.3679, 2.3675, 2.3647, 2.3624, 2.3617, 2.3591, 2.3527, 2.3521, 2.3513, 2.3463, 2.3453, 2.3393, 2.3391, 2.3312, 2.3135, 2.3115, 2.3278, 2.2842, 2.2804, 2.2787, 2.1871, 2.2373, 2.1944, 1.8989, 1.9947, 2.1938, 1.6569, 2.1118, 1.4059, 1.6691, 1.5361, 1.7933, 1.9151, 1.1082, 0.6925, 1.2839, 1.5575, 0.5074, 2.9363, 2.9306, 2.9274, 2.8761, 2.8622, 2.8485, 2.8432, 2.8423, 2.8346, 2.8342, 2.8038, 2.8023, 2.8022, 2.8022, 2.7859, 2.7837, 2.7829, 2.7825, 2.7799, 2.7758, 2.7742, 2.774, 2.7722, 2.7654, 2.7629, 2.7606, 2.7598, 2.7573, 2.7501, 2.7489, 2.7475, 2.7435, 2.7328, 2.7482, 2.7485, 2.7107, 2.7015, 2.608, 2.7205, 2.5969, 2.6931, 2.5688, 2.0877, 2.0677, 1.7421, 2.1548, 2.4163, 2.2955, 2.0516, 2.2214, 2.3454, 1.1336, 1.2128, 1.0758, 1.4659, 0.8955, 2.2838, 0.8888, 1.9381, 1.057, 1.3947, 0.8746, 1.8692, 1.3264, 0.6474, 1.7097, 1.633, 2.9612, 2.9594, 2.9536, 2.9533, 2.9206, 2.9196, 2.9046, 2.8879, 2.886, 2.8828, 2.8763, 2.8731, 2.8577, 2.8565, 2.8511, 2.8416, 2.8403, 2.8316, 2.8283, 2.8255, 2.8184, 2.8165, 2.8164, 2.8155, 2.815, 2.8072, 2.8047, 2.8028, 2.8018, 2.798, 2.772, 2.6287, 2.6307, 2.4289, 2.552, 2.7547, 2.2215, 1.9835, 2.4604, 1.1498, 1.6188, 1.2396, 1.887, 0.937, 1.0753, 0.99, 1.1871, -0.0171, 0.9771, 0.3194, 0.2269, 2.9576, 2.9561, 2.9435, 2.9422, 2.9418, 2.9346, 2.9313, 2.9185, 2.9135, 2.9083, 2.9013, 2.9002, 2.8901, 2.884, 2.8813, 2.8581, 2.8562, 2.8528, 2.846, 2.8296, 2.8282, 2.8184, 2.8168, 2.8153, 2.8133, 2.8097, 2.7841, 2.7834, 2.7834, 2.7791, 2.7393, 2.6073, 2.4826, 2.6034, 2.6496, 2.5891, 2.6018, 2.3345, 2.4898, 2.3465, 1.8961, 2.2258, 2.3581, 2.2536, 1.6183, 1.8906, 1.469, 1.0487, 0.9822, 0.6746, 1.4729, 0.4713, 1.3209, 2.9534, 2.9316, 2.9307, 2.9266, 2.8976, 2.8925, 2.8855, 2.8828, 2.8735, 2.8718, 2.8676, 2.865, 2.8643, 2.8574, 2.8549, 2.8482, 2.8453, 2.8443, 2.8427, 2.8277, 2.8275, 2.8268, 2.8267, 2.8229, 2.8141, 2.8109, 2.806, 2.7945, 2.7921, 2.7919, 2.7731, 2.7633, 2.7287, 2.701, 2.6197, 2.4778, 2.5025, 2.2737, 2.6824, 1.9889, 2.0627, 1.8405, 1.8658, 2.2048, 1.4191, 1.8259, 1.8057, 1.1274, 1.8744, 1.5568, 2.219, 0.8447, 1.4201, -0.1668, 2.9537, 2.9513, 2.9505, 2.9065, 2.8784, 2.8772, 2.8768, 2.8581, 2.8529, 2.85, 2.8179, 2.8167, 2.8098, 2.8045, 2.804, 2.8034, 2.8031, 2.7946, 2.7902, 2.7889, 2.7853, 2.7851, 2.7809, 2.78, 2.769, 2.7675, 2.7648, 2.7644, 2.763, 2.7627, 2.7478, 2.7539, 2.7476, 2.7433, 2.6037, 2.5617, 2.693, 2.6107, 2.7058, 2.3537, 2.6415, 2.4039, 1.8238, 2.5421, 2.7026, 1.7286, 1.5676, 1.8764, 2.3045, 1.697, 1.8442, 2.0076, 1.9635, 1.4737, 2.3037, 2.3272, 1.1342, 1.5107, 1.3811, 1.7395, 0.7944, 1.1641, 1.2327, 1.3999, 0.9025, 0.3799, 0.3099, 2.9571, 2.9462, 2.9362, 2.9357, 2.9355, 2.9142, 2.9132, 2.9116, 2.9017, 2.8958, 2.8777, 2.8682, 2.8665, 2.8646, 2.8644, 2.861, 2.8574, 2.8532, 2.8525, 2.8452, 2.8443, 2.8254, 2.8185, 2.8183, 2.8062, 2.8025, 2.8017, 2.8002, 2.7969, 2.7895, 2.7876, 2.7814, 2.774, 2.6471, 2.6577, 2.7077, 2.5644, 2.6195, 2.62, 2.4077, 2.4088, 2.1792, 2.5272, 2.3251, 2.3943, 2.1275, 1.2299, 1.2306, 1.8358, 0.604, 0.5375, 1.5655]}, \"token.table\": {\"Topic\": [4, 10, 1, 1, 1, 7, 1, 1, 3, 7, 4, 1, 8, 2, 3, 4, 5, 6, 8, 9, 2, 6, 2, 3, 4, 5, 7, 10, 7, 4, 2, 6, 1, 2, 3, 4, 8, 10, 7, 1, 3, 1, 4, 8, 10, 4, 4, 4, 8, 9, 8, 1, 2, 3, 4, 5, 6, 7, 8, 9, 3, 4, 5, 9, 1, 4, 9, 5, 3, 2, 3, 10, 1, 10, 10, 7, 10, 2, 2, 10, 7, 4, 7, 5, 9, 5, 1, 1, 3, 5, 2, 8, 4, 2, 7, 6, 1, 3, 5, 8, 9, 8, 1, 8, 4, 8, 10, 3, 1, 2, 3, 5, 9, 1, 6, 8, 9, 1, 6, 4, 5, 10, 8, 9, 2, 7, 9, 9, 1, 1, 3, 5, 7, 2, 1, 1, 2, 3, 4, 5, 9, 5, 3, 1, 2, 4, 5, 6, 4, 5, 3, 7, 10, 9, 6, 1, 1, 3, 6, 9, 9, 4, 1, 8, 1, 10, 2, 9, 7, 8, 2, 4, 1, 2, 7, 3, 3, 10, 1, 10, 10, 1, 2, 3, 6, 7, 9, 2, 2, 9, 8, 4, 3, 3, 9, 3, 2, 5, 10, 2, 8, 6, 1, 1, 6, 4, 1, 7, 7, 2, 1, 3, 8, 10, 1, 3, 4, 5, 9, 1, 9, 2, 1, 10, 1, 6, 7, 1, 10, 7, 6, 3, 4, 9, 10, 3, 10, 6, 9, 5, 1, 2, 3, 7, 9, 1, 3, 7, 8, 9, 10, 8, 7, 2, 1, 8, 5, 2, 6, 5, 6, 3, 4, 5, 6, 8, 9, 10, 1, 4, 3, 9, 8, 4, 1, 3, 4, 5, 9, 7, 10, 1, 3, 4, 5, 9, 10, 4, 6, 9, 10, 1, 2, 4, 5, 6, 8, 8, 9, 4, 4, 9, 8, 3, 1, 6, 5, 1, 4, 4, 3, 4, 1, 4, 7, 1, 2, 8, 7, 2, 5, 9, 1, 4, 5, 10, 10, 6, 2, 2, 3, 6, 9, 1, 1, 3, 4, 5, 6, 7, 9, 10, 7, 4, 10, 3, 8, 10, 1, 8, 5, 10, 8, 8, 3, 2, 7, 4, 7, 8, 8, 1, 2, 7, 2, 6, 2, 7, 6, 3, 1, 4, 1, 4, 5, 6, 10, 6, 4, 7, 6, 5, 5, 8, 5, 1, 2, 3, 4, 5, 6, 8, 9, 10, 2, 3, 8, 9, 6, 7, 9, 1, 5, 8, 9, 6, 9, 6, 5, 6, 10, 4, 3, 4, 9, 6, 2, 2, 8, 9, 1, 5, 10, 2, 3, 4, 10, 3, 9, 10, 9, 3, 1, 7, 8, 10, 1, 4, 5, 1, 5, 9, 8, 8, 10, 10, 8, 4, 5, 10, 6, 6, 6, 1, 6, 8, 4, 4, 9, 10, 5, 7, 1, 2, 3, 4, 5, 6, 7, 8, 9, 10, 1, 2, 3, 9, 3, 5, 1, 2, 3, 7, 9, 3, 2, 8, 6, 2, 5, 10, 1, 2, 5, 3, 7, 9, 1, 2, 3, 4, 5, 6, 7, 8, 9, 10, 10, 2, 7, 1, 4, 4, 1, 10, 1, 3, 4, 5, 6, 7, 8, 9, 10, 6, 4, 8, 3, 3, 7, 8, 2, 4, 2, 1, 2, 4, 5, 8, 7, 8, 1, 5, 1, 6, 6, 2, 3, 7, 5, 5, 5, 9, 4, 6, 3, 5, 8, 10, 1, 2, 6, 10, 1, 2, 5, 3, 3, 6, 2, 6, 7, 3, 3, 2, 6, 9, 5, 4, 10, 10, 3, 5, 7, 1, 3, 7, 9, 2, 8, 9, 4, 3, 7, 9, 9, 9, 5, 1, 2, 9, 1, 10, 1, 7, 2, 5, 10, 3, 9, 9, 3, 10, 1, 9, 1, 2, 3, 3, 7, 1, 3, 8, 2, 3, 4, 5, 7, 8, 7, 3, 5, 2, 6, 5, 1, 1, 4, 5, 6, 7, 8, 7, 9, 5, 1, 6, 4, 3, 3, 8, 10, 1, 9, 2, 3, 2, 4, 2, 1, 2, 5, 9, 6, 1, 7, 2, 4, 7, 9, 4, 4, 7, 9, 10, 1, 2, 3, 4, 5, 9, 5, 2, 5, 1, 3, 4, 3, 2, 8, 3, 5, 6, 7, 8, 7, 3, 9, 3, 7, 2, 4, 8, 9, 1, 4, 9, 8, 8, 1, 2, 3, 4, 5, 7, 9, 10, 2, 3, 3, 10, 3, 2, 2, 1, 1, 3, 1, 1, 2, 1, 1, 2, 5, 7, 8, 9, 9, 1, 3, 4, 8, 4, 4, 4, 1, 3, 4, 5, 2, 6, 10, 7, 5, 5, 1, 4, 2, 5, 6, 2, 9, 10, 1, 7, 10, 8, 8, 2, 9, 1, 5, 4, 1, 2, 3, 4, 2, 4, 1, 2, 3, 4, 5, 6, 9, 2, 10, 2, 8, 9, 7, 9, 3], \"Freq\": [1.0814900198015518, 0.7262154952236772, 0.9365433195826826, 1.0385692415133323, 1.0033396029367527, 0.8738484440517815, 0.9833521885757602, 0.31946647576610687, 0.31946647576610687, 0.31946647576610687, 0.8765978538838191, 0.9450980917993799, 1.1016686249647, 0.1147944468729328, 0.0573972234364664, 0.17219167030939922, 0.1147944468729328, 0.17219167030939922, 0.0573972234364664, 0.2295888937458656, 0.7972440239330194, 1.2305690441313855, 0.5395995499389917, 0.1798665166463306, 0.05995550554877686, 0.05995550554877686, 0.05995550554877686, 0.05995550554877686, 0.6647480911374345, 0.8793667704751371, 0.8518598278453279, 0.1703719655690656, 0.07927299762821174, 0.5549109833974822, 0.07927299762821174, 0.07927299762821174, 0.07927299762821174, 0.07927299762821174, 0.9711061820971759, 0.8717113540198189, 0.6733499302537486, 0.13038863133509043, 0.5215545253403617, 0.13038863133509043, 0.13038863133509043, 0.8687469751932129, 0.5966361439876872, 0.7322899143671647, 0.4910319293428049, 1.326944051365904, 1.4556018199377194, 0.22851147604079652, 0.22851147604079652, 0.11425573802039826, 0.05712786901019913, 0.1713836070305974, 0.05712786901019913, 0.11425573802039826, 0.05712786901019913, 0.05712786901019913, 0.16990643630864466, 0.3398128726172893, 0.3398128726172893, 0.16990643630864466, 0.44752837704834936, 0.14917612568278313, 0.14917612568278313, 0.851838865812925, 0.6726300426716539, 0.42662669486592475, 0.42662669486592475, 0.10665667371648119, 0.5345681514952603, 0.5345681514952603, 0.9313643166553819, 1.1351684114198828, 1.4205612030769614, 0.873843943368143, 1.0041418789702437, 0.8527814055689708, 1.4261375940129946, 0.7997329855582033, 0.8027778933556294, 0.27697118783164115, 0.27697118783164115, 0.9262698411862041, 1.0523797432311683, 0.22756759742234423, 0.5689189935558605, 0.5142114132523457, 0.404140412728748, 0.404140412728748, 0.732103642019583, 0.5678693120007549, 0.5678693120007549, 0.9053745471885146, 0.3373632699583206, 0.1124544233194402, 0.1124544233194402, 0.1124544233194402, 0.2249088466388804, 1.3450104407952936, 0.30226082904812523, 0.6045216580962505, 0.7311763811557171, 0.7181299743628895, 0.8885874501661614, 0.9391589421303715, 0.20854276390658263, 0.06951425463552754, 0.5561140370842204, 0.06951425463552754, 0.06951425463552754, 0.26977907471781676, 0.13488953735890838, 0.26977907471781676, 0.13488953735890838, 0.9796411222370958, 1.046158159488309, 0.7821223655187579, 1.2630411058433861, 1.1211631966777886, 0.7333395197619084, 1.1199384705575712, 0.3211139199476334, 0.6422278398952668, 1.5118809056434035, 0.9601406338262003, 0.9939940650088707, 0.5022547730294521, 0.2152520455840509, 0.0717506818613503, 0.1435013637227006, 0.9815790432557432, 0.9612089735363851, 0.13933585843994722, 0.13933585843994722, 0.13933585843994722, 0.13933585843994722, 0.13933585843994722, 0.27867171687989445, 1.205440866020065, 1.0277084046631788, 0.16456017736404926, 0.16456017736404926, 0.16456017736404926, 0.16456017736404926, 0.16456017736404926, 0.8681751124046693, 0.909048870671882, 1.0397316344577883, 0.6966976967103736, 1.3656481292034557, 1.0370977546795634, 0.5056767726977331, 0.9719972557123633, 0.981067794322391, 0.6198036133791813, 0.6198036133791813, 0.673495799720313, 1.146784266351558, 0.8797108277403057, 1.0858471390227469, 1.179453981755178, 1.0181459662279486, 0.6015505929313447, 1.045282143102943, 0.6827525718268942, 0.7365551724320619, 0.36827758621603096, 0.7822197396838748, 0.6877105847182676, 0.14944795968843594, 0.44834387906530776, 0.14944795968843594, 0.8685555342422713, 1.1428786449743535, 1.2080200973446573, 0.3031692460621067, 0.45475386909316007, 1.2043691047214478, 0.29861394566078764, 0.29861394566078764, 0.09953798188692921, 0.09953798188692921, 0.09953798188692921, 1.622798168571647, 1.1226666410552892, 0.94375476457401, 1.2819546140332865, 1.0168964636480327, 0.8291604281149203, 0.6272809456289173, 1.0630608806374982, 1.4124836542903727, 1.1051961910431942, 0.7158874106874658, 0.14317748213749315, 0.14317748213749315, 0.7997183260074467, 0.590242788873544, 1.1082910269242705, 0.9982486784416676, 1.0350252515156302, 0.8860537896745174, 0.9034107034585848, 0.9685955567577038, 1.2210157327664286, 0.8964013665095898, 0.7750179578347058, 0.9327659312577082, 0.9382074257684808, 1.6162911401869386, 0.6265834733368577, 0.14301207377931036, 0.2860241475586207, 0.2860241475586207, 0.14301207377931036, 0.14301207377931036, 0.31161316892983676, 0.6232263378596735, 0.8189771893370372, 0.9708078313542381, 0.8526990120180925, 0.6899486846820113, 0.2759794738728045, 0.9537200322244151, 0.23145075592610403, 0.6943522677783122, 1.3455054747625652, 0.805750327520943, 1.0513898700215933, 0.7429200570267631, 0.26216959449135024, 0.5243391889827005, 0.47028687409606024, 0.47028687409606024, 1.1079087580388793, 0.8364011838725457, 0.5476552901568585, 0.24760013777581608, 0.18570010333186204, 0.3714002066637241, 0.06190003444395402, 0.06190003444395402, 0.7665866460793508, 0.0696896950981228, 0.0696896950981228, 0.0696896950981228, 0.0696896950981228, 0.9687984426871284, 0.9400357873292515, 1.107199055893302, 0.9756132957850903, 0.42204960554098814, 0.42204960554098814, 0.793978173623581, 0.26639294827487314, 0.26639294827487314, 0.6415515031144878, 1.098023967164447, 0.20848063569819722, 0.1389870904654648, 0.2779741809309296, 0.0694935452327324, 0.0694935452327324, 0.1389870904654648, 0.0694935452327324, 0.44520951882327786, 0.44520951882327786, 0.4274043446127198, 0.4274043446127198, 1.6292394590038164, 0.829930204333555, 0.38698968665812167, 0.1289965622193739, 0.1289965622193739, 0.2579931244387478, 0.1289965622193739, 0.37564456597651946, 0.8719589448546267, 0.13688562537529428, 0.27377125075058856, 0.13688562537529428, 0.13688562537529428, 0.13688562537529428, 0.13688562537529428, 0.1965592018279398, 0.3931184036558796, 0.1965592018279398, 0.1965592018279398, 0.10645046749587543, 0.10645046749587543, 0.3193514024876263, 0.10645046749587543, 0.10645046749587543, 0.10645046749587543, 0.459959770771886, 0.459959770771886, 1.0401020768813851, 0.8953680751033856, 1.092516457255283, 0.9196894171569494, 0.9846541401420242, 0.999173265518059, 1.4785053921773244, 0.9193071380122336, 1.0428756238220656, 0.9004772799849494, 0.9353287520866967, 0.8327970541065448, 0.8956613063092523, 0.83430993030507, 0.055620662020337996, 0.055620662020337996, 0.22626037986540512, 0.45252075973081024, 0.22626037986540512, 1.0828113152598255, 0.26509157127803984, 0.26509157127803984, 0.26509157127803984, 0.8810705330738425, 0.06777465639029558, 0.06777465639029558, 1.2114067943602722, 0.7901618214383002, 1.417982339260062, 1.0940904060275511, 0.17733228216804112, 0.7093291286721645, 0.9685512834688276, 0.9120028663218174, 1.0090868919318967, 0.23005877748167228, 0.11502938874083614, 0.05751469437041807, 0.1725440831112542, 0.05751469437041807, 0.05751469437041807, 0.2875734718520903, 0.05751469437041807, 1.2986789478612675, 0.6888737682769098, 0.2296245894256366, 1.0896247701741992, 0.9440634318903155, 0.8683897660442472, 0.8451753610494317, 0.761869850633386, 1.0569679190552752, 1.0575660258033242, 1.6104775466706012, 0.8528493922633162, 0.8214010277444594, 0.9105953372672186, 0.6058502429570364, 0.46942424866495064, 0.46942424866495064, 0.5992750107319299, 1.181831688119048, 0.24869782487598688, 0.4144963747933115, 0.24869782487598688, 0.9813299708327184, 1.2300370579155055, 0.8422510963022914, 1.0912800593624197, 1.0900129938050078, 0.9295477066141199, 0.6056018380588497, 0.4037345587058998, 0.1605489081566251, 0.1605489081566251, 0.1605489081566251, 0.1605489081566251, 0.1605489081566251, 1.4449888327861988, 0.8432197904500707, 0.45675235125993774, 1.1521579921021876, 0.670144695282201, 1.551096926986574, 0.8572875143438313, 1.1986891167071754, 0.18370989384606265, 0.03674197876921253, 0.18370989384606265, 0.07348395753842506, 0.03674197876921253, 0.03674197876921253, 0.03674197876921253, 0.33067780892291276, 0.11022593630763759, 0.3741071189256544, 0.5611606783884816, 1.0358392280571762, 1.109011298030636, 0.2603446359780137, 0.2603446359780137, 0.2603446359780137, 0.45732190413150525, 0.15244063471050176, 0.3048812694210035, 0.15244063471050176, 0.8433150314708154, 0.7179902591622633, 0.9082697667667811, 0.6820704010785015, 0.7546855478853837, 0.37734277394269183, 0.8034962335769402, 0.6378662374640078, 0.21262207915466927, 0.10631103957733463, 1.4330475305561028, 1.0311530631933952, 0.47613427765637306, 0.1587114258854577, 0.1587114258854577, 0.587943633804163, 0.2939718169020815, 1.0050120524269723, 0.15701851154766372, 0.15701851154766372, 0.15701851154766372, 0.31403702309532744, 0.3485347737577276, 0.1742673868788638, 0.3485347737577276, 1.555959351899028, 0.9812039019968404, 0.3294076499983197, 0.3294076499983197, 0.3294076499983197, 1.5915283099362125, 0.5156955190886432, 0.2578477595443216, 0.08594925318144053, 0.44594127753462415, 0.44594127753462415, 1.3790703040869043, 1.3535986178728519, 1.0111562228684348, 1.2360595673597004, 0.9286758136431041, 1.022156129850927, 0.9997405402565325, 1.0047508715056785, 0.683236389057563, 1.0436598103545454, 0.9160146870010292, 1.1342156165836035, 0.43729957080461623, 0.43729957080461623, 1.0455960594923144, 0.7662368880893277, 0.49333741201468007, 0.49333741201468007, 0.5751781882566503, 0.8078388785001476, 0.6482488841403452, 0.22828617444478533, 0.05707154361119633, 0.17121463083358898, 0.05707154361119633, 0.05707154361119633, 0.05707154361119633, 0.17121463083358898, 0.05707154361119633, 0.05707154361119633, 0.17121463083358898, 0.8316406460063258, 0.048920038000372104, 0.09784007600074421, 1.4667667910643947, 0.5033474787592112, 0.3355649858394741, 0.1730563234601408, 0.5191689703804224, 0.0865281617300704, 0.0865281617300704, 0.1730563234601408, 1.0250822312399903, 0.9826563469342987, 1.2113835291415582, 1.0554089938194693, 0.5303654146078681, 0.5303654146078681, 0.8513391973623476, 0.9681749744809881, 0.09681749744809881, 1.233898609944834, 0.5407228797409754, 0.13518071993524386, 0.13518071993524386, 0.27335497557847743, 0.06833874389461936, 0.13667748778923872, 0.06833874389461936, 0.13667748778923872, 0.13667748778923872, 0.06833874389461936, 0.06833874389461936, 0.06833874389461936, 0.06833874389461936, 1.0792969270690604, 0.8786894330112117, 0.7353974527054745, 0.8732119515986783, 0.7010411111078344, 0.7890728877030925, 0.3146578447070166, 0.6293156894140332, 0.16247076458971982, 0.08123538229485991, 0.16247076458971982, 0.08123538229485991, 0.08123538229485991, 0.24370614688457973, 0.08123538229485991, 0.08123538229485991, 0.9153382244513668, 1.4187174649413672, 0.9039923716352578, 0.7789835261277255, 0.9920974058646818, 0.8987423228989959, 1.2396650796093558, 1.3473251337634105, 0.9125227957656824, 0.48593237978818493, 1.0145255438413547, 0.3665895207882901, 0.4582369009853626, 0.04582369009853626, 0.04582369009853626, 0.04582369009853626, 1.14782979931556, 1.1239454373816953, 0.6357784229727654, 0.3178892114863827, 1.0250996819724982, 1.3607149338289501, 1.338418306916468, 0.19890349858241968, 0.7956139943296787, 1.1286391330350996, 0.9718025661355315, 1.0005329285604296, 1.5255068649127603, 0.996747044045518, 0.9468635756048142, 1.3118197327428776, 1.063358389450356, 0.9614648218760857, 1.5201476912959333, 1.0266895585935965, 0.9940340594619466, 0.8904881603418241, 1.1137015576563638, 1.1629000733485297, 0.8610406898133441, 0.08610406898133441, 1.5252815161725233, 1.148658823432119, 0.7771375527402831, 1.5795711293548382, 0.17380621573718996, 0.5214186472115698, 0.17380621573718996, 0.6726044413486147, 0.9559467763153463, 0.8503575195638501, 1.0407254008452644, 1.1140267546834908, 1.2629009193461807, 0.3670187431256636, 0.7340374862513273, 1.1036954715310265, 0.9757454903655308, 1.3365259767310897, 1.0589268334838207, 0.6410902557492381, 0.17484279702251945, 0.05828093234083982, 0.05828093234083982, 0.9196863750847664, 1.1780328001052371, 0.6230951507343776, 0.6283699434953127, 0.6704263402403872, 0.6959331128978192, 0.23197770429927306, 0.9227021634434962, 0.6151144992237071, 0.712723812839571, 0.9811471236535583, 1.036416825024853, 1.0288150871232729, 0.2663023193777349, 0.5326046387554698, 0.5362965410632607, 0.5362965410632607, 0.9628449855150126, 1.1044509018533848, 0.7777341436195817, 0.8591342795022191, 0.10739178493777739, 1.1210610803350851, 0.9986085927745003, 0.8429427193005119, 0.9922086220316443, 0.9773882447503601, 0.8516889462293675, 0.07097407885244729, 0.07097407885244729, 1.0267259978613832, 1.4820120228056575, 0.16570254130109854, 0.49710762390329566, 0.3314050826021971, 0.10027916911575939, 0.20055833823151878, 0.10027916911575939, 0.10027916911575939, 0.10027916911575939, 0.3008375073472782, 0.7871507763133876, 0.6411037436147293, 1.2714612023481051, 0.27539974114064875, 0.7343993097083966, 1.3804516962890314, 0.9671599408456175, 0.8844550686957195, 0.6687368614263677, 1.525050540033638, 0.14582812269484816, 0.5833124907793926, 0.21874218404227222, 0.8868989833977793, 0.9202476634397538, 0.8293296242089783, 1.0035600439726724, 0.8349328506387858, 0.774315908734787, 1.0026992586987085, 0.23237481796482945, 0.23237481796482945, 0.4647496359296589, 0.9365303674688239, 1.5818155195929464, 0.9781401066715039, 1.0260351775777021, 0.9615797213214885, 0.7256251722272664, 0.9824314460567157, 0.9387901667731624, 0.25789398638688354, 0.25789398638688354, 0.25789398638688354, 1.241350455980668, 0.3067616518750284, 0.6135233037500568, 0.18159760913290698, 0.36319521826581397, 0.18159760913290698, 0.36319521826581397, 1.0242859391052195, 0.7065587700821825, 1.0679770996313669, 0.8612768629612932, 1.5654679961442972, 0.2333002345271278, 0.1166501172635639, 0.1166501172635639, 0.4666004690542556, 0.1166501172635639, 0.1166501172635639, 1.525744661614158, 0.4785633007938337, 0.23928165039691685, 0.9745100859815058, 0.9597823789434612, 1.0515022336429543, 0.9862870359082492, 0.5160742763793676, 0.3440495175862451, 0.8075509468910692, 0.10094386836138365, 0.9573574782511971, 0.8269343655715845, 1.0273279315307304, 1.3341072926010995, 0.5192096395200914, 0.5192096395200914, 0.9598630212284195, 0.8653948892404199, 0.9547754150917138, 0.539589553716702, 0.179863184572234, 0.179863184572234, 0.9463549320714176, 0.9339867204780501, 1.5190667072094706, 0.7842931314842922, 1.185090623919479, 0.203945276582608, 0.305917914873912, 0.152958957436956, 0.050986319145652, 0.050986319145652, 0.050986319145652, 0.050986319145652, 0.101972638291304, 0.41643776927470993, 0.5354199890674842, 0.4408163617392138, 0.8816327234784276, 0.8980839470894634, 1.1606036521197123, 1.1841273464785818, 1.0103119520954973, 1.010838685148708, 0.6495253880088604, 0.9260542218170308, 0.823816421434121, 0.0823816421434121, 0.9196177365108299, 0.6387867409600446, 0.12775734819200893, 0.06387867409600446, 0.06387867409600446, 0.12775734819200893, 0.9293691494384763, 1.3780211140255063, 0.4727603253430971, 0.11819008133577427, 0.11819008133577427, 0.35457024400732284, 0.9227572875612962, 1.0061823085640427, 1.090685686670579, 0.2673923040102413, 0.5347846080204826, 0.13369615200512064, 0.13369615200512064, 0.804560022841148, 0.11493714612016401, 0.9657004933993948, 0.9510047593777771, 1.1541749411640811, 1.231161904830574, 1.0911981393706351, 0.7590564113885989, 0.4974595715131144, 0.4974595715131144, 0.2487297857565572, 0.21734931575338015, 0.4346986315067603, 0.21734931575338015, 0.9204771743225153, 0.10227524159139059, 0.8939576635506336, 0.9685644534912062, 1.3851213863628602, 0.24980241578834472, 0.7494072473650342, 0.4196441559901533, 0.4196441559901533, 0.6137346709597403, 0.532131466017526, 0.11825143689278357, 0.2956285922319589, 0.059125718446391785, 1.041222176195757, 0.939869705661497, 0.2189481773742941, 0.10947408868714704, 0.10947408868714704, 0.10947408868714704, 0.10947408868714704, 0.10947408868714704, 0.2189481773742941, 0.9711176674310478, 1.5541944691705958, 0.24300236859326696, 0.4860047371865339, 0.24300236859326696, 0.9039325128374147, 1.5924585627768586, 0.9067309706751286], \"Term\": [\"#??\", \"#???\", \"#art\", \"#cnn\", \"#earthquake\", \"#gbbo\", \"#islam\", \"#news\", \"#news\", \"#news\", \"#nowplaying\", \"#photography\", \"#wildfire\", \"&amp;\", \"&amp;\", \"&amp;\", \"&amp;\", \"&amp;\", \"&amp;\", \"&amp;\", \"--\", \"..\", \"...\", \"...\", \"...\", \"...\", \"...\", \"...\", \"05\", \"11\", \"15\", \"15\", \"2\", \"2\", \"2\", \"2\", \"2\", \"2\", \"20\", \"2015\", \"22\", \"3\", \"3\", \"3\", \"3\", \"40\", \"50\", \"60\", \"70\", \":)\", \":-)\", \"??\", \"??\", \"??\", \"??\", \"??\", \"??\", \"??\", \"??\", \"??\", \"????\", \"????\", \"????\", \"????\", \"??????\", \"??????\", \"??????\", \"????????\", \"?please\", \"@youtube\", \"@youtube\", \"@youtube\", \"a...\", \"a...\", \"abc\", \"according\", \"account\", \"actions\", \"added\", \"affected\", \"aim\", \"among\", \"ancient\", \"another\", \"another\", \"appears\", \"area.\", \"army\", \"army\", \"ass\", \"atomic\", \"atomic\", \"attack:\", \"august\", \"august\", \"baby\", \"back\", \"back\", \"back\", \"back\", \"back\", \"bank\", \"big\", \"big\", \"bigger\", \"board\", \"boat\", \"bodies\", \"bomb\", \"bomb\", \"bomb\", \"bomb\", \"bomb\", \"bombing\", \"bombing\", \"bombing\", \"bombing\", \"book\", \"boy\", \"brain\", \"break\", \"breaking\", \"british\", \"brother\", \"bus\", \"bus\", \"businesses\", \"cake\", \"calgary\", \"california\", \"california\", \"california\", \"california\", \"called\", \"camp\", \"can't\", \"can't\", \"can't\", \"can't\", \"can't\", \"can't\", \"cancer\", \"captures\", \"car\", \"car\", \"car\", \"car\", \"car\", \"care\", \"caused\", \"causing\", \"cdt\", \"centre\", \"changes\", \"charged\", \"children\", \"china\", \"claims\", \"claims\", \"coaches\", \"comes\", \"comment\", \"common\", \"company\", \"computers\", \"confirmed\", \"content\", \"country\", \"county\", \"county\", \"court\", \"cover\", \"crash\", \"crash\", \"crash\", \"crash:\", \"dan\", \"data\", \"day\", \"day\", \"de\", \"dead\", \"dead\", \"dead\", \"dead\", \"dead\", \"deadly\", \"declaration\", \"declares\", \"deep\", \"delivers\", \"department\", \"derailment:\", \"destroy\", \"destroys\", \"different\", \"disaster\", \"disaster\", \"disaster\", \"displaced\", \"done\", \"don\\u0089\\u00fb\\u00aat\", \"download\", \"driver\", \"drown\", \"early\", \"earthquake\", \"edt\", \"el\", \"emotional\", \"ended\", \"entire\", \"etc.\", \"evacuate\", \"even\", \"even\", \"even\", \"even\", \"even\", \"everyone\", \"everyone\", \"expect\", \"expected\", \"eyes\", \"face\", \"face\", \"failure\", \"families\", \"families\", \"fans\", \"fatal\", \"fear\", \"fears\", \"feel\", \"feel\", \"feeling\", \"feeling\", \"film\", \"finally\", \"find\", \"fire\", \"fire\", \"fire\", \"fire\", \"fire\", \"first\", \"first\", \"first\", \"first\", \"first\", \"flight\", \"flood\", \"follow\", \"forest\", \"four\", \"four\", \"friends\", \"fucking\", \"fucking\", \"fun\", \"games\", \"get\", \"get\", \"get\", \"get\", \"get\", \"get\", \"get\", \"getting\", \"getting\", \"girl\", \"girl\", \"given\", \"giving\", \"go\", \"go\", \"go\", \"go\", \"go\", \"god\", \"goes\", \"going\", \"going\", \"going\", \"going\", \"going\", \"going\", \"good\", \"good\", \"good\", \"good\", \"got\", \"got\", \"got\", \"got\", \"got\", \"got\", \"group\", \"group\", \"gun\", \"haha\", \"happened\", \"harm\", \"hazard\", \"hazardous\", \"headed\", \"heard\", \"hearing\", \"heart\", \"heat\", \"heavy\", \"hell\", \"help\", \"help\", \"help\", \"hiroshima\", \"hiroshima\", \"hiroshima\", \"hollywood\", \"home\", \"home\", \"home\", \"homes\", \"homes\", \"homes\", \"honestly\", \"horrible\", \"horror\", \"hostage\", \"house\", \"house\", \"houses\", \"human\", \"hurricane\", \"i'm\", \"i'm\", \"i'm\", \"i'm\", \"i'm\", \"i'm\", \"i'm\", \"i'm\", \"i...\", \"im\", \"im\", \"indian\", \"industry\", \"information\", \"inner\", \"instead\", \"insurance\", \"insurer\", \"iraq\", \"islamic\", \"island\", \"israeli\", \"issued\", \"issues\", \"issues\", \"japan\", \"japanese\", \"killed\", \"killed\", \"killed\", \"kills\", \"king\", \"la\", \"lake\", \"land\", \"landing\", \"landslide\", \"landslide\", \"last\", \"last\", \"last\", \"last\", \"last\", \"late\", \"latest\", \"least\", \"leaving\", \"let's\", \"lets\", \"level\", \"life.\", \"like\", \"like\", \"like\", \"like\", \"like\", \"like\", \"like\", \"like\", \"like\", \"liked\", \"liked\", \"likely\", \"listen\", \"live\", \"live\", \"live\", \"look\", \"look\", \"look\", \"look\", \"looking\", \"looks\", \"lord\", \"lost\", \"lot\", \"lot\", \"lots\", \"love\", \"love\", \"love\", \"loving\", \"low\", \"make\", \"make\", \"make\", \"making\", \"making\", \"malaysia\", \"man\", \"man\", \"man\", \"man\", \"many\", \"many\", \"many\", \"map\", \"market\", \"mass\", \"mass\", \"mass\", \"maximum\", \"may\", \"may\", \"may\", \"maybe\", \"maybe\", \"mean\", \"meet\", \"meltdown\", \"memories\", \"mh370:\", \"military\", \"mill\", \"minute\", \"missing\", \"mosque\", \"mountain\", \"move\", \"movie\", \"movie\", \"moving\", \"mph\", \"murder\", \"murder\", \"national\", \"natural\", \"nearly\", \"new\", \"new\", \"new\", \"new\", \"new\", \"new\", \"new\", \"new\", \"new\", \"new\", \"news\", \"news\", \"news\", \"no.\", \"northern\", \"northern\", \"nuclear\", \"nuclear\", \"nuclear\", \"nuclear\", \"nuclear\", \"number\", \"obama\", \"ocean\", \"officer\", \"officials\", \"officials\", \"oil\", \"ok\", \"ok\", \"okay\", \"old\", \"old\", \"old\", \"one\", \"one\", \"one\", \"one\", \"one\", \"one\", \"one\", \"one\", \"one\", \"one\", \"online\", \"opens\", \"order\", \"original\", \"pain\", \"parents\", \"part\", \"part\", \"people\", \"people\", \"people\", \"people\", \"people\", \"people\", \"people\", \"people\", \"phone\", \"photos:\", \"pic\", \"piece\", \"pkk\", \"plane\", \"plans\", \"player\", \"playlist\", \"please\", \"pm:\", \"police\", \"police\", \"police\", \"police\", \"police\", \"policy\", \"president\", \"pretty\", \"pretty\", \"prevent\", \"price\", \"prime\", \"rain\", \"rain\", \"rate\", \"ready\", \"red\", \"related\", \"released\", \"remove\", \"report:\", \"rescued\", \"rescuers\", \"residents\", \"responders\", \"reuters\", \"riot\", \"rioting\", \"risk\", \"road\", \"road\", \"roads\", \"rocky\", \"room\", \"route\", \"rt\", \"rt\", \"rt\", \"rt?\", \"rule\", \"saipan:\", \"saudi\", \"saved\", \"saving\", \"screaming\", \"screaming\", \"sea\", \"searching\", \"season\", \"security\", \"see\", \"see\", \"see\", \"see\", \"seek\", \"seems\", \"send\", \"series\", \"seven\", \"severe\", \"severe\", \"shift\", \"ship\", \"shooting\", \"shots\", \"signs\", \"sinking\", \"sirens\", \"sirens\", \"site\", \"site\", \"sitting\", \"sky\", \"sleeping\", \"smoke\", \"smoke\", \"soldiers\", \"soon\", \"soudelor\", \"sound\", \"sounds\", \"spill\", \"spill\", \"spill\", \"spot\", \"starts\", \"state\", \"state\", \"state\", \"still\", \"still\", \"still\", \"still\", \"still\", \"still\", \"stock\", \"stone\", \"stories\", \"storm\", \"storm\", \"storm.\", \"story\", \"stream\", \"strong\", \"stuff\", \"suicide\", \"suicide\", \"suicide\", \"summer\", \"survive\", \"survived\", \"survivors\", \"suspect\", \"suspected\", \"tablet\", \"take\", \"take\", \"take\", \"talk\", \"tank\", \"terror\", \"terrorism\", \"terrorist\", \"test\", \"texas\", \"thanks\", \"that's\", \"that's\", \"that's\", \"that.\", \"there's\", \"there's\", \"think\", \"think\", \"think\", \"think\", \"threat\", \"three\", \"thunder\", \"thunderstorm\", \"tickets\", \"time\", \"time\", \"time\", \"time\", \"time\", \"time\", \"time.\", \"today\", \"today\", \"tonight\", \"tonight.\", \"too.\", \"tornado\", \"tragedy\", \"tragedy\", \"train\", \"train\", \"trapped\", \"trauma\", \"traumatised\", \"trip\", \"trying\", \"trying\", \"turkey\", \"typhoon\", \"typhoon-devastated\", \"u\", \"u\", \"u\", \"u.s.\", \"udhampur\", \"understand\", \"update:\", \"ur\", \"via\", \"via\", \"via\", \"via\", \"via\", \"via\", \"via\", \"via\", \"video\", \"video\", \"video:\", \"video:\", \"view\", \"village\", \"vinyl\", \"violent\", \"volcano\", \"waiting\", \"walk\", \"wanna\", \"wanna\", \"wants\", \"war\", \"war\", \"war\", \"war\", \"war\", \"warning\", \"warnings\", \"watch\", \"watch\", \"watch\", \"watch\", \"water\", \"wave\", \"waves\", \"way\", \"way\", \"way\", \"way\", \"weapon\", \"weapon\", \"weapons\", \"weather\", \"wedding\", \"weekend\", \"weird\", \"what's\", \"whole\", \"whole\", \"whole\", \"wild\", \"wild\", \"wild\", \"wildfire\", \"wildfire\", \"wind\", \"winds\", \"within\", \"without\", \"without\", \"woman\", \"woman\", \"words\", \"world\", \"world\", \"world\", \"world\", \"worse\", \"worst\", \"would\", \"would\", \"would\", \"would\", \"would\", \"would\", \"would\", \"wounded\", \"wtf\", \"years\", \"years\", \"years\", \"zone\", \"zone.\", \"\\u0089\\u00fb\\u00f3\"]}, \"R\": 30, \"lambda.step\": 0.01, \"plot.opts\": {\"xlab\": \"PC1\", \"ylab\": \"PC2\"}, \"topic.order\": [5, 8, 7, 6, 9, 3, 1, 2, 10, 4]};\n",
       "\n",
       "function LDAvis_load_lib(url, callback){\n",
       "  var s = document.createElement('script');\n",
       "  s.src = url;\n",
       "  s.async = true;\n",
       "  s.onreadystatechange = s.onload = callback;\n",
       "  s.onerror = function(){console.warn(\"failed to load library \" + url);};\n",
       "  document.getElementsByTagName(\"head\")[0].appendChild(s);\n",
       "}\n",
       "\n",
       "if(typeof(LDAvis) !== \"undefined\"){\n",
       "   // already loaded: just create the visualization\n",
       "   !function(LDAvis){\n",
       "       new LDAvis(\"#\" + \"ldavis_el161402087087074084067093673\", ldavis_el161402087087074084067093673_data);\n",
       "   }(LDAvis);\n",
       "}else if(typeof define === \"function\" && define.amd){\n",
       "   // require.js is available: use it to load d3/LDAvis\n",
       "   require.config({paths: {d3: \"https://cdnjs.cloudflare.com/ajax/libs/d3/3.5.5/d3.min\"}});\n",
       "   require([\"d3\"], function(d3){\n",
       "      window.d3 = d3;\n",
       "      LDAvis_load_lib(\"https://cdn.rawgit.com/bmabey/pyLDAvis/files/ldavis.v1.0.0.js\", function(){\n",
       "        new LDAvis(\"#\" + \"ldavis_el161402087087074084067093673\", ldavis_el161402087087074084067093673_data);\n",
       "      });\n",
       "    });\n",
       "}else{\n",
       "    // require.js not available: dynamically load d3 & LDAvis\n",
       "    LDAvis_load_lib(\"https://cdnjs.cloudflare.com/ajax/libs/d3/3.5.5/d3.min.js\", function(){\n",
       "         LDAvis_load_lib(\"https://cdn.rawgit.com/bmabey/pyLDAvis/files/ldavis.v1.0.0.js\", function(){\n",
       "                 new LDAvis(\"#\" + \"ldavis_el161402087087074084067093673\", ldavis_el161402087087074084067093673_data);\n",
       "            })\n",
       "         });\n",
       "}\n",
       "</script>"
      ],
      "text/plain": [
       "PreparedData(topic_coordinates=               x          y  topics  cluster       Freq\n",
       "topic                                                  \n",
       "4      32.420952   8.115230       1        1  36.075277\n",
       "7       0.648955  71.707100       2        1  12.516063\n",
       "6      71.019684   9.971006       3        1  12.387365\n",
       "5       3.785981  33.185135       4        1   8.596917\n",
       "8     -42.666500  -9.222070       5        1   5.076636\n",
       "2      -3.621689 -43.526516       6        1   5.070248\n",
       "0      -3.632402  -4.171708       7        1   5.069554\n",
       "1     -36.584400  35.804413       8        1   5.069535\n",
       "9      44.391380  50.615383       9        1   5.069518\n",
       "3      40.235809 -31.591665      10        1   5.068886, topic_info=           Term       Freq      Total Category  logprob  loglift\n",
       "2150    violent  33.000000  33.000000  Default  30.0000  30.0000\n",
       "1388  survivors  29.000000  29.000000  Default  29.0000  29.0000\n",
       "2482    suicide  13.000000  13.000000  Default  28.0000  28.0000\n",
       "140        like  27.000000  27.000000  Default  27.0000  27.0000\n",
       "5593    wounded  13.000000  13.000000  Default  26.0000  26.0000\n",
       "...         ...        ...        ...      ...      ...      ...\n",
       "5834   disaster   2.423944  13.968677  Topic10  -5.0702   1.2306\n",
       "760        many   1.823725   5.738308  Topic10  -5.3547   1.8358\n",
       "140        like   2.523840  27.216825  Topic10  -5.0298   0.6040\n",
       "914         via   1.701696  19.613104  Topic10  -5.4239   0.5375\n",
       "275         man   1.544768   6.368676  Topic10  -5.5207   1.5655\n",
       "\n",
       "[590 rows x 6 columns], token_table=       Topic      Freq         Term\n",
       "term                               \n",
       "4534       4  1.081490          #??\n",
       "10112     10  0.726215         #???\n",
       "9141       1  0.936543         #art\n",
       "12383      1  1.038569         #cnn\n",
       "0          1  1.003340  #earthquake\n",
       "...      ...       ...          ...\n",
       "283        8  0.486005        years\n",
       "283        9  0.243002        years\n",
       "9553       7  0.903933         zone\n",
       "1565       9  1.592459        zone.\n",
       "201        3  0.906731          ûó\n",
       "\n",
       "[793 rows x 3 columns], R=30, lambda_step=0.01, plot_opts={'xlab': 'PC1', 'ylab': 'PC2'}, topic_order=[5, 8, 7, 6, 9, 3, 1, 2, 10, 4])"
      ]
     },
     "execution_count": 66,
     "metadata": {},
     "output_type": "execute_result"
    }
   ],
   "source": [
    "import pyLDAvis.gensim\n",
    "pyLDAvis.enable_notebook()\n",
    "panel = pyLDAvis.gensim.prepare(lda, corpus_lda, dictionary, mds='tsne')\n",
    "panel"
   ]
  }
 ],
 "metadata": {
  "kernelspec": {
   "display_name": "Python 3",
   "language": "python",
   "name": "python3"
  },
  "language_info": {
   "codemirror_mode": {
    "name": "ipython",
    "version": 3
   },
   "file_extension": ".py",
   "mimetype": "text/x-python",
   "name": "python",
   "nbconvert_exporter": "python",
   "pygments_lexer": "ipython3",
   "version": "3.7.6"
  },
  "papermill": {
   "duration": 122.508881,
   "end_time": "2021-01-03T18:10:06.242657",
   "environment_variables": {},
   "exception": null,
   "input_path": "__notebook__.ipynb",
   "output_path": "__notebook__.ipynb",
   "parameters": {},
   "start_time": "2021-01-03T18:08:03.733776",
   "version": "2.1.0"
  }
 },
 "nbformat": 4,
 "nbformat_minor": 4
}
